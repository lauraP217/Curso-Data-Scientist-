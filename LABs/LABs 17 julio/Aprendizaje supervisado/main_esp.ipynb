{
  "cells": [
    {
      "cell_type": "markdown",
      "metadata": {
        "id": "r5_ZWCsz5ojt"
      },
      "source": [
        "# Índice de contenidos\n",
        "1. Antes de empezar\n",
        "\n",
        "2. Reto 1 - Explorar el conjunto de datos\n",
        "\n",
        "    2.0.0.1 Explore los datos a vista de pájaro.\n",
        "    \n",
        "    2.0.0.2 A continuación, evalúe si las columnas de este conjunto de datos están fuertemente correlacionadas.\n",
        "\n",
        "3. Reto 2 - Eliminar la colinealidad de columnas.\n",
        "\n",
        "4. Reto 3 - Manejar los valores perdidos\n",
        "\n",
        "    4.0.0.1 En las celdas siguientes, trate los valores que faltan en el conjunto de datos. Recuerde comentar los fundamentos de sus decisiones.\n",
        "    \n",
        "    4.0.0.2 De nuevo, examine el número de valores que faltan en cada columna.\n",
        "\n",
        "5. Reto 4 - Manejo de datos categóricos WHOIS_*\n",
        "    \n",
        "    5.0.0.1 En las celdas siguientes, fije los valores de los países como se ha indicado anteriormente.\n",
        "    \n",
        "    5.0.0.2 Si un número limitado de valores representa la mayoría de los datos, podemos conservar estos valores principales y volver a etiquetar todos los demás valores poco frecuentes.\n",
        "    \n",
        "    5.0.0.3 Después de comprobarlo, mantengamos los 10 valores principales de la columna y reetiquetemos las demás columnas con OTROS.\n",
        "    \n",
        "    5.0.0.4 En la siguiente celda, elimine ['WHOIS_STATEPRO', 'WHOIS_REGDATE', 'WHOIS_UPDATED_DATE'].\n",
        "\n",
        "6. Reto 5 - Manejar los datos categóricos restantes y convertirlos en ordinales\n",
        "    \n",
        "    6.0.0.1 URL es fácil. Simplemente la eliminaremos porque tiene demasiados valores únicos que no hay forma de consolidar.\n",
        "    \n",
        "    6.0.0.2 Imprima el conteo de valores únicos de CHARSET. Puede ver que sólo hay unos pocos valores únicos. Así que podemos dejarlo como está.\n",
        "    \n",
        "    6.0.0.3 Antes de pensar en su propia solución, no lea las instrucciones que vienen a continuación.\n",
        "\n",
        "7. Desafío 6 - Modelado, predicción y evaluación\n",
        "    \n",
        "    7.0.0.1 En este laboratorio probaremos dos modelos diferentes y compararemos nuestros resultados.\n",
        "    \n",
        "    7.0.0.2 Nuestro segundo algoritmo es DecisionTreeClassifier.\n",
        "    \n",
        "    7.0.0.3 Crearemos otro modelo DecisionTreeClassifier con max_depth=5.\n",
        "\n",
        "8. Bonus Challenge - Escalado de características"
      ]
    },
    {
      "cell_type": "markdown",
      "metadata": {
        "id": "d26b6zY55ojv"
      },
      "source": [
        "# Antes de empezar:\n",
        "- Lee el archivo README.md\n",
        "- Comenta todo lo que puedas y utiliza los recursos del archivo README.md\n",
        "- ¡Feliz aprendizaje!"
      ]
    },
    {
      "cell_type": "code",
      "execution_count": 5,
      "metadata": {
        "id": "Z8oA4nf05ojw"
      },
      "outputs": [],
      "source": [
        "# Import your libraries:\n",
        "\n",
        "%matplotlib inline\n",
        "\n",
        "import numpy as np\n",
        "import pandas as pd"
      ]
    },
    {
      "cell_type": "markdown",
      "metadata": {
        "id": "H6L3FPBO5ojw"
      },
      "source": [
        "En este laboratorio, exploraremos un conjunto de datos que describe sitios web con diferentes características y los etiqueta como benignos o maliciosos. Utilizaremos algoritmos de aprendizaje supervisado para averiguar qué patrones de características es probable que tengan los sitios web maliciosos y utilizaremos nuestro modelo para predecir sitios web maliciosos.\n",
        "\n",
        "Sus características serán:\n",
        "\n",
        "+ URL: es la identificación anónima de la URL analizada en el estudio\n",
        "+ URL_LENGTH: es el número de caracteres de la URL\n",
        "+ NUMBER_SPECIAL_CHARACTERS: es el número de caracteres especiales identificados en la URL, como, «/», «%», «#», «&», «. “, ”=»\n",
        "+ CHARSET: es un valor categórico y su significado es el estándar de codificación de caracteres (también llamado juego de caracteres).\n",
        "+ SERVER: es un valor categórico y su significado es el sistema operativo del servidor obtenido de la respuesta del paquete.\n",
        "+ CONTENT_LENGTH: representa el tamaño del contenido de la cabecera HTTP.\n",
        "+ WHOIS_COUNTRY: es una variable categórica, sus valores son los países que obtuvimos de la respuesta del servidor (en concreto, nuestro script utilizó la API de Whois).\n",
        "+ WHOIS_STATEPRO: es una variable categórica, sus valores son los estados que obtuvimos de la respuesta del servidor (en concreto, nuestro script utilizó la API de Whois).\n",
        "+ WHOIS_REGDATE: Whois proporciona la fecha de registro del servidor, por tanto, esta variable tiene valores de fecha con formato DD/MM/AAAA HH:MM\n",
        "+ WHOIS_UPDATED_DATE: A través del Whois obtenemos la última fecha de actualización del servidor analizado\n",
        "+ TCP_CONVERSATION_EXCHANGE: Esta variable es el número de paquetes TCP intercambiados entre el servidor y nuestro cliente honeypot\n",
        "+ DIST_REMOTE_TCP_PORT: es el número de puertos detectados y diferentes a TCP\n",
        "+ REMOTE_IPS: esta variable tiene el número total de IPs conectadas al honeypot\n",
        "+ APP_BYTES: es el número de bytes transferidos\n",
        "+ SOURCE_APP_PACKETS: paquetes enviados desde el honeypot al servidor\n",
        "+ REMOTE_APP_PACKETS: paquetes recibidos del servidor\n",
        "+ APP_PACKETS: número total de paquetes IP generados durante la comunicación entre el honeypot y el servidor.\n",
        "+ DNS_QUERY_TIMES: número de paquetes DNS generados durante la comunicación entre el honeypot y el servidor.\n",
        "+ TYPE: es una variable categórica, sus valores representan el tipo de página web analizada, en concreto, 1 es para sitios web maliciosos y 0 para sitios web benignos\n",
        "\n",
        "# Desafío 1 - Explorar el conjunto de datos\n",
        "\n",
        "Empecemos explorando el conjunto de datos. Primero carga el archivo de datos:"
      ]
    },
    {
      "cell_type": "code",
      "execution_count": 6,
      "metadata": {
        "id": "4GQlYRCK5ojx"
      },
      "outputs": [],
      "source": [
        "websites = pd.read_csv('website.csv')"
      ]
    },
    {
      "cell_type": "markdown",
      "metadata": {
        "id": "Qo_a1L0d5ojx"
      },
      "source": [
        "#### Explore los datos a vista de pájaro.\n",
        "\n",
        "Ahora ya deberías estar muy familiarizado con los procedimientos, así que no te daremos las instrucciones paso a paso. Reflexiona sobre lo que hiciste en los laboratorios anteriores y explora el conjunto de datos.\n",
        "\n",
        "Cosas que buscarás:\n",
        "\n",
        "* ¿Qué aspecto tiene el conjunto de datos?\n",
        "* ¿Cuáles son los tipos de datos?\n",
        "* ¿Qué columnas contienen las características de los sitios web?\n",
        "* ¿Qué columna contiene la característica que vamos a predecir? ¿Cuál es el código de los sitios web benignos frente a los maliciosos?\n",
        "* ¿Necesitamos transformar alguna de las columnas de categórica a ordinal? En caso afirmativo, ¿cuáles son esas columnas?\n",
        "\n",
        "Siéntete libre de añadir celdas adicionales para tus exploraciones. Asegúrate de comentar lo que descubras."
      ]
    },
    {
      "cell_type": "code",
      "execution_count": 7,
      "metadata": {
        "colab": {
          "base_uri": "https://localhost:8080/",
          "height": 325
        },
        "id": "A6uON97V5ojx",
        "outputId": "773193bb-60b3-4d02-a0d4-455c37c8d18b"
      },
      "outputs": [
        {
          "output_type": "execute_result",
          "data": {
            "text/plain": [
              "       URL  URL_LENGTH  NUMBER_SPECIAL_CHARACTERS     CHARSET  \\\n",
              "0   M0_109          16                          7  iso-8859-1   \n",
              "1  B0_2314          16                          6       UTF-8   \n",
              "2   B0_911          16                          6    us-ascii   \n",
              "3   B0_113          17                          6  ISO-8859-1   \n",
              "4   B0_403          17                          6       UTF-8   \n",
              "\n",
              "                  SERVER  CONTENT_LENGTH WHOIS_COUNTRY WHOIS_STATEPRO  \\\n",
              "0                  nginx           263.0           NaN            NaN   \n",
              "1          Apache/2.4.10         15087.0           NaN            NaN   \n",
              "2  Microsoft-HTTPAPI/2.0           324.0           NaN            NaN   \n",
              "3                  nginx           162.0            US             AK   \n",
              "4                    NaN        124140.0            US             TX   \n",
              "\n",
              "      WHOIS_REGDATE WHOIS_UPDATED_DATE  ...  DIST_REMOTE_TCP_PORT  REMOTE_IPS  \\\n",
              "0  10/10/2015 18:21                NaN  ...                     0           2   \n",
              "1               NaN                NaN  ...                     7           4   \n",
              "2               NaN                NaN  ...                     0           0   \n",
              "3    7/10/1997 4:00    12/09/2013 0:45  ...                    22           3   \n",
              "4   12/05/1996 0:00    11/04/2017 0:00  ...                     2           5   \n",
              "\n",
              "   APP_BYTES  SOURCE_APP_PACKETS  REMOTE_APP_PACKETS  SOURCE_APP_BYTES  \\\n",
              "0        700                   9                  10              1153   \n",
              "1       1230                  17                  19              1265   \n",
              "2          0                   0                   0                 0   \n",
              "3       3812                  39                  37             18784   \n",
              "4       4278                  61                  62            129889   \n",
              "\n",
              "   REMOTE_APP_BYTES  APP_PACKETS  DNS_QUERY_TIMES  Type  \n",
              "0               832            9              2.0     1  \n",
              "1              1230           17              0.0     0  \n",
              "2                 0            0              0.0     0  \n",
              "3              4380           39              8.0     0  \n",
              "4              4586           61              4.0     0  \n",
              "\n",
              "[5 rows x 21 columns]"
            ],
            "text/html": [
              "\n",
              "  <div id=\"df-93776ab0-587c-44aa-85a1-82f3ba55eef2\" class=\"colab-df-container\">\n",
              "    <div>\n",
              "<style scoped>\n",
              "    .dataframe tbody tr th:only-of-type {\n",
              "        vertical-align: middle;\n",
              "    }\n",
              "\n",
              "    .dataframe tbody tr th {\n",
              "        vertical-align: top;\n",
              "    }\n",
              "\n",
              "    .dataframe thead th {\n",
              "        text-align: right;\n",
              "    }\n",
              "</style>\n",
              "<table border=\"1\" class=\"dataframe\">\n",
              "  <thead>\n",
              "    <tr style=\"text-align: right;\">\n",
              "      <th></th>\n",
              "      <th>URL</th>\n",
              "      <th>URL_LENGTH</th>\n",
              "      <th>NUMBER_SPECIAL_CHARACTERS</th>\n",
              "      <th>CHARSET</th>\n",
              "      <th>SERVER</th>\n",
              "      <th>CONTENT_LENGTH</th>\n",
              "      <th>WHOIS_COUNTRY</th>\n",
              "      <th>WHOIS_STATEPRO</th>\n",
              "      <th>WHOIS_REGDATE</th>\n",
              "      <th>WHOIS_UPDATED_DATE</th>\n",
              "      <th>...</th>\n",
              "      <th>DIST_REMOTE_TCP_PORT</th>\n",
              "      <th>REMOTE_IPS</th>\n",
              "      <th>APP_BYTES</th>\n",
              "      <th>SOURCE_APP_PACKETS</th>\n",
              "      <th>REMOTE_APP_PACKETS</th>\n",
              "      <th>SOURCE_APP_BYTES</th>\n",
              "      <th>REMOTE_APP_BYTES</th>\n",
              "      <th>APP_PACKETS</th>\n",
              "      <th>DNS_QUERY_TIMES</th>\n",
              "      <th>Type</th>\n",
              "    </tr>\n",
              "  </thead>\n",
              "  <tbody>\n",
              "    <tr>\n",
              "      <th>0</th>\n",
              "      <td>M0_109</td>\n",
              "      <td>16</td>\n",
              "      <td>7</td>\n",
              "      <td>iso-8859-1</td>\n",
              "      <td>nginx</td>\n",
              "      <td>263.0</td>\n",
              "      <td>NaN</td>\n",
              "      <td>NaN</td>\n",
              "      <td>10/10/2015 18:21</td>\n",
              "      <td>NaN</td>\n",
              "      <td>...</td>\n",
              "      <td>0</td>\n",
              "      <td>2</td>\n",
              "      <td>700</td>\n",
              "      <td>9</td>\n",
              "      <td>10</td>\n",
              "      <td>1153</td>\n",
              "      <td>832</td>\n",
              "      <td>9</td>\n",
              "      <td>2.0</td>\n",
              "      <td>1</td>\n",
              "    </tr>\n",
              "    <tr>\n",
              "      <th>1</th>\n",
              "      <td>B0_2314</td>\n",
              "      <td>16</td>\n",
              "      <td>6</td>\n",
              "      <td>UTF-8</td>\n",
              "      <td>Apache/2.4.10</td>\n",
              "      <td>15087.0</td>\n",
              "      <td>NaN</td>\n",
              "      <td>NaN</td>\n",
              "      <td>NaN</td>\n",
              "      <td>NaN</td>\n",
              "      <td>...</td>\n",
              "      <td>7</td>\n",
              "      <td>4</td>\n",
              "      <td>1230</td>\n",
              "      <td>17</td>\n",
              "      <td>19</td>\n",
              "      <td>1265</td>\n",
              "      <td>1230</td>\n",
              "      <td>17</td>\n",
              "      <td>0.0</td>\n",
              "      <td>0</td>\n",
              "    </tr>\n",
              "    <tr>\n",
              "      <th>2</th>\n",
              "      <td>B0_911</td>\n",
              "      <td>16</td>\n",
              "      <td>6</td>\n",
              "      <td>us-ascii</td>\n",
              "      <td>Microsoft-HTTPAPI/2.0</td>\n",
              "      <td>324.0</td>\n",
              "      <td>NaN</td>\n",
              "      <td>NaN</td>\n",
              "      <td>NaN</td>\n",
              "      <td>NaN</td>\n",
              "      <td>...</td>\n",
              "      <td>0</td>\n",
              "      <td>0</td>\n",
              "      <td>0</td>\n",
              "      <td>0</td>\n",
              "      <td>0</td>\n",
              "      <td>0</td>\n",
              "      <td>0</td>\n",
              "      <td>0</td>\n",
              "      <td>0.0</td>\n",
              "      <td>0</td>\n",
              "    </tr>\n",
              "    <tr>\n",
              "      <th>3</th>\n",
              "      <td>B0_113</td>\n",
              "      <td>17</td>\n",
              "      <td>6</td>\n",
              "      <td>ISO-8859-1</td>\n",
              "      <td>nginx</td>\n",
              "      <td>162.0</td>\n",
              "      <td>US</td>\n",
              "      <td>AK</td>\n",
              "      <td>7/10/1997 4:00</td>\n",
              "      <td>12/09/2013 0:45</td>\n",
              "      <td>...</td>\n",
              "      <td>22</td>\n",
              "      <td>3</td>\n",
              "      <td>3812</td>\n",
              "      <td>39</td>\n",
              "      <td>37</td>\n",
              "      <td>18784</td>\n",
              "      <td>4380</td>\n",
              "      <td>39</td>\n",
              "      <td>8.0</td>\n",
              "      <td>0</td>\n",
              "    </tr>\n",
              "    <tr>\n",
              "      <th>4</th>\n",
              "      <td>B0_403</td>\n",
              "      <td>17</td>\n",
              "      <td>6</td>\n",
              "      <td>UTF-8</td>\n",
              "      <td>NaN</td>\n",
              "      <td>124140.0</td>\n",
              "      <td>US</td>\n",
              "      <td>TX</td>\n",
              "      <td>12/05/1996 0:00</td>\n",
              "      <td>11/04/2017 0:00</td>\n",
              "      <td>...</td>\n",
              "      <td>2</td>\n",
              "      <td>5</td>\n",
              "      <td>4278</td>\n",
              "      <td>61</td>\n",
              "      <td>62</td>\n",
              "      <td>129889</td>\n",
              "      <td>4586</td>\n",
              "      <td>61</td>\n",
              "      <td>4.0</td>\n",
              "      <td>0</td>\n",
              "    </tr>\n",
              "  </tbody>\n",
              "</table>\n",
              "<p>5 rows × 21 columns</p>\n",
              "</div>\n",
              "    <div class=\"colab-df-buttons\">\n",
              "\n",
              "  <div class=\"colab-df-container\">\n",
              "    <button class=\"colab-df-convert\" onclick=\"convertToInteractive('df-93776ab0-587c-44aa-85a1-82f3ba55eef2')\"\n",
              "            title=\"Convert this dataframe to an interactive table.\"\n",
              "            style=\"display:none;\">\n",
              "\n",
              "  <svg xmlns=\"http://www.w3.org/2000/svg\" height=\"24px\" viewBox=\"0 -960 960 960\">\n",
              "    <path d=\"M120-120v-720h720v720H120Zm60-500h600v-160H180v160Zm220 220h160v-160H400v160Zm0 220h160v-160H400v160ZM180-400h160v-160H180v160Zm440 0h160v-160H620v160ZM180-180h160v-160H180v160Zm440 0h160v-160H620v160Z\"/>\n",
              "  </svg>\n",
              "    </button>\n",
              "\n",
              "  <style>\n",
              "    .colab-df-container {\n",
              "      display:flex;\n",
              "      gap: 12px;\n",
              "    }\n",
              "\n",
              "    .colab-df-convert {\n",
              "      background-color: #E8F0FE;\n",
              "      border: none;\n",
              "      border-radius: 50%;\n",
              "      cursor: pointer;\n",
              "      display: none;\n",
              "      fill: #1967D2;\n",
              "      height: 32px;\n",
              "      padding: 0 0 0 0;\n",
              "      width: 32px;\n",
              "    }\n",
              "\n",
              "    .colab-df-convert:hover {\n",
              "      background-color: #E2EBFA;\n",
              "      box-shadow: 0px 1px 2px rgba(60, 64, 67, 0.3), 0px 1px 3px 1px rgba(60, 64, 67, 0.15);\n",
              "      fill: #174EA6;\n",
              "    }\n",
              "\n",
              "    .colab-df-buttons div {\n",
              "      margin-bottom: 4px;\n",
              "    }\n",
              "\n",
              "    [theme=dark] .colab-df-convert {\n",
              "      background-color: #3B4455;\n",
              "      fill: #D2E3FC;\n",
              "    }\n",
              "\n",
              "    [theme=dark] .colab-df-convert:hover {\n",
              "      background-color: #434B5C;\n",
              "      box-shadow: 0px 1px 3px 1px rgba(0, 0, 0, 0.15);\n",
              "      filter: drop-shadow(0px 1px 2px rgba(0, 0, 0, 0.3));\n",
              "      fill: #FFFFFF;\n",
              "    }\n",
              "  </style>\n",
              "\n",
              "    <script>\n",
              "      const buttonEl =\n",
              "        document.querySelector('#df-93776ab0-587c-44aa-85a1-82f3ba55eef2 button.colab-df-convert');\n",
              "      buttonEl.style.display =\n",
              "        google.colab.kernel.accessAllowed ? 'block' : 'none';\n",
              "\n",
              "      async function convertToInteractive(key) {\n",
              "        const element = document.querySelector('#df-93776ab0-587c-44aa-85a1-82f3ba55eef2');\n",
              "        const dataTable =\n",
              "          await google.colab.kernel.invokeFunction('convertToInteractive',\n",
              "                                                    [key], {});\n",
              "        if (!dataTable) return;\n",
              "\n",
              "        const docLinkHtml = 'Like what you see? Visit the ' +\n",
              "          '<a target=\"_blank\" href=https://colab.research.google.com/notebooks/data_table.ipynb>data table notebook</a>'\n",
              "          + ' to learn more about interactive tables.';\n",
              "        element.innerHTML = '';\n",
              "        dataTable['output_type'] = 'display_data';\n",
              "        await google.colab.output.renderOutput(dataTable, element);\n",
              "        const docLink = document.createElement('div');\n",
              "        docLink.innerHTML = docLinkHtml;\n",
              "        element.appendChild(docLink);\n",
              "      }\n",
              "    </script>\n",
              "  </div>\n",
              "\n",
              "\n",
              "<div id=\"df-b715d380-d3bc-4e53-ac5d-e1555a3bc3ef\">\n",
              "  <button class=\"colab-df-quickchart\" onclick=\"quickchart('df-b715d380-d3bc-4e53-ac5d-e1555a3bc3ef')\"\n",
              "            title=\"Suggest charts\"\n",
              "            style=\"display:none;\">\n",
              "\n",
              "<svg xmlns=\"http://www.w3.org/2000/svg\" height=\"24px\"viewBox=\"0 0 24 24\"\n",
              "     width=\"24px\">\n",
              "    <g>\n",
              "        <path d=\"M19 3H5c-1.1 0-2 .9-2 2v14c0 1.1.9 2 2 2h14c1.1 0 2-.9 2-2V5c0-1.1-.9-2-2-2zM9 17H7v-7h2v7zm4 0h-2V7h2v10zm4 0h-2v-4h2v4z\"/>\n",
              "    </g>\n",
              "</svg>\n",
              "  </button>\n",
              "\n",
              "<style>\n",
              "  .colab-df-quickchart {\n",
              "      --bg-color: #E8F0FE;\n",
              "      --fill-color: #1967D2;\n",
              "      --hover-bg-color: #E2EBFA;\n",
              "      --hover-fill-color: #174EA6;\n",
              "      --disabled-fill-color: #AAA;\n",
              "      --disabled-bg-color: #DDD;\n",
              "  }\n",
              "\n",
              "  [theme=dark] .colab-df-quickchart {\n",
              "      --bg-color: #3B4455;\n",
              "      --fill-color: #D2E3FC;\n",
              "      --hover-bg-color: #434B5C;\n",
              "      --hover-fill-color: #FFFFFF;\n",
              "      --disabled-bg-color: #3B4455;\n",
              "      --disabled-fill-color: #666;\n",
              "  }\n",
              "\n",
              "  .colab-df-quickchart {\n",
              "    background-color: var(--bg-color);\n",
              "    border: none;\n",
              "    border-radius: 50%;\n",
              "    cursor: pointer;\n",
              "    display: none;\n",
              "    fill: var(--fill-color);\n",
              "    height: 32px;\n",
              "    padding: 0;\n",
              "    width: 32px;\n",
              "  }\n",
              "\n",
              "  .colab-df-quickchart:hover {\n",
              "    background-color: var(--hover-bg-color);\n",
              "    box-shadow: 0 1px 2px rgba(60, 64, 67, 0.3), 0 1px 3px 1px rgba(60, 64, 67, 0.15);\n",
              "    fill: var(--button-hover-fill-color);\n",
              "  }\n",
              "\n",
              "  .colab-df-quickchart-complete:disabled,\n",
              "  .colab-df-quickchart-complete:disabled:hover {\n",
              "    background-color: var(--disabled-bg-color);\n",
              "    fill: var(--disabled-fill-color);\n",
              "    box-shadow: none;\n",
              "  }\n",
              "\n",
              "  .colab-df-spinner {\n",
              "    border: 2px solid var(--fill-color);\n",
              "    border-color: transparent;\n",
              "    border-bottom-color: var(--fill-color);\n",
              "    animation:\n",
              "      spin 1s steps(1) infinite;\n",
              "  }\n",
              "\n",
              "  @keyframes spin {\n",
              "    0% {\n",
              "      border-color: transparent;\n",
              "      border-bottom-color: var(--fill-color);\n",
              "      border-left-color: var(--fill-color);\n",
              "    }\n",
              "    20% {\n",
              "      border-color: transparent;\n",
              "      border-left-color: var(--fill-color);\n",
              "      border-top-color: var(--fill-color);\n",
              "    }\n",
              "    30% {\n",
              "      border-color: transparent;\n",
              "      border-left-color: var(--fill-color);\n",
              "      border-top-color: var(--fill-color);\n",
              "      border-right-color: var(--fill-color);\n",
              "    }\n",
              "    40% {\n",
              "      border-color: transparent;\n",
              "      border-right-color: var(--fill-color);\n",
              "      border-top-color: var(--fill-color);\n",
              "    }\n",
              "    60% {\n",
              "      border-color: transparent;\n",
              "      border-right-color: var(--fill-color);\n",
              "    }\n",
              "    80% {\n",
              "      border-color: transparent;\n",
              "      border-right-color: var(--fill-color);\n",
              "      border-bottom-color: var(--fill-color);\n",
              "    }\n",
              "    90% {\n",
              "      border-color: transparent;\n",
              "      border-bottom-color: var(--fill-color);\n",
              "    }\n",
              "  }\n",
              "</style>\n",
              "\n",
              "  <script>\n",
              "    async function quickchart(key) {\n",
              "      const quickchartButtonEl =\n",
              "        document.querySelector('#' + key + ' button');\n",
              "      quickchartButtonEl.disabled = true;  // To prevent multiple clicks.\n",
              "      quickchartButtonEl.classList.add('colab-df-spinner');\n",
              "      try {\n",
              "        const charts = await google.colab.kernel.invokeFunction(\n",
              "            'suggestCharts', [key], {});\n",
              "      } catch (error) {\n",
              "        console.error('Error during call to suggestCharts:', error);\n",
              "      }\n",
              "      quickchartButtonEl.classList.remove('colab-df-spinner');\n",
              "      quickchartButtonEl.classList.add('colab-df-quickchart-complete');\n",
              "    }\n",
              "    (() => {\n",
              "      let quickchartButtonEl =\n",
              "        document.querySelector('#df-b715d380-d3bc-4e53-ac5d-e1555a3bc3ef button');\n",
              "      quickchartButtonEl.style.display =\n",
              "        google.colab.kernel.accessAllowed ? 'block' : 'none';\n",
              "    })();\n",
              "  </script>\n",
              "</div>\n",
              "\n",
              "    </div>\n",
              "  </div>\n"
            ],
            "application/vnd.google.colaboratory.intrinsic+json": {
              "type": "dataframe",
              "variable_name": "websites"
            }
          },
          "metadata": {},
          "execution_count": 7
        }
      ],
      "source": [
        "# What the dataset looks like?\n",
        "websites.head(5)"
      ]
    },
    {
      "cell_type": "code",
      "source": [
        "websites.shape"
      ],
      "metadata": {
        "colab": {
          "base_uri": "https://localhost:8080/"
        },
        "id": "pkgWWcaH9iYS",
        "outputId": "a1d676b3-043a-49c1-9e9b-48d3bdfd5802"
      },
      "execution_count": 8,
      "outputs": [
        {
          "output_type": "execute_result",
          "data": {
            "text/plain": [
              "(1781, 21)"
            ]
          },
          "metadata": {},
          "execution_count": 8
        }
      ]
    },
    {
      "cell_type": "code",
      "source": [
        "websites.isnull().sum()"
      ],
      "metadata": {
        "colab": {
          "base_uri": "https://localhost:8080/"
        },
        "id": "wUpJBz-Q9uSj",
        "outputId": "709b4ac1-67c5-4df8-e8f6-49e067734ea2"
      },
      "execution_count": 9,
      "outputs": [
        {
          "output_type": "execute_result",
          "data": {
            "text/plain": [
              "URL                            0\n",
              "URL_LENGTH                     0\n",
              "NUMBER_SPECIAL_CHARACTERS      0\n",
              "CHARSET                        7\n",
              "SERVER                       176\n",
              "CONTENT_LENGTH               812\n",
              "WHOIS_COUNTRY                306\n",
              "WHOIS_STATEPRO               362\n",
              "WHOIS_REGDATE                127\n",
              "WHOIS_UPDATED_DATE           139\n",
              "TCP_CONVERSATION_EXCHANGE      0\n",
              "DIST_REMOTE_TCP_PORT           0\n",
              "REMOTE_IPS                     0\n",
              "APP_BYTES                      0\n",
              "SOURCE_APP_PACKETS             0\n",
              "REMOTE_APP_PACKETS             0\n",
              "SOURCE_APP_BYTES               0\n",
              "REMOTE_APP_BYTES               0\n",
              "APP_PACKETS                    0\n",
              "DNS_QUERY_TIMES                1\n",
              "Type                           0\n",
              "dtype: int64"
            ]
          },
          "metadata": {},
          "execution_count": 9
        }
      ]
    },
    {
      "cell_type": "code",
      "source": [
        "websites.describe()"
      ],
      "metadata": {
        "colab": {
          "base_uri": "https://localhost:8080/",
          "height": 320
        },
        "id": "X1ci1ktJ9dcy",
        "outputId": "fccf36f6-1729-4cff-af91-ad2be374c59e"
      },
      "execution_count": 10,
      "outputs": [
        {
          "output_type": "execute_result",
          "data": {
            "text/plain": [
              "        URL_LENGTH  NUMBER_SPECIAL_CHARACTERS  CONTENT_LENGTH  \\\n",
              "count  1781.000000                1781.000000      969.000000   \n",
              "mean     56.961258                  11.111735    11726.927761   \n",
              "std      27.555586                   4.549896    36391.809051   \n",
              "min      16.000000                   5.000000        0.000000   \n",
              "25%      39.000000                   8.000000      324.000000   \n",
              "50%      49.000000                  10.000000     1853.000000   \n",
              "75%      68.000000                  13.000000    11323.000000   \n",
              "max     249.000000                  43.000000   649263.000000   \n",
              "\n",
              "       TCP_CONVERSATION_EXCHANGE  DIST_REMOTE_TCP_PORT   REMOTE_IPS  \\\n",
              "count                1781.000000           1781.000000  1781.000000   \n",
              "mean                   16.261089              5.472768     3.060640   \n",
              "std                    40.500975             21.807327     3.386975   \n",
              "min                     0.000000              0.000000     0.000000   \n",
              "25%                     0.000000              0.000000     0.000000   \n",
              "50%                     7.000000              0.000000     2.000000   \n",
              "75%                    22.000000              5.000000     5.000000   \n",
              "max                  1194.000000            708.000000    17.000000   \n",
              "\n",
              "          APP_BYTES  SOURCE_APP_PACKETS  REMOTE_APP_PACKETS  SOURCE_APP_BYTES  \\\n",
              "count  1.781000e+03         1781.000000         1781.000000      1.781000e+03   \n",
              "mean   2.982339e+03           18.540146           18.746210      1.589255e+04   \n",
              "std    5.605057e+04           41.627173           46.397969      6.986193e+04   \n",
              "min    0.000000e+00            0.000000            0.000000      0.000000e+00   \n",
              "25%    0.000000e+00            0.000000            0.000000      0.000000e+00   \n",
              "50%    6.720000e+02            8.000000            9.000000      5.790000e+02   \n",
              "75%    2.328000e+03           26.000000           25.000000      9.806000e+03   \n",
              "max    2.362906e+06         1198.000000         1284.000000      2.060012e+06   \n",
              "\n",
              "       REMOTE_APP_BYTES  APP_PACKETS  DNS_QUERY_TIMES         Type  \n",
              "count      1.781000e+03  1781.000000      1780.000000  1781.000000  \n",
              "mean       3.155599e+03    18.540146         2.263483     0.121280  \n",
              "std        5.605378e+04    41.627173         2.930853     0.326544  \n",
              "min        0.000000e+00     0.000000         0.000000     0.000000  \n",
              "25%        0.000000e+00     0.000000         0.000000     0.000000  \n",
              "50%        7.350000e+02     8.000000         0.000000     0.000000  \n",
              "75%        2.701000e+03    26.000000         4.000000     0.000000  \n",
              "max        2.362906e+06  1198.000000        20.000000     1.000000  "
            ],
            "text/html": [
              "\n",
              "  <div id=\"df-ba01ddb2-a12e-4f07-9505-5448c54547d8\" class=\"colab-df-container\">\n",
              "    <div>\n",
              "<style scoped>\n",
              "    .dataframe tbody tr th:only-of-type {\n",
              "        vertical-align: middle;\n",
              "    }\n",
              "\n",
              "    .dataframe tbody tr th {\n",
              "        vertical-align: top;\n",
              "    }\n",
              "\n",
              "    .dataframe thead th {\n",
              "        text-align: right;\n",
              "    }\n",
              "</style>\n",
              "<table border=\"1\" class=\"dataframe\">\n",
              "  <thead>\n",
              "    <tr style=\"text-align: right;\">\n",
              "      <th></th>\n",
              "      <th>URL_LENGTH</th>\n",
              "      <th>NUMBER_SPECIAL_CHARACTERS</th>\n",
              "      <th>CONTENT_LENGTH</th>\n",
              "      <th>TCP_CONVERSATION_EXCHANGE</th>\n",
              "      <th>DIST_REMOTE_TCP_PORT</th>\n",
              "      <th>REMOTE_IPS</th>\n",
              "      <th>APP_BYTES</th>\n",
              "      <th>SOURCE_APP_PACKETS</th>\n",
              "      <th>REMOTE_APP_PACKETS</th>\n",
              "      <th>SOURCE_APP_BYTES</th>\n",
              "      <th>REMOTE_APP_BYTES</th>\n",
              "      <th>APP_PACKETS</th>\n",
              "      <th>DNS_QUERY_TIMES</th>\n",
              "      <th>Type</th>\n",
              "    </tr>\n",
              "  </thead>\n",
              "  <tbody>\n",
              "    <tr>\n",
              "      <th>count</th>\n",
              "      <td>1781.000000</td>\n",
              "      <td>1781.000000</td>\n",
              "      <td>969.000000</td>\n",
              "      <td>1781.000000</td>\n",
              "      <td>1781.000000</td>\n",
              "      <td>1781.000000</td>\n",
              "      <td>1.781000e+03</td>\n",
              "      <td>1781.000000</td>\n",
              "      <td>1781.000000</td>\n",
              "      <td>1.781000e+03</td>\n",
              "      <td>1.781000e+03</td>\n",
              "      <td>1781.000000</td>\n",
              "      <td>1780.000000</td>\n",
              "      <td>1781.000000</td>\n",
              "    </tr>\n",
              "    <tr>\n",
              "      <th>mean</th>\n",
              "      <td>56.961258</td>\n",
              "      <td>11.111735</td>\n",
              "      <td>11726.927761</td>\n",
              "      <td>16.261089</td>\n",
              "      <td>5.472768</td>\n",
              "      <td>3.060640</td>\n",
              "      <td>2.982339e+03</td>\n",
              "      <td>18.540146</td>\n",
              "      <td>18.746210</td>\n",
              "      <td>1.589255e+04</td>\n",
              "      <td>3.155599e+03</td>\n",
              "      <td>18.540146</td>\n",
              "      <td>2.263483</td>\n",
              "      <td>0.121280</td>\n",
              "    </tr>\n",
              "    <tr>\n",
              "      <th>std</th>\n",
              "      <td>27.555586</td>\n",
              "      <td>4.549896</td>\n",
              "      <td>36391.809051</td>\n",
              "      <td>40.500975</td>\n",
              "      <td>21.807327</td>\n",
              "      <td>3.386975</td>\n",
              "      <td>5.605057e+04</td>\n",
              "      <td>41.627173</td>\n",
              "      <td>46.397969</td>\n",
              "      <td>6.986193e+04</td>\n",
              "      <td>5.605378e+04</td>\n",
              "      <td>41.627173</td>\n",
              "      <td>2.930853</td>\n",
              "      <td>0.326544</td>\n",
              "    </tr>\n",
              "    <tr>\n",
              "      <th>min</th>\n",
              "      <td>16.000000</td>\n",
              "      <td>5.000000</td>\n",
              "      <td>0.000000</td>\n",
              "      <td>0.000000</td>\n",
              "      <td>0.000000</td>\n",
              "      <td>0.000000</td>\n",
              "      <td>0.000000e+00</td>\n",
              "      <td>0.000000</td>\n",
              "      <td>0.000000</td>\n",
              "      <td>0.000000e+00</td>\n",
              "      <td>0.000000e+00</td>\n",
              "      <td>0.000000</td>\n",
              "      <td>0.000000</td>\n",
              "      <td>0.000000</td>\n",
              "    </tr>\n",
              "    <tr>\n",
              "      <th>25%</th>\n",
              "      <td>39.000000</td>\n",
              "      <td>8.000000</td>\n",
              "      <td>324.000000</td>\n",
              "      <td>0.000000</td>\n",
              "      <td>0.000000</td>\n",
              "      <td>0.000000</td>\n",
              "      <td>0.000000e+00</td>\n",
              "      <td>0.000000</td>\n",
              "      <td>0.000000</td>\n",
              "      <td>0.000000e+00</td>\n",
              "      <td>0.000000e+00</td>\n",
              "      <td>0.000000</td>\n",
              "      <td>0.000000</td>\n",
              "      <td>0.000000</td>\n",
              "    </tr>\n",
              "    <tr>\n",
              "      <th>50%</th>\n",
              "      <td>49.000000</td>\n",
              "      <td>10.000000</td>\n",
              "      <td>1853.000000</td>\n",
              "      <td>7.000000</td>\n",
              "      <td>0.000000</td>\n",
              "      <td>2.000000</td>\n",
              "      <td>6.720000e+02</td>\n",
              "      <td>8.000000</td>\n",
              "      <td>9.000000</td>\n",
              "      <td>5.790000e+02</td>\n",
              "      <td>7.350000e+02</td>\n",
              "      <td>8.000000</td>\n",
              "      <td>0.000000</td>\n",
              "      <td>0.000000</td>\n",
              "    </tr>\n",
              "    <tr>\n",
              "      <th>75%</th>\n",
              "      <td>68.000000</td>\n",
              "      <td>13.000000</td>\n",
              "      <td>11323.000000</td>\n",
              "      <td>22.000000</td>\n",
              "      <td>5.000000</td>\n",
              "      <td>5.000000</td>\n",
              "      <td>2.328000e+03</td>\n",
              "      <td>26.000000</td>\n",
              "      <td>25.000000</td>\n",
              "      <td>9.806000e+03</td>\n",
              "      <td>2.701000e+03</td>\n",
              "      <td>26.000000</td>\n",
              "      <td>4.000000</td>\n",
              "      <td>0.000000</td>\n",
              "    </tr>\n",
              "    <tr>\n",
              "      <th>max</th>\n",
              "      <td>249.000000</td>\n",
              "      <td>43.000000</td>\n",
              "      <td>649263.000000</td>\n",
              "      <td>1194.000000</td>\n",
              "      <td>708.000000</td>\n",
              "      <td>17.000000</td>\n",
              "      <td>2.362906e+06</td>\n",
              "      <td>1198.000000</td>\n",
              "      <td>1284.000000</td>\n",
              "      <td>2.060012e+06</td>\n",
              "      <td>2.362906e+06</td>\n",
              "      <td>1198.000000</td>\n",
              "      <td>20.000000</td>\n",
              "      <td>1.000000</td>\n",
              "    </tr>\n",
              "  </tbody>\n",
              "</table>\n",
              "</div>\n",
              "    <div class=\"colab-df-buttons\">\n",
              "\n",
              "  <div class=\"colab-df-container\">\n",
              "    <button class=\"colab-df-convert\" onclick=\"convertToInteractive('df-ba01ddb2-a12e-4f07-9505-5448c54547d8')\"\n",
              "            title=\"Convert this dataframe to an interactive table.\"\n",
              "            style=\"display:none;\">\n",
              "\n",
              "  <svg xmlns=\"http://www.w3.org/2000/svg\" height=\"24px\" viewBox=\"0 -960 960 960\">\n",
              "    <path d=\"M120-120v-720h720v720H120Zm60-500h600v-160H180v160Zm220 220h160v-160H400v160Zm0 220h160v-160H400v160ZM180-400h160v-160H180v160Zm440 0h160v-160H620v160ZM180-180h160v-160H180v160Zm440 0h160v-160H620v160Z\"/>\n",
              "  </svg>\n",
              "    </button>\n",
              "\n",
              "  <style>\n",
              "    .colab-df-container {\n",
              "      display:flex;\n",
              "      gap: 12px;\n",
              "    }\n",
              "\n",
              "    .colab-df-convert {\n",
              "      background-color: #E8F0FE;\n",
              "      border: none;\n",
              "      border-radius: 50%;\n",
              "      cursor: pointer;\n",
              "      display: none;\n",
              "      fill: #1967D2;\n",
              "      height: 32px;\n",
              "      padding: 0 0 0 0;\n",
              "      width: 32px;\n",
              "    }\n",
              "\n",
              "    .colab-df-convert:hover {\n",
              "      background-color: #E2EBFA;\n",
              "      box-shadow: 0px 1px 2px rgba(60, 64, 67, 0.3), 0px 1px 3px 1px rgba(60, 64, 67, 0.15);\n",
              "      fill: #174EA6;\n",
              "    }\n",
              "\n",
              "    .colab-df-buttons div {\n",
              "      margin-bottom: 4px;\n",
              "    }\n",
              "\n",
              "    [theme=dark] .colab-df-convert {\n",
              "      background-color: #3B4455;\n",
              "      fill: #D2E3FC;\n",
              "    }\n",
              "\n",
              "    [theme=dark] .colab-df-convert:hover {\n",
              "      background-color: #434B5C;\n",
              "      box-shadow: 0px 1px 3px 1px rgba(0, 0, 0, 0.15);\n",
              "      filter: drop-shadow(0px 1px 2px rgba(0, 0, 0, 0.3));\n",
              "      fill: #FFFFFF;\n",
              "    }\n",
              "  </style>\n",
              "\n",
              "    <script>\n",
              "      const buttonEl =\n",
              "        document.querySelector('#df-ba01ddb2-a12e-4f07-9505-5448c54547d8 button.colab-df-convert');\n",
              "      buttonEl.style.display =\n",
              "        google.colab.kernel.accessAllowed ? 'block' : 'none';\n",
              "\n",
              "      async function convertToInteractive(key) {\n",
              "        const element = document.querySelector('#df-ba01ddb2-a12e-4f07-9505-5448c54547d8');\n",
              "        const dataTable =\n",
              "          await google.colab.kernel.invokeFunction('convertToInteractive',\n",
              "                                                    [key], {});\n",
              "        if (!dataTable) return;\n",
              "\n",
              "        const docLinkHtml = 'Like what you see? Visit the ' +\n",
              "          '<a target=\"_blank\" href=https://colab.research.google.com/notebooks/data_table.ipynb>data table notebook</a>'\n",
              "          + ' to learn more about interactive tables.';\n",
              "        element.innerHTML = '';\n",
              "        dataTable['output_type'] = 'display_data';\n",
              "        await google.colab.output.renderOutput(dataTable, element);\n",
              "        const docLink = document.createElement('div');\n",
              "        docLink.innerHTML = docLinkHtml;\n",
              "        element.appendChild(docLink);\n",
              "      }\n",
              "    </script>\n",
              "  </div>\n",
              "\n",
              "\n",
              "<div id=\"df-78589c3d-3dd8-407a-97dd-c3ad4e7d16cf\">\n",
              "  <button class=\"colab-df-quickchart\" onclick=\"quickchart('df-78589c3d-3dd8-407a-97dd-c3ad4e7d16cf')\"\n",
              "            title=\"Suggest charts\"\n",
              "            style=\"display:none;\">\n",
              "\n",
              "<svg xmlns=\"http://www.w3.org/2000/svg\" height=\"24px\"viewBox=\"0 0 24 24\"\n",
              "     width=\"24px\">\n",
              "    <g>\n",
              "        <path d=\"M19 3H5c-1.1 0-2 .9-2 2v14c0 1.1.9 2 2 2h14c1.1 0 2-.9 2-2V5c0-1.1-.9-2-2-2zM9 17H7v-7h2v7zm4 0h-2V7h2v10zm4 0h-2v-4h2v4z\"/>\n",
              "    </g>\n",
              "</svg>\n",
              "  </button>\n",
              "\n",
              "<style>\n",
              "  .colab-df-quickchart {\n",
              "      --bg-color: #E8F0FE;\n",
              "      --fill-color: #1967D2;\n",
              "      --hover-bg-color: #E2EBFA;\n",
              "      --hover-fill-color: #174EA6;\n",
              "      --disabled-fill-color: #AAA;\n",
              "      --disabled-bg-color: #DDD;\n",
              "  }\n",
              "\n",
              "  [theme=dark] .colab-df-quickchart {\n",
              "      --bg-color: #3B4455;\n",
              "      --fill-color: #D2E3FC;\n",
              "      --hover-bg-color: #434B5C;\n",
              "      --hover-fill-color: #FFFFFF;\n",
              "      --disabled-bg-color: #3B4455;\n",
              "      --disabled-fill-color: #666;\n",
              "  }\n",
              "\n",
              "  .colab-df-quickchart {\n",
              "    background-color: var(--bg-color);\n",
              "    border: none;\n",
              "    border-radius: 50%;\n",
              "    cursor: pointer;\n",
              "    display: none;\n",
              "    fill: var(--fill-color);\n",
              "    height: 32px;\n",
              "    padding: 0;\n",
              "    width: 32px;\n",
              "  }\n",
              "\n",
              "  .colab-df-quickchart:hover {\n",
              "    background-color: var(--hover-bg-color);\n",
              "    box-shadow: 0 1px 2px rgba(60, 64, 67, 0.3), 0 1px 3px 1px rgba(60, 64, 67, 0.15);\n",
              "    fill: var(--button-hover-fill-color);\n",
              "  }\n",
              "\n",
              "  .colab-df-quickchart-complete:disabled,\n",
              "  .colab-df-quickchart-complete:disabled:hover {\n",
              "    background-color: var(--disabled-bg-color);\n",
              "    fill: var(--disabled-fill-color);\n",
              "    box-shadow: none;\n",
              "  }\n",
              "\n",
              "  .colab-df-spinner {\n",
              "    border: 2px solid var(--fill-color);\n",
              "    border-color: transparent;\n",
              "    border-bottom-color: var(--fill-color);\n",
              "    animation:\n",
              "      spin 1s steps(1) infinite;\n",
              "  }\n",
              "\n",
              "  @keyframes spin {\n",
              "    0% {\n",
              "      border-color: transparent;\n",
              "      border-bottom-color: var(--fill-color);\n",
              "      border-left-color: var(--fill-color);\n",
              "    }\n",
              "    20% {\n",
              "      border-color: transparent;\n",
              "      border-left-color: var(--fill-color);\n",
              "      border-top-color: var(--fill-color);\n",
              "    }\n",
              "    30% {\n",
              "      border-color: transparent;\n",
              "      border-left-color: var(--fill-color);\n",
              "      border-top-color: var(--fill-color);\n",
              "      border-right-color: var(--fill-color);\n",
              "    }\n",
              "    40% {\n",
              "      border-color: transparent;\n",
              "      border-right-color: var(--fill-color);\n",
              "      border-top-color: var(--fill-color);\n",
              "    }\n",
              "    60% {\n",
              "      border-color: transparent;\n",
              "      border-right-color: var(--fill-color);\n",
              "    }\n",
              "    80% {\n",
              "      border-color: transparent;\n",
              "      border-right-color: var(--fill-color);\n",
              "      border-bottom-color: var(--fill-color);\n",
              "    }\n",
              "    90% {\n",
              "      border-color: transparent;\n",
              "      border-bottom-color: var(--fill-color);\n",
              "    }\n",
              "  }\n",
              "</style>\n",
              "\n",
              "  <script>\n",
              "    async function quickchart(key) {\n",
              "      const quickchartButtonEl =\n",
              "        document.querySelector('#' + key + ' button');\n",
              "      quickchartButtonEl.disabled = true;  // To prevent multiple clicks.\n",
              "      quickchartButtonEl.classList.add('colab-df-spinner');\n",
              "      try {\n",
              "        const charts = await google.colab.kernel.invokeFunction(\n",
              "            'suggestCharts', [key], {});\n",
              "      } catch (error) {\n",
              "        console.error('Error during call to suggestCharts:', error);\n",
              "      }\n",
              "      quickchartButtonEl.classList.remove('colab-df-spinner');\n",
              "      quickchartButtonEl.classList.add('colab-df-quickchart-complete');\n",
              "    }\n",
              "    (() => {\n",
              "      let quickchartButtonEl =\n",
              "        document.querySelector('#df-78589c3d-3dd8-407a-97dd-c3ad4e7d16cf button');\n",
              "      quickchartButtonEl.style.display =\n",
              "        google.colab.kernel.accessAllowed ? 'block' : 'none';\n",
              "    })();\n",
              "  </script>\n",
              "</div>\n",
              "\n",
              "    </div>\n",
              "  </div>\n"
            ],
            "application/vnd.google.colaboratory.intrinsic+json": {
              "type": "dataframe",
              "summary": "{\n  \"name\": \"websites\",\n  \"rows\": 8,\n  \"fields\": [\n    {\n      \"column\": \"URL_LENGTH\",\n      \"properties\": {\n        \"dtype\": \"number\",\n        \"std\": 608.6575375185914,\n        \"min\": 16.0,\n        \"max\": 1781.0,\n        \"num_unique_values\": 8,\n        \"samples\": [\n          56.96125772038181,\n          49.0,\n          1781.0\n        ],\n        \"semantic_type\": \"\",\n        \"description\": \"\"\n      }\n    },\n    {\n      \"column\": \"NUMBER_SPECIAL_CHARACTERS\",\n      \"properties\": {\n        \"dtype\": \"number\",\n        \"std\": 625.0198685968703,\n        \"min\": 4.54989595750355,\n        \"max\": 1781.0,\n        \"num_unique_values\": 8,\n        \"samples\": [\n          11.11173498034812,\n          10.0,\n          1781.0\n        ],\n        \"semantic_type\": \"\",\n        \"description\": \"\"\n      }\n    },\n    {\n      \"column\": \"CONTENT_LENGTH\",\n      \"properties\": {\n        \"dtype\": \"number\",\n        \"std\": 226714.28895271587,\n        \"min\": 0.0,\n        \"max\": 649263.0,\n        \"num_unique_values\": 8,\n        \"samples\": [\n          11726.927760577915,\n          1853.0,\n          969.0\n        ],\n        \"semantic_type\": \"\",\n        \"description\": \"\"\n      }\n    },\n    {\n      \"column\": \"TCP_CONVERSATION_EXCHANGE\",\n      \"properties\": {\n        \"dtype\": \"number\",\n        \"std\": 699.8981252561398,\n        \"min\": 0.0,\n        \"max\": 1781.0,\n        \"num_unique_values\": 7,\n        \"samples\": [\n          1781.0,\n          16.261089275687816,\n          22.0\n        ],\n        \"semantic_type\": \"\",\n        \"description\": \"\"\n      }\n    },\n    {\n      \"column\": \"DIST_REMOTE_TCP_PORT\",\n      \"properties\": {\n        \"dtype\": \"number\",\n        \"std\": 641.3321900493218,\n        \"min\": 0.0,\n        \"max\": 1781.0,\n        \"num_unique_values\": 6,\n        \"samples\": [\n          1781.0,\n          5.472768107804604,\n          708.0\n        ],\n        \"semantic_type\": \"\",\n        \"description\": \"\"\n      }\n    },\n    {\n      \"column\": \"REMOTE_IPS\",\n      \"properties\": {\n        \"dtype\": \"number\",\n        \"std\": 628.1642222962513,\n        \"min\": 0.0,\n        \"max\": 1781.0,\n        \"num_unique_values\": 7,\n        \"samples\": [\n          1781.0,\n          3.06064008983717,\n          5.0\n        ],\n        \"semantic_type\": \"\",\n        \"description\": \"\"\n      }\n    },\n    {\n      \"column\": \"APP_BYTES\",\n      \"properties\": {\n        \"dtype\": \"number\",\n        \"std\": 832411.5720248756,\n        \"min\": 0.0,\n        \"max\": 2362906.0,\n        \"num_unique_values\": 7,\n        \"samples\": [\n          1781.0,\n          2982.3391353172374,\n          2328.0\n        ],\n        \"semantic_type\": \"\",\n        \"description\": \"\"\n      }\n    },\n    {\n      \"column\": \"SOURCE_APP_PACKETS\",\n      \"properties\": {\n        \"dtype\": \"number\",\n        \"std\": 699.9425371303961,\n        \"min\": 0.0,\n        \"max\": 1781.0,\n        \"num_unique_values\": 7,\n        \"samples\": [\n          1781.0,\n          18.54014598540146,\n          26.0\n        ],\n        \"semantic_type\": \"\",\n        \"description\": \"\"\n      }\n    },\n    {\n      \"column\": \"REMOTE_APP_PACKETS\",\n      \"properties\": {\n        \"dtype\": \"number\",\n        \"std\": 714.3779655724037,\n        \"min\": 0.0,\n        \"max\": 1781.0,\n        \"num_unique_values\": 7,\n        \"samples\": [\n          1781.0,\n          18.746209994385175,\n          25.0\n        ],\n        \"semantic_type\": \"\",\n        \"description\": \"\"\n      }\n    },\n    {\n      \"column\": \"SOURCE_APP_BYTES\",\n      \"properties\": {\n        \"dtype\": \"number\",\n        \"std\": 723759.8552063262,\n        \"min\": 0.0,\n        \"max\": 2060012.0,\n        \"num_unique_values\": 7,\n        \"samples\": [\n          1781.0,\n          15892.545760808534,\n          9806.0\n        ],\n        \"semantic_type\": \"\",\n        \"description\": \"\"\n      }\n    },\n    {\n      \"column\": \"REMOTE_APP_BYTES\",\n      \"properties\": {\n        \"dtype\": \"number\",\n        \"std\": 832379.973918784,\n        \"min\": 0.0,\n        \"max\": 2362906.0,\n        \"num_unique_values\": 7,\n        \"samples\": [\n          1781.0,\n          3155.598540145985,\n          2701.0\n        ],\n        \"semantic_type\": \"\",\n        \"description\": \"\"\n      }\n    },\n    {\n      \"column\": \"APP_PACKETS\",\n      \"properties\": {\n        \"dtype\": \"number\",\n        \"std\": 699.9425371303961,\n        \"min\": 0.0,\n        \"max\": 1781.0,\n        \"num_unique_values\": 7,\n        \"samples\": [\n          1781.0,\n          18.54014598540146,\n          26.0\n        ],\n        \"semantic_type\": \"\",\n        \"description\": \"\"\n      }\n    },\n    {\n      \"column\": \"DNS_QUERY_TIMES\",\n      \"properties\": {\n        \"dtype\": \"number\",\n        \"std\": 627.8855326983781,\n        \"min\": 0.0,\n        \"max\": 1780.0,\n        \"num_unique_values\": 6,\n        \"samples\": [\n          1780.0,\n          2.263483146067416,\n          20.0\n        ],\n        \"semantic_type\": \"\",\n        \"description\": \"\"\n      }\n    },\n    {\n      \"column\": \"Type\",\n      \"properties\": {\n        \"dtype\": \"number\",\n        \"std\": 629.6055557107936,\n        \"min\": 0.0,\n        \"max\": 1781.0,\n        \"num_unique_values\": 5,\n        \"samples\": [\n          0.12128017967434025,\n          1.0,\n          0.3265442836860838\n        ],\n        \"semantic_type\": \"\",\n        \"description\": \"\"\n      }\n    }\n  ]\n}"
            }
          },
          "metadata": {},
          "execution_count": 10
        }
      ]
    },
    {
      "cell_type": "code",
      "execution_count": 11,
      "metadata": {
        "colab": {
          "base_uri": "https://localhost:8080/"
        },
        "id": "TLIRiIKf5ojx",
        "outputId": "ec03bf9d-6b62-488b-bdf5-aad244c45a49"
      },
      "outputs": [
        {
          "output_type": "stream",
          "name": "stdout",
          "text": [
            "<class 'pandas.core.frame.DataFrame'>\n",
            "RangeIndex: 1781 entries, 0 to 1780\n",
            "Data columns (total 21 columns):\n",
            " #   Column                     Non-Null Count  Dtype  \n",
            "---  ------                     --------------  -----  \n",
            " 0   URL                        1781 non-null   object \n",
            " 1   URL_LENGTH                 1781 non-null   int64  \n",
            " 2   NUMBER_SPECIAL_CHARACTERS  1781 non-null   int64  \n",
            " 3   CHARSET                    1774 non-null   object \n",
            " 4   SERVER                     1605 non-null   object \n",
            " 5   CONTENT_LENGTH             969 non-null    float64\n",
            " 6   WHOIS_COUNTRY              1475 non-null   object \n",
            " 7   WHOIS_STATEPRO             1419 non-null   object \n",
            " 8   WHOIS_REGDATE              1654 non-null   object \n",
            " 9   WHOIS_UPDATED_DATE         1642 non-null   object \n",
            " 10  TCP_CONVERSATION_EXCHANGE  1781 non-null   int64  \n",
            " 11  DIST_REMOTE_TCP_PORT       1781 non-null   int64  \n",
            " 12  REMOTE_IPS                 1781 non-null   int64  \n",
            " 13  APP_BYTES                  1781 non-null   int64  \n",
            " 14  SOURCE_APP_PACKETS         1781 non-null   int64  \n",
            " 15  REMOTE_APP_PACKETS         1781 non-null   int64  \n",
            " 16  SOURCE_APP_BYTES           1781 non-null   int64  \n",
            " 17  REMOTE_APP_BYTES           1781 non-null   int64  \n",
            " 18  APP_PACKETS                1781 non-null   int64  \n",
            " 19  DNS_QUERY_TIMES            1780 non-null   float64\n",
            " 20  Type                       1781 non-null   int64  \n",
            "dtypes: float64(2), int64(12), object(7)\n",
            "memory usage: 292.3+ KB\n"
          ]
        }
      ],
      "source": [
        "# What are the data types?\n",
        "websites.info()"
      ]
    },
    {
      "cell_type": "code",
      "execution_count": 12,
      "metadata": {
        "id": "_Y_8hlNA5ojx"
      },
      "outputs": [],
      "source": [
        "# Which columns contain the features of the websites?\n",
        "\n",
        "# URL\tURL_LENGTH\tNUMBER_SPECIAL_CHARACTERS\tCHARSET\tSERVER\tCONTENT_LENGTH\tWHOIS_COUNTRY\tWHOIS_STATEPRO\tWHOIS_REGDATE\tWHOIS_UPDATED_DATE,TCP_CONVERSATION_EXCHANGE\n",
        "#DIST_REMOTE_TCP_PORT\tREMOTE_IPS\tAPP_BYTES\tSOURCE_APP_PACKETS\tREMOTE_APP_PACKETS\tSOURCE_APP_BYTES\tREMOTE_APP_BYTES\tAPP_PACKETS\tDNS_QUERY_TIMES\n"
      ]
    },
    {
      "cell_type": "code",
      "execution_count": 13,
      "metadata": {
        "colab": {
          "base_uri": "https://localhost:8080/"
        },
        "id": "q63m9mjP5ojx",
        "outputId": "75e28d4d-02db-48d8-c0b6-5bb9b022169d"
      },
      "outputs": [
        {
          "output_type": "execute_result",
          "data": {
            "text/plain": [
              "Type\n",
              "0    1565\n",
              "1     216\n",
              "Name: count, dtype: int64"
            ]
          },
          "metadata": {},
          "execution_count": 13
        }
      ],
      "source": [
        "# Which column contains the feature we will predict? What is the code standing for benign vs malicious websites?\n",
        "websites[\"Type\"].value_counts()"
      ]
    },
    {
      "cell_type": "code",
      "execution_count": 14,
      "metadata": {
        "id": "b7f2BH7k5ojx"
      },
      "outputs": [],
      "source": [
        "# 0 for bening 1 for maliciuos websites"
      ]
    },
    {
      "cell_type": "code",
      "execution_count": 15,
      "metadata": {
        "id": "SqSKl3Fb5ojy"
      },
      "outputs": [],
      "source": [
        "# Do we need to transform any of the columns from categorical to ordinal values? If so what are these columns?\n",
        "#Si son 4: CHARSET, SERVER\t,WHOIS_COUNTRY\ty WHOIS_STATEPRO\n"
      ]
    },
    {
      "cell_type": "markdown",
      "metadata": {
        "id": "S4zbxEis5ojy"
      },
      "source": [
        "#### A continuación, evalúe si las columnas de este conjunto de datos están fuertemente correlacionadas.\n",
        "\n",
        "En el laboratorio de aprendizaje supervisado Mushroom que hicimos recientemente, mencionamos que nos preocupa si nuestro conjunto de datos tiene columnas fuertemente correlacionadas porque si es el caso tenemos que elegir ciertos algoritmos de ML en lugar de otros. Ahora tenemos que evaluar esto para nuestro conjunto de datos.\n",
        "\n",
        "Por suerte, la mayoría de las columnas de este conjunto de datos son ordinales, lo que nos facilita mucho las cosas. En las siguientes celdas, evalúe el nivel de colinealidad de los datos.\n",
        "\n",
        "Aquí tienes algunas indicaciones generales que puede consultar para completar este paso:\n",
        "\n",
        "1. Crea una matriz de correlaciones utilizando las columnas numéricas del conjunto de datos.\n",
        "\n",
        "2. Crea un mapa de calor utilizando `seaborn` para visualizar qué columnas tienen una alta colinealidad.\n",
        "\n",
        "3. Comenta qué columnas podría necesitar eliminar debido a la alta colinealidad."
      ]
    },
    {
      "cell_type": "code",
      "execution_count": 16,
      "metadata": {
        "colab": {
          "base_uri": "https://localhost:8080/",
          "height": 1000
        },
        "id": "hnocbZwq5ojy",
        "outputId": "20b11644-6b4a-4d28-d136-4a972eb0ec58"
      },
      "outputs": [
        {
          "output_type": "display_data",
          "data": {
            "text/plain": [
              "<Figure size 1050x1050 with 2 Axes>"
            ],
            "image/png": "[encoded data removed]"
          },
          "metadata": {}
        }
      ],
      "source": [
        "# Your code here\n",
        "import seaborn as sns\n",
        "import matplotlib.pyplot as plt\n",
        "\n",
        "var_num= websites.select_dtypes(include=['int64', 'float64'])\n",
        "corr = var_num.corr()\n",
        "\n",
        "fig, axes = plt.subplots( figsize=(10.5, 10.5))\n",
        "sns.heatmap(corr,annot = True,cmap= sns.diverging_palette(220, 20, n=200))\n",
        "plt.tight_layout()\n",
        "plt.show()"
      ]
    },
    {
      "cell_type": "markdown",
      "metadata": {
        "id": "hp-K4Vf95ojy"
      },
      "source": [
        "### Este es un ejemplo para conocer la importancia de las características usando un modelo ML"
      ]
    },
    {
      "cell_type": "code",
      "execution_count": 17,
      "metadata": {
        "id": "NMxcbzVg5ojy"
      },
      "outputs": [],
      "source": [
        "#! pip install xgboost"
      ]
    },
    {
      "cell_type": "code",
      "execution_count": 18,
      "metadata": {
        "id": "FXQ3zoDZ5ojy"
      },
      "outputs": [],
      "source": [
        "#X = websites._get_numeric_data().drop('Type', axis=1)\n",
        "#y = websites.Type"
      ]
    },
    {
      "cell_type": "code",
      "execution_count": 19,
      "metadata": {
        "id": "Z2V63LqD5ojy"
      },
      "outputs": [],
      "source": [
        "#from xgboost import XGBClassifier\n",
        "#import xgboost as xgb\n",
        "#xgb.fit(X,y)"
      ]
    },
    {
      "cell_type": "code",
      "execution_count": 20,
      "metadata": {
        "id": "FJ7MRRkR5ojy"
      },
      "outputs": [],
      "source": [
        "#sort_idx = xgb.feature_importances_.argsort()"
      ]
    },
    {
      "cell_type": "code",
      "execution_count": 21,
      "metadata": {
        "scrolled": true,
        "id": "s-tKU4HB5ojy"
      },
      "outputs": [],
      "source": [
        "#plt.barh(X.columns[sort_idx],xgb.feature_importances_[sort_idx])\n",
        "#plt.show();"
      ]
    },
    {
      "cell_type": "markdown",
      "metadata": {
        "id": "nEm8Ydua5ojy"
      },
      "source": [
        "    En el gráfico anterior podemos ver las características con menor peso en el conjunto de datos."
      ]
    },
    {
      "cell_type": "markdown",
      "metadata": {
        "id": "nHvPMUWP5ojz"
      },
      "source": [
        "# Desafío 2 - Eliminar la colinealidad de columnas.\n",
        "\n",
        "En el mapa de calor que ha creado, deberías haber visto al menos 3 columnas que pueden eliminarse debido a la alta colinealidad. Elimina estas columnas del conjunto de datos.\n",
        "\n",
        "Ten en cuenta que debes eliminar el menor número posible de columnas. No tienes que eliminar todas las columnas a la vez. En su lugar, intenta eliminar una columna y, a continuación, vuelve a elaborar el mapa térmico para determinar si deben eliminarse columnas adicionales. Cuando el conjunto de datos ya no contenga columnas correlacionadas en más de un 90%, puedes parar. Además, ten en cuenta que cuando dos columnas tienen una alta colinealidad, sólo necesitas eliminar una de ellas, pero no ambas.\n",
        "\n",
        "En las celdas de abajo, elimina tantas columnas como puedas para eliminar la alta colinealidad en el conjunto de datos. Asegúrate de comentar tu camino para que se pueda conocer tu razonamiento, lo que permitirá dar feedback. Al final, vuelve a imprimir el mapa de calor."
      ]
    },
    {
      "cell_type": "code",
      "execution_count": 22,
      "metadata": {
        "id": "5e73cq9W5ojz"
      },
      "outputs": [],
      "source": [
        "X = websites._get_numeric_data().drop('Type', axis=1)"
      ]
    },
    {
      "cell_type": "code",
      "execution_count": 23,
      "metadata": {
        "id": "af9Tkm5n5ojz"
      },
      "outputs": [],
      "source": [
        "# REMOVE THE 4 COLUMNS WITH MORE COLLINEARITY\n",
        "var_num = var_num.drop(['REMOTE_APP_PACKETS'],axis=1)"
      ]
    },
    {
      "cell_type": "code",
      "source": [
        "corr = var_num.corr()\n",
        "\n",
        "fig, axes = plt.subplots( figsize=(10.5, 10.5))\n",
        "sns.heatmap(corr,annot = True,cmap= sns.diverging_palette(220, 20, n=200))\n",
        "plt.tight_layout()\n",
        "plt.show()"
      ],
      "metadata": {
        "colab": {
          "base_uri": "https://localhost:8080/",
          "height": 1000
        },
        "id": "vuE6fPseKPAT",
        "outputId": "19e439c4-867d-47d4-a5b8-0853d6ed8ae4"
      },
      "execution_count": 24,
      "outputs": [
        {
          "output_type": "display_data",
          "data": {
            "text/plain": [
              "<Figure size 1050x1050 with 2 Axes>"
            ],
            "image/png": "[encoded data removed]"
          },
          "metadata": {}
        }
      ]
    },
    {
      "cell_type": "code",
      "source": [
        "var_num = var_num.drop(['NUMBER_SPECIAL_CHARACTERS'],axis=1)"
      ],
      "metadata": {
        "id": "XYDhCAARKs_7"
      },
      "execution_count": 25,
      "outputs": []
    },
    {
      "cell_type": "code",
      "source": [
        "corr = var_num.corr()\n",
        "\n",
        "fig, axes = plt.subplots( figsize=(10.5, 10.5))\n",
        "sns.heatmap(corr,annot = True,cmap= sns.diverging_palette(220, 20, n=200))\n",
        "plt.tight_layout()\n",
        "plt.show()"
      ],
      "metadata": {
        "colab": {
          "base_uri": "https://localhost:8080/",
          "height": 1000
        },
        "id": "cm0yAxuAKvt7",
        "outputId": "79020365-2197-4149-fbd4-2060be19864f"
      },
      "execution_count": 26,
      "outputs": [
        {
          "output_type": "display_data",
          "data": {
            "text/plain": [
              "<Figure size 1050x1050 with 2 Axes>"
            ],
            "image/png": "[encoded data removed]"
          },
          "metadata": {}
        }
      ]
    },
    {
      "cell_type": "markdown",
      "metadata": {
        "id": "Sz2L6FEz5ojz"
      },
      "source": [
        "# Reto 3 - Manejar los valores que faltan\n",
        "\n",
        "El siguiente paso sería manejar los valores faltantes. **Comenzamos examinando el número de valores que faltan en cada columna.**"
      ]
    },
    {
      "cell_type": "code",
      "source": [
        "websites.shape"
      ],
      "metadata": {
        "colab": {
          "base_uri": "https://localhost:8080/"
        },
        "id": "8adzkupML0Bj",
        "outputId": "2fc3dac3-5653-4d7b-f84f-40de5dbdb596"
      },
      "execution_count": 27,
      "outputs": [
        {
          "output_type": "execute_result",
          "data": {
            "text/plain": [
              "(1781, 21)"
            ]
          },
          "metadata": {},
          "execution_count": 27
        }
      ]
    },
    {
      "cell_type": "code",
      "execution_count": 28,
      "metadata": {
        "colab": {
          "base_uri": "https://localhost:8080/"
        },
        "id": "IgHCGpAw5ojz",
        "outputId": "b6131780-250c-4696-c0b2-a00b69802ff7"
      },
      "outputs": [
        {
          "output_type": "execute_result",
          "data": {
            "text/plain": [
              "URL                            0\n",
              "URL_LENGTH                     0\n",
              "NUMBER_SPECIAL_CHARACTERS      0\n",
              "CHARSET                        7\n",
              "SERVER                       176\n",
              "CONTENT_LENGTH               812\n",
              "WHOIS_COUNTRY                306\n",
              "WHOIS_STATEPRO               362\n",
              "WHOIS_REGDATE                127\n",
              "WHOIS_UPDATED_DATE           139\n",
              "TCP_CONVERSATION_EXCHANGE      0\n",
              "DIST_REMOTE_TCP_PORT           0\n",
              "REMOTE_IPS                     0\n",
              "APP_BYTES                      0\n",
              "SOURCE_APP_PACKETS             0\n",
              "REMOTE_APP_PACKETS             0\n",
              "SOURCE_APP_BYTES               0\n",
              "REMOTE_APP_BYTES               0\n",
              "APP_PACKETS                    0\n",
              "DNS_QUERY_TIMES                1\n",
              "Type                           0\n",
              "dtype: int64"
            ]
          },
          "metadata": {},
          "execution_count": 28
        }
      ],
      "source": [
        "# Your code here\n",
        "websites.isnull().sum()"
      ]
    },
    {
      "cell_type": "code",
      "execution_count": 29,
      "metadata": {
        "id": "oe6hfxNl5ojz"
      },
      "outputs": [],
      "source": [
        "# Firts we will drop the columns with more than 50% of missing data\n",
        "# No hay ninguna, la que tiene más nulls es CONTENT_LENGTH que tiene un 45.5%, pero la eliminamos porque es un numero cercano y poder seguir las instrucciones del ejercicio\n",
        "websites = websites.drop(['CONTENT_LENGTH'],axis=1)"
      ]
    },
    {
      "cell_type": "code",
      "execution_count": 30,
      "metadata": {
        "id": "tHVZcxHA5ojz"
      },
      "outputs": [],
      "source": [
        "# Now we will drop the rows with missing data\n",
        "websites =  websites.dropna()"
      ]
    },
    {
      "cell_type": "markdown",
      "metadata": {
        "id": "KdoSYDxU5ojz"
      },
      "source": [
        "#### De nuevo, examina el número de valores que faltan en cada columna.\n",
        "\n",
        "    Si todos están limpios, procede. Si no, vuelve atrás y haz más limpieza."
      ]
    },
    {
      "cell_type": "code",
      "execution_count": 31,
      "metadata": {
        "colab": {
          "base_uri": "https://localhost:8080/"
        },
        "id": "f3OowH_95ojz",
        "outputId": "f3b4b4d6-828f-4899-f40c-076f0b2269b2"
      },
      "outputs": [
        {
          "output_type": "execute_result",
          "data": {
            "text/plain": [
              "URL                          0\n",
              "URL_LENGTH                   0\n",
              "NUMBER_SPECIAL_CHARACTERS    0\n",
              "CHARSET                      0\n",
              "SERVER                       0\n",
              "WHOIS_COUNTRY                0\n",
              "WHOIS_STATEPRO               0\n",
              "WHOIS_REGDATE                0\n",
              "WHOIS_UPDATED_DATE           0\n",
              "TCP_CONVERSATION_EXCHANGE    0\n",
              "DIST_REMOTE_TCP_PORT         0\n",
              "REMOTE_IPS                   0\n",
              "APP_BYTES                    0\n",
              "SOURCE_APP_PACKETS           0\n",
              "REMOTE_APP_PACKETS           0\n",
              "SOURCE_APP_BYTES             0\n",
              "REMOTE_APP_BYTES             0\n",
              "APP_PACKETS                  0\n",
              "DNS_QUERY_TIMES              0\n",
              "Type                         0\n",
              "dtype: int64"
            ]
          },
          "metadata": {},
          "execution_count": 31
        }
      ],
      "source": [
        "# Examine missing values in each column\n",
        "websites.isnull().sum()"
      ]
    },
    {
      "cell_type": "markdown",
      "metadata": {
        "id": "W7vY6B4K5ojz"
      },
      "source": [
        "# Reto 4 - Manejar datos categóricos `WHOIS_*"
      ]
    },
    {
      "cell_type": "markdown",
      "metadata": {
        "id": "DN__G54F5ojz"
      },
      "source": [
        "Hay varias columnas categóricas que necesitamos manejar. Estas columnas son:\n",
        "\n",
        "* URL\n",
        "* CHARSET\n",
        "* SERVIDOR\n",
        "* PAÍS\n",
        "* «WHOIS_STATEPRO\n",
        "* WHOIS_REGDATE\n",
        "* WHOIS_UPDATED_DATE\n",
        "\n",
        "La forma de tratar las columnas de cadena es siempre caso por caso. Empecemos trabajando con `WHOIS_COUNTRY`. Tus pasos son:\n",
        "\n",
        "1. Enumera los valores únicos de `WHOIS_COUNTRY`.\n",
        "1. Consolide los valores de país con códigos de país coherentes. Por ejemplo, los siguientes valores se refieren al mismo país y deben utilizar un código de país coherente:\n",
        "    * `CY` y `Cyprus`.\n",
        "    * US y US\n",
        "    * SE y SE\n",
        "    * GB, Reino Unido y GB, Reino Unido.\n",
        "\n",
        "#### En las celdas de abajo, fija los valores de los países como se indica arriba."
      ]
    },
    {
      "cell_type": "code",
      "execution_count": 32,
      "metadata": {
        "scrolled": true,
        "colab": {
          "base_uri": "https://localhost:8080/"
        },
        "id": "CadBYnuA5oj0",
        "outputId": "1ef773d7-3637-47a8-840e-7a5f330eae97"
      },
      "outputs": [
        {
          "output_type": "execute_result",
          "data": {
            "text/plain": [
              "WHOIS_COUNTRY\n",
              "US                957\n",
              "CA                 75\n",
              "ES                 63\n",
              "AU                 26\n",
              "PA                 21\n",
              "GB                 13\n",
              "JP                 10\n",
              "CZ                  8\n",
              "CN                  8\n",
              "IN                  8\n",
              "NL                  5\n",
              "[u'GB'; u'UK']      5\n",
              "CH                  5\n",
              "BS                  4\n",
              "UK                  4\n",
              "ru                  4\n",
              "AT                  4\n",
              "KY                  3\n",
              "PH                  3\n",
              "SC                  3\n",
              "us                  3\n",
              "HK                  2\n",
              "UA                  2\n",
              "UY                  2\n",
              "KG                  2\n",
              "SI                  2\n",
              "RU                  2\n",
              "TR                  1\n",
              "UG                  1\n",
              "PK                  1\n",
              "IL                  1\n",
              "DE                  1\n",
              "SE                  1\n",
              "IT                  1\n",
              "NO                  1\n",
              "BE                  1\n",
              "BY                  1\n",
              "AE                  1\n",
              "IE                  1\n",
              "LV                  1\n",
              "Name: count, dtype: int64"
            ]
          },
          "metadata": {},
          "execution_count": 32
        }
      ],
      "source": [
        "websites.WHOIS_COUNTRY.value_counts()"
      ]
    },
    {
      "cell_type": "code",
      "execution_count": 33,
      "metadata": {
        "id": "EUUAKu3J5oj0"
      },
      "outputs": [],
      "source": [
        "# Your code here\n",
        "good_country = {'None':'None',\n",
        "                'US':'US',\n",
        "                'SC':'SC',\n",
        "                'GB':'UK',\n",
        "                'UK':'UK',\n",
        "                'RU':'RU',\n",
        "                'AU':'AU',\n",
        "                'CA':'CA',\n",
        "                'PA':'PA',\n",
        "                'se':'SE',\n",
        "                'IN':'IN',\n",
        "                'LU':'LU',\n",
        "                'TH':'TH',\n",
        "                \"[u'GB'; u'UK']\":'UK',\n",
        "                'FR':'FR',\n",
        "                'NL':'NL',\n",
        "                'UG':'UG',\n",
        "                'JP':'JP',\n",
        "                'CN':'CN',\n",
        "                'SE':'SE',\n",
        "                'SI':'SI',\n",
        "                'IL':'IL',\n",
        "                'ru':'RU',\n",
        "                'KY':'KY',\n",
        "                'AT':'AT',\n",
        "                'CZ':'CZ',\n",
        "                'PH':'PH',\n",
        "                'BE':'BE',\n",
        "                'NO':'NO',\n",
        "                'TR':'TR',\n",
        "                'LV':'LV',\n",
        "                'DE':'DE',\n",
        "                'ES':'ES',\n",
        "                'BR':'BR',\n",
        "                'us':'US',\n",
        "                'KR':'KR',\n",
        "                'HK':'HK',\n",
        "                'UA':'UA',\n",
        "                'CH':'CH',\n",
        "                'United Kingdom':'UK',\n",
        "                'BS':'BS',\n",
        "                'PK':'PK',\n",
        "                'IT':'IT',\n",
        "                'Cyprus':'CY',\n",
        "                'BY':'BY',\n",
        "                'AE':'AE',\n",
        "                'IE':'IE',\n",
        "                'UY':'UY',\n",
        "                'KG':'KG'}\n",
        "\n",
        "websites.WHOIS_COUNTRY = websites.WHOIS_COUNTRY.apply(lambda x : good_country[x])\n",
        "\n",
        "\n"
      ]
    },
    {
      "cell_type": "code",
      "execution_count": 34,
      "metadata": {
        "colab": {
          "base_uri": "https://localhost:8080/"
        },
        "id": "O_1CzIAt5oj0",
        "outputId": "7b09adbd-3259-478a-942f-be006290c7d3"
      },
      "outputs": [
        {
          "output_type": "execute_result",
          "data": {
            "text/plain": [
              "array(['US', 'SC', 'RU', 'AU', 'CA', 'PA', 'IN', 'UK', 'NL', 'UG', 'JP',\n",
              "       'CN', 'SI', 'KY', 'AT', 'CZ', 'PH', 'LV', 'TR', 'ES', 'HK', 'UA',\n",
              "       'CH', 'BS', 'PK', 'IL', 'DE', 'SE', 'IT', 'NO', 'BE', 'BY', 'AE',\n",
              "       'IE', 'UY', 'KG'], dtype=object)"
            ]
          },
          "metadata": {},
          "execution_count": 34
        }
      ],
      "source": [
        "websites.WHOIS_COUNTRY.unique()"
      ]
    },
    {
      "cell_type": "markdown",
      "metadata": {
        "id": "KtAGS31a5oj0"
      },
      "source": [
        "Ya que hemos fijado los valores de los países, ¿podemos convertir ahora esta columna en ordinal?\n",
        "\n",
        "Todavía no. Si reflexionas, en los laboratorios anteriores sobre cómo manejamos las columnas categóricas, probablemente recuerdes que acabamos eliminando muchas de esas columnas porque hay demasiados valores únicos. Demasiados valores únicos en una columna no es deseable en el aprendizaje automático porque hace que la predicción sea inexacta. Pero hay soluciones bajo ciertas condiciones. Una de las condiciones solucionables es:\n",
        "\n",
        "#### Si un número limitado de valores representa la mayoría de los datos, podemos conservar estos valores principales y volver a etiquetar todos los demás valores poco frecuentes.\n",
        "\n",
        "La columna `WHOIS_COUNTRY` resulta ser este caso. Puedes comprobarlo imprimiendo un gráfico de barras de los `value_counts` en la siguiente celda para verificarlo:"
      ]
    },
    {
      "cell_type": "code",
      "execution_count": 35,
      "metadata": {
        "id": "C0KqdsRS5oj0"
      },
      "outputs": [],
      "source": [
        "# Your code here\n",
        "def print_bar_plot(x,y):\n",
        "    plt.bar(x, y)\n",
        "    plt.figure(figsize=(15,15))\n",
        "    return plt.show()"
      ]
    },
    {
      "cell_type": "code",
      "execution_count": 36,
      "metadata": {
        "colab": {
          "base_uri": "https://localhost:8080/",
          "height": 449
        },
        "id": "8Qnag8LA5oj0",
        "outputId": "8d801162-4d1f-4c64-c725-a0a25f8a1c13"
      },
      "outputs": [
        {
          "output_type": "display_data",
          "data": {
            "text/plain": [
              "<Figure size 640x480 with 1 Axes>"
            ],
            "image/png": "[encoded data removed]"
          },
          "metadata": {}
        },
        {
          "output_type": "display_data",
          "data": {
            "text/plain": [
              "<Figure size 1500x1500 with 0 Axes>"
            ]
          },
          "metadata": {}
        }
      ],
      "source": [
        "print_bar_plot(websites.WHOIS_COUNTRY.unique(),websites.WHOIS_COUNTRY.value_counts());"
      ]
    },
    {
      "cell_type": "markdown",
      "metadata": {
        "id": "x5tVdcO35oj0"
      },
      "source": [
        "#### Después de verificar, ahora vamos a mantener los 10 primeros valores de la columna y volver a etiquetar otras columnas con `OTHER`."
      ]
    },
    {
      "cell_type": "code",
      "execution_count": 37,
      "metadata": {
        "colab": {
          "base_uri": "https://localhost:8080/"
        },
        "id": "J82af3IT5oj5",
        "outputId": "c478d56f-2674-41fa-855c-954207097290"
      },
      "outputs": [
        {
          "output_type": "execute_result",
          "data": {
            "text/plain": [
              "WHOIS_COUNTRY\n",
              "US       960\n",
              "OTHER     78\n",
              "CA        75\n",
              "ES        63\n",
              "AU        26\n",
              "PA        21\n",
              "JP        10\n",
              "IN         8\n",
              "CN         8\n",
              "CZ         8\n",
              "Name: count, dtype: int64"
            ]
          },
          "metadata": {},
          "execution_count": 37
        }
      ],
      "source": [
        "def change_country(c):\n",
        "  if c in ['US','CA','ES','AU','PA','GB','JP','CZ','CN','IN']:\n",
        "    return c\n",
        "  else:\n",
        "    return \"OTHER\"\n",
        "\n",
        "websites.WHOIS_COUNTRY = websites.WHOIS_COUNTRY.apply(lambda x : change_country(x))\n",
        "websites.WHOIS_COUNTRY.value_counts()"
      ]
    },
    {
      "cell_type": "markdown",
      "metadata": {
        "id": "0C0fNrOY5oj5"
      },
      "source": [
        "Ahora que se ha cambiado la etiqueta `WHOIS_COUNTRY`, ya no necesitamos `WHOIS_STATEPRO` porque los valores de los estados o provincias pueden dejar de ser relevantes. Eliminaremos esta columna.\n",
        "\n",
        "Además, también eliminaremos `WHOIS_REGDATE` y `WHOIS_UPDATED_DATE`. Se trata de las fechas de registro y actualización de los dominios del sitio web. No son de nuestra incumbencia.\n",
        "\n",
        "#### En la siguiente celda, elimina `['WHOIS_STATEPRO', 'WHOIS_REGDATE', 'WHOIS_UPDATED_DATE']`."
      ]
    },
    {
      "cell_type": "code",
      "execution_count": 38,
      "metadata": {
        "colab": {
          "base_uri": "https://localhost:8080/"
        },
        "id": "BRRPqUF95oj5",
        "outputId": "e9d48fc9-2d79-4523-bfdb-6e67eabe2f95"
      },
      "outputs": [
        {
          "output_type": "execute_result",
          "data": {
            "text/plain": [
              "Index(['URL', 'URL_LENGTH', 'NUMBER_SPECIAL_CHARACTERS', 'CHARSET', 'SERVER',\n",
              "       'WHOIS_COUNTRY', 'TCP_CONVERSATION_EXCHANGE', 'DIST_REMOTE_TCP_PORT',\n",
              "       'REMOTE_IPS', 'APP_BYTES', 'SOURCE_APP_PACKETS', 'REMOTE_APP_PACKETS',\n",
              "       'SOURCE_APP_BYTES', 'REMOTE_APP_BYTES', 'APP_PACKETS',\n",
              "       'DNS_QUERY_TIMES', 'Type'],\n",
              "      dtype='object')"
            ]
          },
          "metadata": {},
          "execution_count": 38
        }
      ],
      "source": [
        "# Your code here\n",
        "websites=websites.drop(['WHOIS_STATEPRO', 'WHOIS_REGDATE', 'WHOIS_UPDATED_DATE'],axis=1)\n",
        "websites.columns"
      ]
    },
    {
      "cell_type": "markdown",
      "metadata": {
        "id": "KKpq1dS75oj5"
      },
      "source": [
        "# Reto 5 - Manejar los datos categóricos restantes y convertirlos en ordinales\n",
        "\n",
        "Ahora vuelve a imprimir los `dtypes` de los datos. Además de `WHOIS_COUNTRY` que ya hemos arreglado, deberían quedar 3 columnas categóricas: `URL`, `CHARSET`, y `SERVER`."
      ]
    },
    {
      "cell_type": "code",
      "execution_count": 39,
      "metadata": {
        "colab": {
          "base_uri": "https://localhost:8080/"
        },
        "id": "VeBHOCsq5oj5",
        "outputId": "7ff7b8d2-45dd-413b-c370-4d6bf55f4a98"
      },
      "outputs": [
        {
          "output_type": "execute_result",
          "data": {
            "text/plain": [
              "URL                           object\n",
              "URL_LENGTH                     int64\n",
              "NUMBER_SPECIAL_CHARACTERS      int64\n",
              "CHARSET                       object\n",
              "SERVER                        object\n",
              "WHOIS_COUNTRY                 object\n",
              "TCP_CONVERSATION_EXCHANGE      int64\n",
              "DIST_REMOTE_TCP_PORT           int64\n",
              "REMOTE_IPS                     int64\n",
              "APP_BYTES                      int64\n",
              "SOURCE_APP_PACKETS             int64\n",
              "REMOTE_APP_PACKETS             int64\n",
              "SOURCE_APP_BYTES               int64\n",
              "REMOTE_APP_BYTES               int64\n",
              "APP_PACKETS                    int64\n",
              "DNS_QUERY_TIMES              float64\n",
              "Type                           int64\n",
              "dtype: object"
            ]
          },
          "metadata": {},
          "execution_count": 39
        }
      ],
      "source": [
        "# Your code here\n",
        "websites.dtypes"
      ]
    },
    {
      "cell_type": "markdown",
      "metadata": {
        "id": "ShgJ5shH5oj5"
      },
      "source": [
        "#### `URL` es fácil. Simplemente lo eliminaremos porque tiene demasiados valores únicos que no hay forma de consolidar."
      ]
    },
    {
      "cell_type": "code",
      "execution_count": 40,
      "metadata": {
        "colab": {
          "base_uri": "https://localhost:8080/"
        },
        "id": "wxxwQt7T5oj5",
        "outputId": "c98bdf28-4621-417c-d5c6-64e257473877"
      },
      "outputs": [
        {
          "output_type": "execute_result",
          "data": {
            "text/plain": [
              "Index(['URL_LENGTH', 'NUMBER_SPECIAL_CHARACTERS', 'CHARSET', 'SERVER',\n",
              "       'WHOIS_COUNTRY', 'TCP_CONVERSATION_EXCHANGE', 'DIST_REMOTE_TCP_PORT',\n",
              "       'REMOTE_IPS', 'APP_BYTES', 'SOURCE_APP_PACKETS', 'REMOTE_APP_PACKETS',\n",
              "       'SOURCE_APP_BYTES', 'REMOTE_APP_BYTES', 'APP_PACKETS',\n",
              "       'DNS_QUERY_TIMES', 'Type'],\n",
              "      dtype='object')"
            ]
          },
          "metadata": {},
          "execution_count": 40
        }
      ],
      "source": [
        "# Your code here\n",
        "websites=websites.drop(['URL'],axis=1)\n",
        "websites.columns"
      ]
    },
    {
      "cell_type": "markdown",
      "metadata": {
        "id": "phmRPZ8T5oj5"
      },
      "source": [
        "#### Imprime el recuento de valores únicos de `CHARSET`. Usted ve que hay sólo unos pocos valores únicos. Así que podemos dejarlo como está."
      ]
    },
    {
      "cell_type": "code",
      "execution_count": 41,
      "metadata": {
        "colab": {
          "base_uri": "https://localhost:8080/"
        },
        "id": "e3EisNuC5oj6",
        "outputId": "a2b3be18-281b-4c25-b223-ae6831b73bb7"
      },
      "outputs": [
        {
          "output_type": "execute_result",
          "data": {
            "text/plain": [
              "CHARSET\n",
              "UTF-8           520\n",
              "utf-8           279\n",
              "ISO-8859-1      275\n",
              "us-ascii         98\n",
              "iso-8859-1       83\n",
              "windows-1251      1\n",
              "windows-1252      1\n",
              "Name: count, dtype: int64"
            ]
          },
          "metadata": {},
          "execution_count": 41
        }
      ],
      "source": [
        "# Your code here\n",
        "websites.CHARSET.value_counts()"
      ]
    },
    {
      "cell_type": "markdown",
      "metadata": {
        "id": "nA0miShE5oj6"
      },
      "source": [
        "`SERVER` es un poco más complicado. Imprime sus valores únicos y piensa cómo puedes consolidar esos valores.\n",
        "\n",
        "#### Antes de pensar en tu propia solución, no leas las instrucciones que vienen a continuación."
      ]
    },
    {
      "cell_type": "code",
      "execution_count": 42,
      "metadata": {
        "colab": {
          "base_uri": "https://localhost:8080/"
        },
        "id": "3l5IOcw35oj6",
        "outputId": "046f5076-c446-4c49-efd3-b042d8bf98b8"
      },
      "outputs": [
        {
          "output_type": "execute_result",
          "data": {
            "text/plain": [
              "SERVER\n",
              "Apache                                                                                311\n",
              "nginx                                                                                 144\n",
              "cloudflare-nginx                                                                       80\n",
              "Microsoft-HTTPAPI/2.0                                                                  76\n",
              "GSE                                                                                    49\n",
              "                                                                                     ... \n",
              "Apache/2.4.6 (CentOS) OpenSSL/1.0.1e-fips mod_fcgid/2.3.9 PHP/5.4.16 mod_jk/1.2.40      1\n",
              "mw2114.codfw.wmnet                                                                      1\n",
              "mw2199.codfw.wmnet                                                                      1\n",
              "fbs                                                                                     1\n",
              "Apache/2.2.16 (Debian)                                                                  1\n",
              "Name: count, Length: 193, dtype: int64"
            ]
          },
          "metadata": {},
          "execution_count": 42
        }
      ],
      "source": [
        "# Your code here\n",
        "websites.SERVER.value_counts()"
      ]
    },
    {
      "cell_type": "markdown",
      "metadata": {
        "id": "UVOVMDqz5oj6"
      },
      "source": [
        "Aunque hay tantos valores únicos en la columna `SERVER`, en realidad sólo hay 3 tipos principales de servidores: Microsoft, Apache y Nginx. Simplemente comprueba si cada valor de `SERVER` contiene alguno de esos tipos de servidor y vuelve a etiquetarlos. Para los valores `SERVER` que no contengan ninguna de esas subcadenas, etiquétalos con `Other`.\n",
        "\n",
        "Al final, la columna «SERVIDOR» sólo debe contener 4 valores únicos: `Microsoft`, `Apache`, `nginx`, y `Other`."
      ]
    },
    {
      "cell_type": "code",
      "source": [
        "def change_server(s):\n",
        "  s=s.lower()\n",
        "  val=\"\"\n",
        "  if \"microsoft\" in s:\n",
        "    val= \"Microsoft\"\n",
        "  elif \"apache\" in s:\n",
        "    val= \"Apache\"\n",
        "  elif  \"nginx\" in s:\n",
        "    val= \"nginx\"\n",
        "  else:\n",
        "    val=\"Other\"\n",
        "  return val\n",
        "\n",
        "websites.SERVER = websites.SERVER.apply(lambda x : change_server(x))\n"
      ],
      "metadata": {
        "id": "1SjlLaCGZQvz"
      },
      "execution_count": 43,
      "outputs": []
    },
    {
      "cell_type": "code",
      "execution_count": 44,
      "metadata": {
        "scrolled": false,
        "colab": {
          "base_uri": "https://localhost:8080/"
        },
        "id": "Ey0_GEoF5oj6",
        "outputId": "65110627-55a7-4914-9786-bb6cb41a5dc8"
      },
      "outputs": [
        {
          "output_type": "execute_result",
          "data": {
            "text/plain": [
              "SERVER\n",
              "Apache       491\n",
              "nginx        323\n",
              "Other        299\n",
              "Microsoft    144\n",
              "Name: count, dtype: int64"
            ]
          },
          "metadata": {},
          "execution_count": 44
        }
      ],
      "source": [
        "# Count `SERVER` value counts here\n",
        "websites.SERVER.value_counts()"
      ]
    },
    {
      "cell_type": "markdown",
      "metadata": {
        "id": "jHt4x8Dp5oj6"
      },
      "source": [
        "OK, todos nuestros datos categóricos están fijados ahora. **Vamos a convertirlos en datos ordinales usando la función `get_dummies` de Pandas ([documentation](https://pandas.pydata.org/pandas-docs/stable/generated/pandas.get_dummies.html)). Asegúrate de eliminar las columnas categóricas pasando `drop_first=True` a `get_dummies` ya que no las necesitamos. **Además, asigna los datos con valores ficticios a una nueva variable `website_dummy`."
      ]
    },
    {
      "cell_type": "code",
      "source": [
        "websites.dtypes"
      ],
      "metadata": {
        "colab": {
          "base_uri": "https://localhost:8080/"
        },
        "id": "bXFSVy4obkfl",
        "outputId": "4783925a-1d37-4281-c038-617d2341ac66"
      },
      "execution_count": 45,
      "outputs": [
        {
          "output_type": "execute_result",
          "data": {
            "text/plain": [
              "URL_LENGTH                     int64\n",
              "NUMBER_SPECIAL_CHARACTERS      int64\n",
              "CHARSET                       object\n",
              "SERVER                        object\n",
              "WHOIS_COUNTRY                 object\n",
              "TCP_CONVERSATION_EXCHANGE      int64\n",
              "DIST_REMOTE_TCP_PORT           int64\n",
              "REMOTE_IPS                     int64\n",
              "APP_BYTES                      int64\n",
              "SOURCE_APP_PACKETS             int64\n",
              "REMOTE_APP_PACKETS             int64\n",
              "SOURCE_APP_BYTES               int64\n",
              "REMOTE_APP_BYTES               int64\n",
              "APP_PACKETS                    int64\n",
              "DNS_QUERY_TIMES              float64\n",
              "Type                           int64\n",
              "dtype: object"
            ]
          },
          "metadata": {},
          "execution_count": 45
        }
      ]
    },
    {
      "cell_type": "code",
      "source": [
        "websites[['CHARSET','SERVER','WHOIS_COUNTRY']].columns"
      ],
      "metadata": {
        "colab": {
          "base_uri": "https://localhost:8080/"
        },
        "id": "lFjgUFE4c2zs",
        "outputId": "2e65fe6b-456d-4026-a711-2e3407624219"
      },
      "execution_count": 46,
      "outputs": [
        {
          "output_type": "execute_result",
          "data": {
            "text/plain": [
              "Index(['CHARSET', 'SERVER', 'WHOIS_COUNTRY'], dtype='object')"
            ]
          },
          "metadata": {},
          "execution_count": 46
        }
      ]
    },
    {
      "cell_type": "code",
      "execution_count": 47,
      "metadata": {
        "id": "a7iQi3M85oj6"
      },
      "outputs": [],
      "source": [
        "# Your code here\n",
        "website_dummy=pd.get_dummies(websites[['CHARSET','SERVER','WHOIS_COUNTRY']]  ,drop_first=True)"
      ]
    },
    {
      "cell_type": "markdown",
      "metadata": {
        "id": "nVYIdZXP5oj6"
      },
      "source": [
        "Ahora, inspeccione `website_dummy` para asegurarse de que los datos y tipos son los previstos - no debería haber ninguna columna categórica en este punto."
      ]
    },
    {
      "cell_type": "code",
      "execution_count": 48,
      "metadata": {
        "colab": {
          "base_uri": "https://localhost:8080/",
          "height": 461
        },
        "id": "H84Lrrcy5oj7",
        "outputId": "f08115a2-ac88-4802-bde0-82f65aad8412"
      },
      "outputs": [
        {
          "output_type": "execute_result",
          "data": {
            "text/plain": [
              "      CHARSET_UTF-8  CHARSET_iso-8859-1  CHARSET_us-ascii  CHARSET_utf-8  \\\n",
              "3             False               False             False          False   \n",
              "5              True               False             False          False   \n",
              "6             False                True             False          False   \n",
              "7             False               False              True          False   \n",
              "10            False               False             False           True   \n",
              "...             ...                 ...               ...            ...   \n",
              "1776           True               False             False          False   \n",
              "1777           True               False             False          False   \n",
              "1778          False               False             False           True   \n",
              "1779          False               False             False          False   \n",
              "1780          False               False             False           True   \n",
              "\n",
              "      CHARSET_windows-1251  CHARSET_windows-1252  SERVER_Microsoft  \\\n",
              "3                    False                 False             False   \n",
              "5                    False                 False             False   \n",
              "6                    False                 False             False   \n",
              "7                    False                 False              True   \n",
              "10                   False                 False             False   \n",
              "...                    ...                   ...               ...   \n",
              "1776                 False                 False             False   \n",
              "1777                 False                 False             False   \n",
              "1778                 False                 False             False   \n",
              "1779                 False                 False             False   \n",
              "1780                 False                 False              True   \n",
              "\n",
              "      SERVER_Other  SERVER_nginx  WHOIS_COUNTRY_CA  WHOIS_COUNTRY_CN  \\\n",
              "3            False          True             False             False   \n",
              "5            False          True             False             False   \n",
              "6            False         False             False             False   \n",
              "7            False         False             False             False   \n",
              "10           False         False             False             False   \n",
              "...            ...           ...               ...               ...   \n",
              "1776         False         False             False             False   \n",
              "1777         False         False             False             False   \n",
              "1778         False         False             False             False   \n",
              "1779         False          True             False             False   \n",
              "1780         False         False             False             False   \n",
              "\n",
              "      WHOIS_COUNTRY_CZ  WHOIS_COUNTRY_ES  WHOIS_COUNTRY_IN  WHOIS_COUNTRY_JP  \\\n",
              "3                False             False             False             False   \n",
              "5                False             False             False             False   \n",
              "6                False             False             False             False   \n",
              "7                False             False             False             False   \n",
              "10               False             False             False             False   \n",
              "...                ...               ...               ...               ...   \n",
              "1776             False              True             False             False   \n",
              "1777             False              True             False             False   \n",
              "1778             False             False             False             False   \n",
              "1779             False             False             False             False   \n",
              "1780             False             False             False             False   \n",
              "\n",
              "      WHOIS_COUNTRY_OTHER  WHOIS_COUNTRY_PA  WHOIS_COUNTRY_US  \n",
              "3                   False             False              True  \n",
              "5                    True             False             False  \n",
              "6                   False             False              True  \n",
              "7                   False             False              True  \n",
              "10                  False             False              True  \n",
              "...                   ...               ...               ...  \n",
              "1776                False             False             False  \n",
              "1777                False             False             False  \n",
              "1778                False             False              True  \n",
              "1779                False             False              True  \n",
              "1780                False             False              True  \n",
              "\n",
              "[1257 rows x 18 columns]"
            ],
            "text/html": [
              "\n",
              "  <div id=\"df-dde437b1-4839-4667-92de-73aba7f35578\" class=\"colab-df-container\">\n",
              "    <div>\n",
              "<style scoped>\n",
              "    .dataframe tbody tr th:only-of-type {\n",
              "        vertical-align: middle;\n",
              "    }\n",
              "\n",
              "    .dataframe tbody tr th {\n",
              "        vertical-align: top;\n",
              "    }\n",
              "\n",
              "    .dataframe thead th {\n",
              "        text-align: right;\n",
              "    }\n",
              "</style>\n",
              "<table border=\"1\" class=\"dataframe\">\n",
              "  <thead>\n",
              "    <tr style=\"text-align: right;\">\n",
              "      <th></th>\n",
              "      <th>CHARSET_UTF-8</th>\n",
              "      <th>CHARSET_iso-8859-1</th>\n",
              "      <th>CHARSET_us-ascii</th>\n",
              "      <th>CHARSET_utf-8</th>\n",
              "      <th>CHARSET_windows-1251</th>\n",
              "      <th>CHARSET_windows-1252</th>\n",
              "      <th>SERVER_Microsoft</th>\n",
              "      <th>SERVER_Other</th>\n",
              "      <th>SERVER_nginx</th>\n",
              "      <th>WHOIS_COUNTRY_CA</th>\n",
              "      <th>WHOIS_COUNTRY_CN</th>\n",
              "      <th>WHOIS_COUNTRY_CZ</th>\n",
              "      <th>WHOIS_COUNTRY_ES</th>\n",
              "      <th>WHOIS_COUNTRY_IN</th>\n",
              "      <th>WHOIS_COUNTRY_JP</th>\n",
              "      <th>WHOIS_COUNTRY_OTHER</th>\n",
              "      <th>WHOIS_COUNTRY_PA</th>\n",
              "      <th>WHOIS_COUNTRY_US</th>\n",
              "    </tr>\n",
              "  </thead>\n",
              "  <tbody>\n",
              "    <tr>\n",
              "      <th>3</th>\n",
              "      <td>False</td>\n",
              "      <td>False</td>\n",
              "      <td>False</td>\n",
              "      <td>False</td>\n",
              "      <td>False</td>\n",
              "      <td>False</td>\n",
              "      <td>False</td>\n",
              "      <td>False</td>\n",
              "      <td>True</td>\n",
              "      <td>False</td>\n",
              "      <td>False</td>\n",
              "      <td>False</td>\n",
              "      <td>False</td>\n",
              "      <td>False</td>\n",
              "      <td>False</td>\n",
              "      <td>False</td>\n",
              "      <td>False</td>\n",
              "      <td>True</td>\n",
              "    </tr>\n",
              "    <tr>\n",
              "      <th>5</th>\n",
              "      <td>True</td>\n",
              "      <td>False</td>\n",
              "      <td>False</td>\n",
              "      <td>False</td>\n",
              "      <td>False</td>\n",
              "      <td>False</td>\n",
              "      <td>False</td>\n",
              "      <td>False</td>\n",
              "      <td>True</td>\n",
              "      <td>False</td>\n",
              "      <td>False</td>\n",
              "      <td>False</td>\n",
              "      <td>False</td>\n",
              "      <td>False</td>\n",
              "      <td>False</td>\n",
              "      <td>True</td>\n",
              "      <td>False</td>\n",
              "      <td>False</td>\n",
              "    </tr>\n",
              "    <tr>\n",
              "      <th>6</th>\n",
              "      <td>False</td>\n",
              "      <td>True</td>\n",
              "      <td>False</td>\n",
              "      <td>False</td>\n",
              "      <td>False</td>\n",
              "      <td>False</td>\n",
              "      <td>False</td>\n",
              "      <td>False</td>\n",
              "      <td>False</td>\n",
              "      <td>False</td>\n",
              "      <td>False</td>\n",
              "      <td>False</td>\n",
              "      <td>False</td>\n",
              "      <td>False</td>\n",
              "      <td>False</td>\n",
              "      <td>False</td>\n",
              "      <td>False</td>\n",
              "      <td>True</td>\n",
              "    </tr>\n",
              "    <tr>\n",
              "      <th>7</th>\n",
              "      <td>False</td>\n",
              "      <td>False</td>\n",
              "      <td>True</td>\n",
              "      <td>False</td>\n",
              "      <td>False</td>\n",
              "      <td>False</td>\n",
              "      <td>True</td>\n",
              "      <td>False</td>\n",
              "      <td>False</td>\n",
              "      <td>False</td>\n",
              "      <td>False</td>\n",
              "      <td>False</td>\n",
              "      <td>False</td>\n",
              "      <td>False</td>\n",
              "      <td>False</td>\n",
              "      <td>False</td>\n",
              "      <td>False</td>\n",
              "      <td>True</td>\n",
              "    </tr>\n",
              "    <tr>\n",
              "      <th>10</th>\n",
              "      <td>False</td>\n",
              "      <td>False</td>\n",
              "      <td>False</td>\n",
              "      <td>True</td>\n",
              "      <td>False</td>\n",
              "      <td>False</td>\n",
              "      <td>False</td>\n",
              "      <td>False</td>\n",
              "      <td>False</td>\n",
              "      <td>False</td>\n",
              "      <td>False</td>\n",
              "      <td>False</td>\n",
              "      <td>False</td>\n",
              "      <td>False</td>\n",
              "      <td>False</td>\n",
              "      <td>False</td>\n",
              "      <td>False</td>\n",
              "      <td>True</td>\n",
              "    </tr>\n",
              "    <tr>\n",
              "      <th>...</th>\n",
              "      <td>...</td>\n",
              "      <td>...</td>\n",
              "      <td>...</td>\n",
              "      <td>...</td>\n",
              "      <td>...</td>\n",
              "      <td>...</td>\n",
              "      <td>...</td>\n",
              "      <td>...</td>\n",
              "      <td>...</td>\n",
              "      <td>...</td>\n",
              "      <td>...</td>\n",
              "      <td>...</td>\n",
              "      <td>...</td>\n",
              "      <td>...</td>\n",
              "      <td>...</td>\n",
              "      <td>...</td>\n",
              "      <td>...</td>\n",
              "      <td>...</td>\n",
              "    </tr>\n",
              "    <tr>\n",
              "      <th>1776</th>\n",
              "      <td>True</td>\n",
              "      <td>False</td>\n",
              "      <td>False</td>\n",
              "      <td>False</td>\n",
              "      <td>False</td>\n",
              "      <td>False</td>\n",
              "      <td>False</td>\n",
              "      <td>False</td>\n",
              "      <td>False</td>\n",
              "      <td>False</td>\n",
              "      <td>False</td>\n",
              "      <td>False</td>\n",
              "      <td>True</td>\n",
              "      <td>False</td>\n",
              "      <td>False</td>\n",
              "      <td>False</td>\n",
              "      <td>False</td>\n",
              "      <td>False</td>\n",
              "    </tr>\n",
              "    <tr>\n",
              "      <th>1777</th>\n",
              "      <td>True</td>\n",
              "      <td>False</td>\n",
              "      <td>False</td>\n",
              "      <td>False</td>\n",
              "      <td>False</td>\n",
              "      <td>False</td>\n",
              "      <td>False</td>\n",
              "      <td>False</td>\n",
              "      <td>False</td>\n",
              "      <td>False</td>\n",
              "      <td>False</td>\n",
              "      <td>False</td>\n",
              "      <td>True</td>\n",
              "      <td>False</td>\n",
              "      <td>False</td>\n",
              "      <td>False</td>\n",
              "      <td>False</td>\n",
              "      <td>False</td>\n",
              "    </tr>\n",
              "    <tr>\n",
              "      <th>1778</th>\n",
              "      <td>False</td>\n",
              "      <td>False</td>\n",
              "      <td>False</td>\n",
              "      <td>True</td>\n",
              "      <td>False</td>\n",
              "      <td>False</td>\n",
              "      <td>False</td>\n",
              "      <td>False</td>\n",
              "      <td>False</td>\n",
              "      <td>False</td>\n",
              "      <td>False</td>\n",
              "      <td>False</td>\n",
              "      <td>False</td>\n",
              "      <td>False</td>\n",
              "      <td>False</td>\n",
              "      <td>False</td>\n",
              "      <td>False</td>\n",
              "      <td>True</td>\n",
              "    </tr>\n",
              "    <tr>\n",
              "      <th>1779</th>\n",
              "      <td>False</td>\n",
              "      <td>False</td>\n",
              "      <td>False</td>\n",
              "      <td>False</td>\n",
              "      <td>False</td>\n",
              "      <td>False</td>\n",
              "      <td>False</td>\n",
              "      <td>False</td>\n",
              "      <td>True</td>\n",
              "      <td>False</td>\n",
              "      <td>False</td>\n",
              "      <td>False</td>\n",
              "      <td>False</td>\n",
              "      <td>False</td>\n",
              "      <td>False</td>\n",
              "      <td>False</td>\n",
              "      <td>False</td>\n",
              "      <td>True</td>\n",
              "    </tr>\n",
              "    <tr>\n",
              "      <th>1780</th>\n",
              "      <td>False</td>\n",
              "      <td>False</td>\n",
              "      <td>False</td>\n",
              "      <td>True</td>\n",
              "      <td>False</td>\n",
              "      <td>False</td>\n",
              "      <td>True</td>\n",
              "      <td>False</td>\n",
              "      <td>False</td>\n",
              "      <td>False</td>\n",
              "      <td>False</td>\n",
              "      <td>False</td>\n",
              "      <td>False</td>\n",
              "      <td>False</td>\n",
              "      <td>False</td>\n",
              "      <td>False</td>\n",
              "      <td>False</td>\n",
              "      <td>True</td>\n",
              "    </tr>\n",
              "  </tbody>\n",
              "</table>\n",
              "<p>1257 rows × 18 columns</p>\n",
              "</div>\n",
              "    <div class=\"colab-df-buttons\">\n",
              "\n",
              "  <div class=\"colab-df-container\">\n",
              "    <button class=\"colab-df-convert\" onclick=\"convertToInteractive('df-dde437b1-4839-4667-92de-73aba7f35578')\"\n",
              "            title=\"Convert this dataframe to an interactive table.\"\n",
              "            style=\"display:none;\">\n",
              "\n",
              "  <svg xmlns=\"http://www.w3.org/2000/svg\" height=\"24px\" viewBox=\"0 -960 960 960\">\n",
              "    <path d=\"M120-120v-720h720v720H120Zm60-500h600v-160H180v160Zm220 220h160v-160H400v160Zm0 220h160v-160H400v160ZM180-400h160v-160H180v160Zm440 0h160v-160H620v160ZM180-180h160v-160H180v160Zm440 0h160v-160H620v160Z\"/>\n",
              "  </svg>\n",
              "    </button>\n",
              "\n",
              "  <style>\n",
              "    .colab-df-container {\n",
              "      display:flex;\n",
              "      gap: 12px;\n",
              "    }\n",
              "\n",
              "    .colab-df-convert {\n",
              "      background-color: #E8F0FE;\n",
              "      border: none;\n",
              "      border-radius: 50%;\n",
              "      cursor: pointer;\n",
              "      display: none;\n",
              "      fill: #1967D2;\n",
              "      height: 32px;\n",
              "      padding: 0 0 0 0;\n",
              "      width: 32px;\n",
              "    }\n",
              "\n",
              "    .colab-df-convert:hover {\n",
              "      background-color: #E2EBFA;\n",
              "      box-shadow: 0px 1px 2px rgba(60, 64, 67, 0.3), 0px 1px 3px 1px rgba(60, 64, 67, 0.15);\n",
              "      fill: #174EA6;\n",
              "    }\n",
              "\n",
              "    .colab-df-buttons div {\n",
              "      margin-bottom: 4px;\n",
              "    }\n",
              "\n",
              "    [theme=dark] .colab-df-convert {\n",
              "      background-color: #3B4455;\n",
              "      fill: #D2E3FC;\n",
              "    }\n",
              "\n",
              "    [theme=dark] .colab-df-convert:hover {\n",
              "      background-color: #434B5C;\n",
              "      box-shadow: 0px 1px 3px 1px rgba(0, 0, 0, 0.15);\n",
              "      filter: drop-shadow(0px 1px 2px rgba(0, 0, 0, 0.3));\n",
              "      fill: #FFFFFF;\n",
              "    }\n",
              "  </style>\n",
              "\n",
              "    <script>\n",
              "      const buttonEl =\n",
              "        document.querySelector('#df-dde437b1-4839-4667-92de-73aba7f35578 button.colab-df-convert');\n",
              "      buttonEl.style.display =\n",
              "        google.colab.kernel.accessAllowed ? 'block' : 'none';\n",
              "\n",
              "      async function convertToInteractive(key) {\n",
              "        const element = document.querySelector('#df-dde437b1-4839-4667-92de-73aba7f35578');\n",
              "        const dataTable =\n",
              "          await google.colab.kernel.invokeFunction('convertToInteractive',\n",
              "                                                    [key], {});\n",
              "        if (!dataTable) return;\n",
              "\n",
              "        const docLinkHtml = 'Like what you see? Visit the ' +\n",
              "          '<a target=\"_blank\" href=https://colab.research.google.com/notebooks/data_table.ipynb>data table notebook</a>'\n",
              "          + ' to learn more about interactive tables.';\n",
              "        element.innerHTML = '';\n",
              "        dataTable['output_type'] = 'display_data';\n",
              "        await google.colab.output.renderOutput(dataTable, element);\n",
              "        const docLink = document.createElement('div');\n",
              "        docLink.innerHTML = docLinkHtml;\n",
              "        element.appendChild(docLink);\n",
              "      }\n",
              "    </script>\n",
              "  </div>\n",
              "\n",
              "\n",
              "<div id=\"df-21bedcc9-9ba1-40da-ab69-8881a4e9efd6\">\n",
              "  <button class=\"colab-df-quickchart\" onclick=\"quickchart('df-21bedcc9-9ba1-40da-ab69-8881a4e9efd6')\"\n",
              "            title=\"Suggest charts\"\n",
              "            style=\"display:none;\">\n",
              "\n",
              "<svg xmlns=\"http://www.w3.org/2000/svg\" height=\"24px\"viewBox=\"0 0 24 24\"\n",
              "     width=\"24px\">\n",
              "    <g>\n",
              "        <path d=\"M19 3H5c-1.1 0-2 .9-2 2v14c0 1.1.9 2 2 2h14c1.1 0 2-.9 2-2V5c0-1.1-.9-2-2-2zM9 17H7v-7h2v7zm4 0h-2V7h2v10zm4 0h-2v-4h2v4z\"/>\n",
              "    </g>\n",
              "</svg>\n",
              "  </button>\n",
              "\n",
              "<style>\n",
              "  .colab-df-quickchart {\n",
              "      --bg-color: #E8F0FE;\n",
              "      --fill-color: #1967D2;\n",
              "      --hover-bg-color: #E2EBFA;\n",
              "      --hover-fill-color: #174EA6;\n",
              "      --disabled-fill-color: #AAA;\n",
              "      --disabled-bg-color: #DDD;\n",
              "  }\n",
              "\n",
              "  [theme=dark] .colab-df-quickchart {\n",
              "      --bg-color: #3B4455;\n",
              "      --fill-color: #D2E3FC;\n",
              "      --hover-bg-color: #434B5C;\n",
              "      --hover-fill-color: #FFFFFF;\n",
              "      --disabled-bg-color: #3B4455;\n",
              "      --disabled-fill-color: #666;\n",
              "  }\n",
              "\n",
              "  .colab-df-quickchart {\n",
              "    background-color: var(--bg-color);\n",
              "    border: none;\n",
              "    border-radius: 50%;\n",
              "    cursor: pointer;\n",
              "    display: none;\n",
              "    fill: var(--fill-color);\n",
              "    height: 32px;\n",
              "    padding: 0;\n",
              "    width: 32px;\n",
              "  }\n",
              "\n",
              "  .colab-df-quickchart:hover {\n",
              "    background-color: var(--hover-bg-color);\n",
              "    box-shadow: 0 1px 2px rgba(60, 64, 67, 0.3), 0 1px 3px 1px rgba(60, 64, 67, 0.15);\n",
              "    fill: var(--button-hover-fill-color);\n",
              "  }\n",
              "\n",
              "  .colab-df-quickchart-complete:disabled,\n",
              "  .colab-df-quickchart-complete:disabled:hover {\n",
              "    background-color: var(--disabled-bg-color);\n",
              "    fill: var(--disabled-fill-color);\n",
              "    box-shadow: none;\n",
              "  }\n",
              "\n",
              "  .colab-df-spinner {\n",
              "    border: 2px solid var(--fill-color);\n",
              "    border-color: transparent;\n",
              "    border-bottom-color: var(--fill-color);\n",
              "    animation:\n",
              "      spin 1s steps(1) infinite;\n",
              "  }\n",
              "\n",
              "  @keyframes spin {\n",
              "    0% {\n",
              "      border-color: transparent;\n",
              "      border-bottom-color: var(--fill-color);\n",
              "      border-left-color: var(--fill-color);\n",
              "    }\n",
              "    20% {\n",
              "      border-color: transparent;\n",
              "      border-left-color: var(--fill-color);\n",
              "      border-top-color: var(--fill-color);\n",
              "    }\n",
              "    30% {\n",
              "      border-color: transparent;\n",
              "      border-left-color: var(--fill-color);\n",
              "      border-top-color: var(--fill-color);\n",
              "      border-right-color: var(--fill-color);\n",
              "    }\n",
              "    40% {\n",
              "      border-color: transparent;\n",
              "      border-right-color: var(--fill-color);\n",
              "      border-top-color: var(--fill-color);\n",
              "    }\n",
              "    60% {\n",
              "      border-color: transparent;\n",
              "      border-right-color: var(--fill-color);\n",
              "    }\n",
              "    80% {\n",
              "      border-color: transparent;\n",
              "      border-right-color: var(--fill-color);\n",
              "      border-bottom-color: var(--fill-color);\n",
              "    }\n",
              "    90% {\n",
              "      border-color: transparent;\n",
              "      border-bottom-color: var(--fill-color);\n",
              "    }\n",
              "  }\n",
              "</style>\n",
              "\n",
              "  <script>\n",
              "    async function quickchart(key) {\n",
              "      const quickchartButtonEl =\n",
              "        document.querySelector('#' + key + ' button');\n",
              "      quickchartButtonEl.disabled = true;  // To prevent multiple clicks.\n",
              "      quickchartButtonEl.classList.add('colab-df-spinner');\n",
              "      try {\n",
              "        const charts = await google.colab.kernel.invokeFunction(\n",
              "            'suggestCharts', [key], {});\n",
              "      } catch (error) {\n",
              "        console.error('Error during call to suggestCharts:', error);\n",
              "      }\n",
              "      quickchartButtonEl.classList.remove('colab-df-spinner');\n",
              "      quickchartButtonEl.classList.add('colab-df-quickchart-complete');\n",
              "    }\n",
              "    (() => {\n",
              "      let quickchartButtonEl =\n",
              "        document.querySelector('#df-21bedcc9-9ba1-40da-ab69-8881a4e9efd6 button');\n",
              "      quickchartButtonEl.style.display =\n",
              "        google.colab.kernel.accessAllowed ? 'block' : 'none';\n",
              "    })();\n",
              "  </script>\n",
              "</div>\n",
              "\n",
              "  <div id=\"id_96191540-2c3c-4f6c-872b-f5bc9101517b\">\n",
              "    <style>\n",
              "      .colab-df-generate {\n",
              "        background-color: #E8F0FE;\n",
              "        border: none;\n",
              "        border-radius: 50%;\n",
              "        cursor: pointer;\n",
              "        display: none;\n",
              "        fill: #1967D2;\n",
              "        height: 32px;\n",
              "        padding: 0 0 0 0;\n",
              "        width: 32px;\n",
              "      }\n",
              "\n",
              "      .colab-df-generate:hover {\n",
              "        background-color: #E2EBFA;\n",
              "        box-shadow: 0px 1px 2px rgba(60, 64, 67, 0.3), 0px 1px 3px 1px rgba(60, 64, 67, 0.15);\n",
              "        fill: #174EA6;\n",
              "      }\n",
              "\n",
              "      [theme=dark] .colab-df-generate {\n",
              "        background-color: #3B4455;\n",
              "        fill: #D2E3FC;\n",
              "      }\n",
              "\n",
              "      [theme=dark] .colab-df-generate:hover {\n",
              "        background-color: #434B5C;\n",
              "        box-shadow: 0px 1px 3px 1px rgba(0, 0, 0, 0.15);\n",
              "        filter: drop-shadow(0px 1px 2px rgba(0, 0, 0, 0.3));\n",
              "        fill: #FFFFFF;\n",
              "      }\n",
              "    </style>\n",
              "    <button class=\"colab-df-generate\" onclick=\"generateWithVariable('website_dummy')\"\n",
              "            title=\"Generate code using this dataframe.\"\n",
              "            style=\"display:none;\">\n",
              "\n",
              "  <svg xmlns=\"http://www.w3.org/2000/svg\" height=\"24px\"viewBox=\"0 0 24 24\"\n",
              "       width=\"24px\">\n",
              "    <path d=\"M7,19H8.4L18.45,9,17,7.55,7,17.6ZM5,21V16.75L18.45,3.32a2,2,0,0,1,2.83,0l1.4,1.43a1.91,1.91,0,0,1,.58,1.4,1.91,1.91,0,0,1-.58,1.4L9.25,21ZM18.45,9,17,7.55Zm-12,3A5.31,5.31,0,0,0,4.9,8.1,5.31,5.31,0,0,0,1,6.5,5.31,5.31,0,0,0,4.9,4.9,5.31,5.31,0,0,0,6.5,1,5.31,5.31,0,0,0,8.1,4.9,5.31,5.31,0,0,0,12,6.5,5.46,5.46,0,0,0,6.5,12Z\"/>\n",
              "  </svg>\n",
              "    </button>\n",
              "    <script>\n",
              "      (() => {\n",
              "      const buttonEl =\n",
              "        document.querySelector('#id_96191540-2c3c-4f6c-872b-f5bc9101517b button.colab-df-generate');\n",
              "      buttonEl.style.display =\n",
              "        google.colab.kernel.accessAllowed ? 'block' : 'none';\n",
              "\n",
              "      buttonEl.onclick = () => {\n",
              "        google.colab.notebook.generateWithVariable('website_dummy');\n",
              "      }\n",
              "      })();\n",
              "    </script>\n",
              "  </div>\n",
              "\n",
              "    </div>\n",
              "  </div>\n"
            ],
            "application/vnd.google.colaboratory.intrinsic+json": {
              "type": "dataframe",
              "variable_name": "website_dummy",
              "summary": "{\n  \"name\": \"website_dummy\",\n  \"rows\": 1257,\n  \"fields\": [\n    {\n      \"column\": \"CHARSET_UTF-8\",\n      \"properties\": {\n        \"dtype\": \"boolean\",\n        \"num_unique_values\": 2,\n        \"samples\": [\n          true,\n          false\n        ],\n        \"semantic_type\": \"\",\n        \"description\": \"\"\n      }\n    },\n    {\n      \"column\": \"CHARSET_iso-8859-1\",\n      \"properties\": {\n        \"dtype\": \"boolean\",\n        \"num_unique_values\": 2,\n        \"samples\": [\n          true,\n          false\n        ],\n        \"semantic_type\": \"\",\n        \"description\": \"\"\n      }\n    },\n    {\n      \"column\": \"CHARSET_us-ascii\",\n      \"properties\": {\n        \"dtype\": \"boolean\",\n        \"num_unique_values\": 2,\n        \"samples\": [\n          true,\n          false\n        ],\n        \"semantic_type\": \"\",\n        \"description\": \"\"\n      }\n    },\n    {\n      \"column\": \"CHARSET_utf-8\",\n      \"properties\": {\n        \"dtype\": \"boolean\",\n        \"num_unique_values\": 2,\n        \"samples\": [\n          true,\n          false\n        ],\n        \"semantic_type\": \"\",\n        \"description\": \"\"\n      }\n    },\n    {\n      \"column\": \"CHARSET_windows-1251\",\n      \"properties\": {\n        \"dtype\": \"boolean\",\n        \"num_unique_values\": 2,\n        \"samples\": [\n          true,\n          false\n        ],\n        \"semantic_type\": \"\",\n        \"description\": \"\"\n      }\n    },\n    {\n      \"column\": \"CHARSET_windows-1252\",\n      \"properties\": {\n        \"dtype\": \"boolean\",\n        \"num_unique_values\": 2,\n        \"samples\": [\n          true,\n          false\n        ],\n        \"semantic_type\": \"\",\n        \"description\": \"\"\n      }\n    },\n    {\n      \"column\": \"SERVER_Microsoft\",\n      \"properties\": {\n        \"dtype\": \"boolean\",\n        \"num_unique_values\": 2,\n        \"samples\": [\n          true,\n          false\n        ],\n        \"semantic_type\": \"\",\n        \"description\": \"\"\n      }\n    },\n    {\n      \"column\": \"SERVER_Other\",\n      \"properties\": {\n        \"dtype\": \"boolean\",\n        \"num_unique_values\": 2,\n        \"samples\": [\n          true,\n          false\n        ],\n        \"semantic_type\": \"\",\n        \"description\": \"\"\n      }\n    },\n    {\n      \"column\": \"SERVER_nginx\",\n      \"properties\": {\n        \"dtype\": \"boolean\",\n        \"num_unique_values\": 2,\n        \"samples\": [\n          false,\n          true\n        ],\n        \"semantic_type\": \"\",\n        \"description\": \"\"\n      }\n    },\n    {\n      \"column\": \"WHOIS_COUNTRY_CA\",\n      \"properties\": {\n        \"dtype\": \"boolean\",\n        \"num_unique_values\": 2,\n        \"samples\": [\n          true,\n          false\n        ],\n        \"semantic_type\": \"\",\n        \"description\": \"\"\n      }\n    },\n    {\n      \"column\": \"WHOIS_COUNTRY_CN\",\n      \"properties\": {\n        \"dtype\": \"boolean\",\n        \"num_unique_values\": 2,\n        \"samples\": [\n          true,\n          false\n        ],\n        \"semantic_type\": \"\",\n        \"description\": \"\"\n      }\n    },\n    {\n      \"column\": \"WHOIS_COUNTRY_CZ\",\n      \"properties\": {\n        \"dtype\": \"boolean\",\n        \"num_unique_values\": 2,\n        \"samples\": [\n          true,\n          false\n        ],\n        \"semantic_type\": \"\",\n        \"description\": \"\"\n      }\n    },\n    {\n      \"column\": \"WHOIS_COUNTRY_ES\",\n      \"properties\": {\n        \"dtype\": \"boolean\",\n        \"num_unique_values\": 2,\n        \"samples\": [\n          true,\n          false\n        ],\n        \"semantic_type\": \"\",\n        \"description\": \"\"\n      }\n    },\n    {\n      \"column\": \"WHOIS_COUNTRY_IN\",\n      \"properties\": {\n        \"dtype\": \"boolean\",\n        \"num_unique_values\": 2,\n        \"samples\": [\n          true,\n          false\n        ],\n        \"semantic_type\": \"\",\n        \"description\": \"\"\n      }\n    },\n    {\n      \"column\": \"WHOIS_COUNTRY_JP\",\n      \"properties\": {\n        \"dtype\": \"boolean\",\n        \"num_unique_values\": 2,\n        \"samples\": [\n          true,\n          false\n        ],\n        \"semantic_type\": \"\",\n        \"description\": \"\"\n      }\n    },\n    {\n      \"column\": \"WHOIS_COUNTRY_OTHER\",\n      \"properties\": {\n        \"dtype\": \"boolean\",\n        \"num_unique_values\": 2,\n        \"samples\": [\n          true,\n          false\n        ],\n        \"semantic_type\": \"\",\n        \"description\": \"\"\n      }\n    },\n    {\n      \"column\": \"WHOIS_COUNTRY_PA\",\n      \"properties\": {\n        \"dtype\": \"boolean\",\n        \"num_unique_values\": 2,\n        \"samples\": [\n          true,\n          false\n        ],\n        \"semantic_type\": \"\",\n        \"description\": \"\"\n      }\n    },\n    {\n      \"column\": \"WHOIS_COUNTRY_US\",\n      \"properties\": {\n        \"dtype\": \"boolean\",\n        \"num_unique_values\": 2,\n        \"samples\": [\n          false,\n          true\n        ],\n        \"semantic_type\": \"\",\n        \"description\": \"\"\n      }\n    }\n  ]\n}"
            }
          },
          "metadata": {},
          "execution_count": 48
        }
      ],
      "source": [
        "# Your code here\n",
        "website_dummy"
      ]
    },
    {
      "cell_type": "code",
      "source": [
        "websites.dtypes"
      ],
      "metadata": {
        "colab": {
          "base_uri": "https://localhost:8080/"
        },
        "id": "j_GQ1jt4dp7U",
        "outputId": "90187da2-bec0-4b6d-f57e-836f0bf09613"
      },
      "execution_count": 49,
      "outputs": [
        {
          "output_type": "execute_result",
          "data": {
            "text/plain": [
              "URL_LENGTH                     int64\n",
              "NUMBER_SPECIAL_CHARACTERS      int64\n",
              "CHARSET                       object\n",
              "SERVER                        object\n",
              "WHOIS_COUNTRY                 object\n",
              "TCP_CONVERSATION_EXCHANGE      int64\n",
              "DIST_REMOTE_TCP_PORT           int64\n",
              "REMOTE_IPS                     int64\n",
              "APP_BYTES                      int64\n",
              "SOURCE_APP_PACKETS             int64\n",
              "REMOTE_APP_PACKETS             int64\n",
              "SOURCE_APP_BYTES               int64\n",
              "REMOTE_APP_BYTES               int64\n",
              "APP_PACKETS                    int64\n",
              "DNS_QUERY_TIMES              float64\n",
              "Type                           int64\n",
              "dtype: object"
            ]
          },
          "metadata": {},
          "execution_count": 49
        }
      ]
    },
    {
      "cell_type": "code",
      "source": [
        "# Elimino las columnas object porque no se han eliminado con drop_first\n",
        "websites=websites.drop(['CHARSET','SERVER','WHOIS_COUNTRY'],axis=1)\n",
        "websites.columns\n"
      ],
      "metadata": {
        "colab": {
          "base_uri": "https://localhost:8080/"
        },
        "id": "-f2joAKWjwo7",
        "outputId": "e9b6897b-2cbb-4e2c-8a6a-996cac1b4f02"
      },
      "execution_count": 50,
      "outputs": [
        {
          "output_type": "execute_result",
          "data": {
            "text/plain": [
              "Index(['URL_LENGTH', 'NUMBER_SPECIAL_CHARACTERS', 'TCP_CONVERSATION_EXCHANGE',\n",
              "       'DIST_REMOTE_TCP_PORT', 'REMOTE_IPS', 'APP_BYTES', 'SOURCE_APP_PACKETS',\n",
              "       'REMOTE_APP_PACKETS', 'SOURCE_APP_BYTES', 'REMOTE_APP_BYTES',\n",
              "       'APP_PACKETS', 'DNS_QUERY_TIMES', 'Type'],\n",
              "      dtype='object')"
            ]
          },
          "metadata": {},
          "execution_count": 50
        }
      ]
    },
    {
      "cell_type": "code",
      "source": [
        "websites.isnull().sum()"
      ],
      "metadata": {
        "colab": {
          "base_uri": "https://localhost:8080/"
        },
        "id": "0swjx-bOhSqF",
        "outputId": "f6e7eb3f-cea3-4437-ca1a-b46be4fa29f3"
      },
      "execution_count": 51,
      "outputs": [
        {
          "output_type": "execute_result",
          "data": {
            "text/plain": [
              "URL_LENGTH                   0\n",
              "NUMBER_SPECIAL_CHARACTERS    0\n",
              "TCP_CONVERSATION_EXCHANGE    0\n",
              "DIST_REMOTE_TCP_PORT         0\n",
              "REMOTE_IPS                   0\n",
              "APP_BYTES                    0\n",
              "SOURCE_APP_PACKETS           0\n",
              "REMOTE_APP_PACKETS           0\n",
              "SOURCE_APP_BYTES             0\n",
              "REMOTE_APP_BYTES             0\n",
              "APP_PACKETS                  0\n",
              "DNS_QUERY_TIMES              0\n",
              "Type                         0\n",
              "dtype: int64"
            ]
          },
          "metadata": {},
          "execution_count": 51
        }
      ]
    },
    {
      "cell_type": "code",
      "source": [
        "df_web= pd.concat([websites,website_dummy],axis=1)\n",
        "df_web"
      ],
      "metadata": {
        "colab": {
          "base_uri": "https://localhost:8080/",
          "height": 443
        },
        "id": "cWxuZa0vh490",
        "outputId": "830f97d2-36b9-4217-8ac1-9af39f64158f"
      },
      "execution_count": 52,
      "outputs": [
        {
          "output_type": "execute_result",
          "data": {
            "text/plain": [
              "      URL_LENGTH  NUMBER_SPECIAL_CHARACTERS  TCP_CONVERSATION_EXCHANGE  \\\n",
              "3             17                          6                         31   \n",
              "5             18                          7                         11   \n",
              "6             18                          6                         12   \n",
              "7             19                          6                          0   \n",
              "10            20                          6                          0   \n",
              "...          ...                        ...                        ...   \n",
              "1776         194                         16                          0   \n",
              "1777         198                         17                          0   \n",
              "1778         201                         34                         83   \n",
              "1779         234                         34                          0   \n",
              "1780         249                         40                         19   \n",
              "\n",
              "      DIST_REMOTE_TCP_PORT  REMOTE_IPS  APP_BYTES  SOURCE_APP_PACKETS  \\\n",
              "3                       22           3       3812                  39   \n",
              "5                        6           9        894                  11   \n",
              "6                        0           3       1189                  14   \n",
              "7                        0           0          0                   0   \n",
              "10                       0           0          0                   0   \n",
              "...                    ...         ...        ...                 ...   \n",
              "1776                     0           0          0                   0   \n",
              "1777                     0           0          0                   0   \n",
              "1778                     2           6       6631                  87   \n",
              "1779                     0           0          0                   0   \n",
              "1780                     6          11       2314                  25   \n",
              "\n",
              "      REMOTE_APP_PACKETS  SOURCE_APP_BYTES  REMOTE_APP_BYTES  ...  \\\n",
              "3                     37             18784              4380  ...   \n",
              "5                     13               838               894  ...   \n",
              "6                     13              8559              1327  ...   \n",
              "7                      0                 0                 0  ...   \n",
              "10                     0                 0                 0  ...   \n",
              "...                  ...               ...               ...  ...   \n",
              "1776                   3               186                 0  ...   \n",
              "1777                   2               124                 0  ...   \n",
              "1778                  89            132181              6945  ...   \n",
              "1779                   0                 0                 0  ...   \n",
              "1780                  28              3039              2776  ...   \n",
              "\n",
              "      SERVER_nginx  WHOIS_COUNTRY_CA  WHOIS_COUNTRY_CN  WHOIS_COUNTRY_CZ  \\\n",
              "3             True             False             False             False   \n",
              "5             True             False             False             False   \n",
              "6            False             False             False             False   \n",
              "7            False             False             False             False   \n",
              "10           False             False             False             False   \n",
              "...            ...               ...               ...               ...   \n",
              "1776         False             False             False             False   \n",
              "1777         False             False             False             False   \n",
              "1778         False             False             False             False   \n",
              "1779          True             False             False             False   \n",
              "1780         False             False             False             False   \n",
              "\n",
              "      WHOIS_COUNTRY_ES  WHOIS_COUNTRY_IN  WHOIS_COUNTRY_JP  \\\n",
              "3                False             False             False   \n",
              "5                False             False             False   \n",
              "6                False             False             False   \n",
              "7                False             False             False   \n",
              "10               False             False             False   \n",
              "...                ...               ...               ...   \n",
              "1776              True             False             False   \n",
              "1777              True             False             False   \n",
              "1778             False             False             False   \n",
              "1779             False             False             False   \n",
              "1780             False             False             False   \n",
              "\n",
              "      WHOIS_COUNTRY_OTHER  WHOIS_COUNTRY_PA  WHOIS_COUNTRY_US  \n",
              "3                   False             False              True  \n",
              "5                    True             False             False  \n",
              "6                   False             False              True  \n",
              "7                   False             False              True  \n",
              "10                  False             False              True  \n",
              "...                   ...               ...               ...  \n",
              "1776                False             False             False  \n",
              "1777                False             False             False  \n",
              "1778                False             False              True  \n",
              "1779                False             False              True  \n",
              "1780                False             False              True  \n",
              "\n",
              "[1257 rows x 31 columns]"
            ],
            "text/html": [
              "\n",
              "  <div id=\"df-4b81ba9f-e57b-468f-85e3-65371c5a3ce0\" class=\"colab-df-container\">\n",
              "    <div>\n",
              "<style scoped>\n",
              "    .dataframe tbody tr th:only-of-type {\n",
              "        vertical-align: middle;\n",
              "    }\n",
              "\n",
              "    .dataframe tbody tr th {\n",
              "        vertical-align: top;\n",
              "    }\n",
              "\n",
              "    .dataframe thead th {\n",
              "        text-align: right;\n",
              "    }\n",
              "</style>\n",
              "<table border=\"1\" class=\"dataframe\">\n",
              "  <thead>\n",
              "    <tr style=\"text-align: right;\">\n",
              "      <th></th>\n",
              "      <th>URL_LENGTH</th>\n",
              "      <th>NUMBER_SPECIAL_CHARACTERS</th>\n",
              "      <th>TCP_CONVERSATION_EXCHANGE</th>\n",
              "      <th>DIST_REMOTE_TCP_PORT</th>\n",
              "      <th>REMOTE_IPS</th>\n",
              "      <th>APP_BYTES</th>\n",
              "      <th>SOURCE_APP_PACKETS</th>\n",
              "      <th>REMOTE_APP_PACKETS</th>\n",
              "      <th>SOURCE_APP_BYTES</th>\n",
              "      <th>REMOTE_APP_BYTES</th>\n",
              "      <th>...</th>\n",
              "      <th>SERVER_nginx</th>\n",
              "      <th>WHOIS_COUNTRY_CA</th>\n",
              "      <th>WHOIS_COUNTRY_CN</th>\n",
              "      <th>WHOIS_COUNTRY_CZ</th>\n",
              "      <th>WHOIS_COUNTRY_ES</th>\n",
              "      <th>WHOIS_COUNTRY_IN</th>\n",
              "      <th>WHOIS_COUNTRY_JP</th>\n",
              "      <th>WHOIS_COUNTRY_OTHER</th>\n",
              "      <th>WHOIS_COUNTRY_PA</th>\n",
              "      <th>WHOIS_COUNTRY_US</th>\n",
              "    </tr>\n",
              "  </thead>\n",
              "  <tbody>\n",
              "    <tr>\n",
              "      <th>3</th>\n",
              "      <td>17</td>\n",
              "      <td>6</td>\n",
              "      <td>31</td>\n",
              "      <td>22</td>\n",
              "      <td>3</td>\n",
              "      <td>3812</td>\n",
              "      <td>39</td>\n",
              "      <td>37</td>\n",
              "      <td>18784</td>\n",
              "      <td>4380</td>\n",
              "      <td>...</td>\n",
              "      <td>True</td>\n",
              "      <td>False</td>\n",
              "      <td>False</td>\n",
              "      <td>False</td>\n",
              "      <td>False</td>\n",
              "      <td>False</td>\n",
              "      <td>False</td>\n",
              "      <td>False</td>\n",
              "      <td>False</td>\n",
              "      <td>True</td>\n",
              "    </tr>\n",
              "    <tr>\n",
              "      <th>5</th>\n",
              "      <td>18</td>\n",
              "      <td>7</td>\n",
              "      <td>11</td>\n",
              "      <td>6</td>\n",
              "      <td>9</td>\n",
              "      <td>894</td>\n",
              "      <td>11</td>\n",
              "      <td>13</td>\n",
              "      <td>838</td>\n",
              "      <td>894</td>\n",
              "      <td>...</td>\n",
              "      <td>True</td>\n",
              "      <td>False</td>\n",
              "      <td>False</td>\n",
              "      <td>False</td>\n",
              "      <td>False</td>\n",
              "      <td>False</td>\n",
              "      <td>False</td>\n",
              "      <td>True</td>\n",
              "      <td>False</td>\n",
              "      <td>False</td>\n",
              "    </tr>\n",
              "    <tr>\n",
              "      <th>6</th>\n",
              "      <td>18</td>\n",
              "      <td>6</td>\n",
              "      <td>12</td>\n",
              "      <td>0</td>\n",
              "      <td>3</td>\n",
              "      <td>1189</td>\n",
              "      <td>14</td>\n",
              "      <td>13</td>\n",
              "      <td>8559</td>\n",
              "      <td>1327</td>\n",
              "      <td>...</td>\n",
              "      <td>False</td>\n",
              "      <td>False</td>\n",
              "      <td>False</td>\n",
              "      <td>False</td>\n",
              "      <td>False</td>\n",
              "      <td>False</td>\n",
              "      <td>False</td>\n",
              "      <td>False</td>\n",
              "      <td>False</td>\n",
              "      <td>True</td>\n",
              "    </tr>\n",
              "    <tr>\n",
              "      <th>7</th>\n",
              "      <td>19</td>\n",
              "      <td>6</td>\n",
              "      <td>0</td>\n",
              "      <td>0</td>\n",
              "      <td>0</td>\n",
              "      <td>0</td>\n",
              "      <td>0</td>\n",
              "      <td>0</td>\n",
              "      <td>0</td>\n",
              "      <td>0</td>\n",
              "      <td>...</td>\n",
              "      <td>False</td>\n",
              "      <td>False</td>\n",
              "      <td>False</td>\n",
              "      <td>False</td>\n",
              "      <td>False</td>\n",
              "      <td>False</td>\n",
              "      <td>False</td>\n",
              "      <td>False</td>\n",
              "      <td>False</td>\n",
              "      <td>True</td>\n",
              "    </tr>\n",
              "    <tr>\n",
              "      <th>10</th>\n",
              "      <td>20</td>\n",
              "      <td>6</td>\n",
              "      <td>0</td>\n",
              "      <td>0</td>\n",
              "      <td>0</td>\n",
              "      <td>0</td>\n",
              "      <td>0</td>\n",
              "      <td>0</td>\n",
              "      <td>0</td>\n",
              "      <td>0</td>\n",
              "      <td>...</td>\n",
              "      <td>False</td>\n",
              "      <td>False</td>\n",
              "      <td>False</td>\n",
              "      <td>False</td>\n",
              "      <td>False</td>\n",
              "      <td>False</td>\n",
              "      <td>False</td>\n",
              "      <td>False</td>\n",
              "      <td>False</td>\n",
              "      <td>True</td>\n",
              "    </tr>\n",
              "    <tr>\n",
              "      <th>...</th>\n",
              "      <td>...</td>\n",
              "      <td>...</td>\n",
              "      <td>...</td>\n",
              "      <td>...</td>\n",
              "      <td>...</td>\n",
              "      <td>...</td>\n",
              "      <td>...</td>\n",
              "      <td>...</td>\n",
              "      <td>...</td>\n",
              "      <td>...</td>\n",
              "      <td>...</td>\n",
              "      <td>...</td>\n",
              "      <td>...</td>\n",
              "      <td>...</td>\n",
              "      <td>...</td>\n",
              "      <td>...</td>\n",
              "      <td>...</td>\n",
              "      <td>...</td>\n",
              "      <td>...</td>\n",
              "      <td>...</td>\n",
              "      <td>...</td>\n",
              "    </tr>\n",
              "    <tr>\n",
              "      <th>1776</th>\n",
              "      <td>194</td>\n",
              "      <td>16</td>\n",
              "      <td>0</td>\n",
              "      <td>0</td>\n",
              "      <td>0</td>\n",
              "      <td>0</td>\n",
              "      <td>0</td>\n",
              "      <td>3</td>\n",
              "      <td>186</td>\n",
              "      <td>0</td>\n",
              "      <td>...</td>\n",
              "      <td>False</td>\n",
              "      <td>False</td>\n",
              "      <td>False</td>\n",
              "      <td>False</td>\n",
              "      <td>True</td>\n",
              "      <td>False</td>\n",
              "      <td>False</td>\n",
              "      <td>False</td>\n",
              "      <td>False</td>\n",
              "      <td>False</td>\n",
              "    </tr>\n",
              "    <tr>\n",
              "      <th>1777</th>\n",
              "      <td>198</td>\n",
              "      <td>17</td>\n",
              "      <td>0</td>\n",
              "      <td>0</td>\n",
              "      <td>0</td>\n",
              "      <td>0</td>\n",
              "      <td>0</td>\n",
              "      <td>2</td>\n",
              "      <td>124</td>\n",
              "      <td>0</td>\n",
              "      <td>...</td>\n",
              "      <td>False</td>\n",
              "      <td>False</td>\n",
              "      <td>False</td>\n",
              "      <td>False</td>\n",
              "      <td>True</td>\n",
              "      <td>False</td>\n",
              "      <td>False</td>\n",
              "      <td>False</td>\n",
              "      <td>False</td>\n",
              "      <td>False</td>\n",
              "    </tr>\n",
              "    <tr>\n",
              "      <th>1778</th>\n",
              "      <td>201</td>\n",
              "      <td>34</td>\n",
              "      <td>83</td>\n",
              "      <td>2</td>\n",
              "      <td>6</td>\n",
              "      <td>6631</td>\n",
              "      <td>87</td>\n",
              "      <td>89</td>\n",
              "      <td>132181</td>\n",
              "      <td>6945</td>\n",
              "      <td>...</td>\n",
              "      <td>False</td>\n",
              "      <td>False</td>\n",
              "      <td>False</td>\n",
              "      <td>False</td>\n",
              "      <td>False</td>\n",
              "      <td>False</td>\n",
              "      <td>False</td>\n",
              "      <td>False</td>\n",
              "      <td>False</td>\n",
              "      <td>True</td>\n",
              "    </tr>\n",
              "    <tr>\n",
              "      <th>1779</th>\n",
              "      <td>234</td>\n",
              "      <td>34</td>\n",
              "      <td>0</td>\n",
              "      <td>0</td>\n",
              "      <td>0</td>\n",
              "      <td>0</td>\n",
              "      <td>0</td>\n",
              "      <td>0</td>\n",
              "      <td>0</td>\n",
              "      <td>0</td>\n",
              "      <td>...</td>\n",
              "      <td>True</td>\n",
              "      <td>False</td>\n",
              "      <td>False</td>\n",
              "      <td>False</td>\n",
              "      <td>False</td>\n",
              "      <td>False</td>\n",
              "      <td>False</td>\n",
              "      <td>False</td>\n",
              "      <td>False</td>\n",
              "      <td>True</td>\n",
              "    </tr>\n",
              "    <tr>\n",
              "      <th>1780</th>\n",
              "      <td>249</td>\n",
              "      <td>40</td>\n",
              "      <td>19</td>\n",
              "      <td>6</td>\n",
              "      <td>11</td>\n",
              "      <td>2314</td>\n",
              "      <td>25</td>\n",
              "      <td>28</td>\n",
              "      <td>3039</td>\n",
              "      <td>2776</td>\n",
              "      <td>...</td>\n",
              "      <td>False</td>\n",
              "      <td>False</td>\n",
              "      <td>False</td>\n",
              "      <td>False</td>\n",
              "      <td>False</td>\n",
              "      <td>False</td>\n",
              "      <td>False</td>\n",
              "      <td>False</td>\n",
              "      <td>False</td>\n",
              "      <td>True</td>\n",
              "    </tr>\n",
              "  </tbody>\n",
              "</table>\n",
              "<p>1257 rows × 31 columns</p>\n",
              "</div>\n",
              "    <div class=\"colab-df-buttons\">\n",
              "\n",
              "  <div class=\"colab-df-container\">\n",
              "    <button class=\"colab-df-convert\" onclick=\"convertToInteractive('df-4b81ba9f-e57b-468f-85e3-65371c5a3ce0')\"\n",
              "            title=\"Convert this dataframe to an interactive table.\"\n",
              "            style=\"display:none;\">\n",
              "\n",
              "  <svg xmlns=\"http://www.w3.org/2000/svg\" height=\"24px\" viewBox=\"0 -960 960 960\">\n",
              "    <path d=\"M120-120v-720h720v720H120Zm60-500h600v-160H180v160Zm220 220h160v-160H400v160Zm0 220h160v-160H400v160ZM180-400h160v-160H180v160Zm440 0h160v-160H620v160ZM180-180h160v-160H180v160Zm440 0h160v-160H620v160Z\"/>\n",
              "  </svg>\n",
              "    </button>\n",
              "\n",
              "  <style>\n",
              "    .colab-df-container {\n",
              "      display:flex;\n",
              "      gap: 12px;\n",
              "    }\n",
              "\n",
              "    .colab-df-convert {\n",
              "      background-color: #E8F0FE;\n",
              "      border: none;\n",
              "      border-radius: 50%;\n",
              "      cursor: pointer;\n",
              "      display: none;\n",
              "      fill: #1967D2;\n",
              "      height: 32px;\n",
              "      padding: 0 0 0 0;\n",
              "      width: 32px;\n",
              "    }\n",
              "\n",
              "    .colab-df-convert:hover {\n",
              "      background-color: #E2EBFA;\n",
              "      box-shadow: 0px 1px 2px rgba(60, 64, 67, 0.3), 0px 1px 3px 1px rgba(60, 64, 67, 0.15);\n",
              "      fill: #174EA6;\n",
              "    }\n",
              "\n",
              "    .colab-df-buttons div {\n",
              "      margin-bottom: 4px;\n",
              "    }\n",
              "\n",
              "    [theme=dark] .colab-df-convert {\n",
              "      background-color: #3B4455;\n",
              "      fill: #D2E3FC;\n",
              "    }\n",
              "\n",
              "    [theme=dark] .colab-df-convert:hover {\n",
              "      background-color: #434B5C;\n",
              "      box-shadow: 0px 1px 3px 1px rgba(0, 0, 0, 0.15);\n",
              "      filter: drop-shadow(0px 1px 2px rgba(0, 0, 0, 0.3));\n",
              "      fill: #FFFFFF;\n",
              "    }\n",
              "  </style>\n",
              "\n",
              "    <script>\n",
              "      const buttonEl =\n",
              "        document.querySelector('#df-4b81ba9f-e57b-468f-85e3-65371c5a3ce0 button.colab-df-convert');\n",
              "      buttonEl.style.display =\n",
              "        google.colab.kernel.accessAllowed ? 'block' : 'none';\n",
              "\n",
              "      async function convertToInteractive(key) {\n",
              "        const element = document.querySelector('#df-4b81ba9f-e57b-468f-85e3-65371c5a3ce0');\n",
              "        const dataTable =\n",
              "          await google.colab.kernel.invokeFunction('convertToInteractive',\n",
              "                                                    [key], {});\n",
              "        if (!dataTable) return;\n",
              "\n",
              "        const docLinkHtml = 'Like what you see? Visit the ' +\n",
              "          '<a target=\"_blank\" href=https://colab.research.google.com/notebooks/data_table.ipynb>data table notebook</a>'\n",
              "          + ' to learn more about interactive tables.';\n",
              "        element.innerHTML = '';\n",
              "        dataTable['output_type'] = 'display_data';\n",
              "        await google.colab.output.renderOutput(dataTable, element);\n",
              "        const docLink = document.createElement('div');\n",
              "        docLink.innerHTML = docLinkHtml;\n",
              "        element.appendChild(docLink);\n",
              "      }\n",
              "    </script>\n",
              "  </div>\n",
              "\n",
              "\n",
              "<div id=\"df-a0c7781d-c17c-4a49-870d-fd8dc6b5ad1c\">\n",
              "  <button class=\"colab-df-quickchart\" onclick=\"quickchart('df-a0c7781d-c17c-4a49-870d-fd8dc6b5ad1c')\"\n",
              "            title=\"Suggest charts\"\n",
              "            style=\"display:none;\">\n",
              "\n",
              "<svg xmlns=\"http://www.w3.org/2000/svg\" height=\"24px\"viewBox=\"0 0 24 24\"\n",
              "     width=\"24px\">\n",
              "    <g>\n",
              "        <path d=\"M19 3H5c-1.1 0-2 .9-2 2v14c0 1.1.9 2 2 2h14c1.1 0 2-.9 2-2V5c0-1.1-.9-2-2-2zM9 17H7v-7h2v7zm4 0h-2V7h2v10zm4 0h-2v-4h2v4z\"/>\n",
              "    </g>\n",
              "</svg>\n",
              "  </button>\n",
              "\n",
              "<style>\n",
              "  .colab-df-quickchart {\n",
              "      --bg-color: #E8F0FE;\n",
              "      --fill-color: #1967D2;\n",
              "      --hover-bg-color: #E2EBFA;\n",
              "      --hover-fill-color: #174EA6;\n",
              "      --disabled-fill-color: #AAA;\n",
              "      --disabled-bg-color: #DDD;\n",
              "  }\n",
              "\n",
              "  [theme=dark] .colab-df-quickchart {\n",
              "      --bg-color: #3B4455;\n",
              "      --fill-color: #D2E3FC;\n",
              "      --hover-bg-color: #434B5C;\n",
              "      --hover-fill-color: #FFFFFF;\n",
              "      --disabled-bg-color: #3B4455;\n",
              "      --disabled-fill-color: #666;\n",
              "  }\n",
              "\n",
              "  .colab-df-quickchart {\n",
              "    background-color: var(--bg-color);\n",
              "    border: none;\n",
              "    border-radius: 50%;\n",
              "    cursor: pointer;\n",
              "    display: none;\n",
              "    fill: var(--fill-color);\n",
              "    height: 32px;\n",
              "    padding: 0;\n",
              "    width: 32px;\n",
              "  }\n",
              "\n",
              "  .colab-df-quickchart:hover {\n",
              "    background-color: var(--hover-bg-color);\n",
              "    box-shadow: 0 1px 2px rgba(60, 64, 67, 0.3), 0 1px 3px 1px rgba(60, 64, 67, 0.15);\n",
              "    fill: var(--button-hover-fill-color);\n",
              "  }\n",
              "\n",
              "  .colab-df-quickchart-complete:disabled,\n",
              "  .colab-df-quickchart-complete:disabled:hover {\n",
              "    background-color: var(--disabled-bg-color);\n",
              "    fill: var(--disabled-fill-color);\n",
              "    box-shadow: none;\n",
              "  }\n",
              "\n",
              "  .colab-df-spinner {\n",
              "    border: 2px solid var(--fill-color);\n",
              "    border-color: transparent;\n",
              "    border-bottom-color: var(--fill-color);\n",
              "    animation:\n",
              "      spin 1s steps(1) infinite;\n",
              "  }\n",
              "\n",
              "  @keyframes spin {\n",
              "    0% {\n",
              "      border-color: transparent;\n",
              "      border-bottom-color: var(--fill-color);\n",
              "      border-left-color: var(--fill-color);\n",
              "    }\n",
              "    20% {\n",
              "      border-color: transparent;\n",
              "      border-left-color: var(--fill-color);\n",
              "      border-top-color: var(--fill-color);\n",
              "    }\n",
              "    30% {\n",
              "      border-color: transparent;\n",
              "      border-left-color: var(--fill-color);\n",
              "      border-top-color: var(--fill-color);\n",
              "      border-right-color: var(--fill-color);\n",
              "    }\n",
              "    40% {\n",
              "      border-color: transparent;\n",
              "      border-right-color: var(--fill-color);\n",
              "      border-top-color: var(--fill-color);\n",
              "    }\n",
              "    60% {\n",
              "      border-color: transparent;\n",
              "      border-right-color: var(--fill-color);\n",
              "    }\n",
              "    80% {\n",
              "      border-color: transparent;\n",
              "      border-right-color: var(--fill-color);\n",
              "      border-bottom-color: var(--fill-color);\n",
              "    }\n",
              "    90% {\n",
              "      border-color: transparent;\n",
              "      border-bottom-color: var(--fill-color);\n",
              "    }\n",
              "  }\n",
              "</style>\n",
              "\n",
              "  <script>\n",
              "    async function quickchart(key) {\n",
              "      const quickchartButtonEl =\n",
              "        document.querySelector('#' + key + ' button');\n",
              "      quickchartButtonEl.disabled = true;  // To prevent multiple clicks.\n",
              "      quickchartButtonEl.classList.add('colab-df-spinner');\n",
              "      try {\n",
              "        const charts = await google.colab.kernel.invokeFunction(\n",
              "            'suggestCharts', [key], {});\n",
              "      } catch (error) {\n",
              "        console.error('Error during call to suggestCharts:', error);\n",
              "      }\n",
              "      quickchartButtonEl.classList.remove('colab-df-spinner');\n",
              "      quickchartButtonEl.classList.add('colab-df-quickchart-complete');\n",
              "    }\n",
              "    (() => {\n",
              "      let quickchartButtonEl =\n",
              "        document.querySelector('#df-a0c7781d-c17c-4a49-870d-fd8dc6b5ad1c button');\n",
              "      quickchartButtonEl.style.display =\n",
              "        google.colab.kernel.accessAllowed ? 'block' : 'none';\n",
              "    })();\n",
              "  </script>\n",
              "</div>\n",
              "\n",
              "  <div id=\"id_003a4ec8-e0cc-4cb2-9cef-6d22ad2d05bb\">\n",
              "    <style>\n",
              "      .colab-df-generate {\n",
              "        background-color: #E8F0FE;\n",
              "        border: none;\n",
              "        border-radius: 50%;\n",
              "        cursor: pointer;\n",
              "        display: none;\n",
              "        fill: #1967D2;\n",
              "        height: 32px;\n",
              "        padding: 0 0 0 0;\n",
              "        width: 32px;\n",
              "      }\n",
              "\n",
              "      .colab-df-generate:hover {\n",
              "        background-color: #E2EBFA;\n",
              "        box-shadow: 0px 1px 2px rgba(60, 64, 67, 0.3), 0px 1px 3px 1px rgba(60, 64, 67, 0.15);\n",
              "        fill: #174EA6;\n",
              "      }\n",
              "\n",
              "      [theme=dark] .colab-df-generate {\n",
              "        background-color: #3B4455;\n",
              "        fill: #D2E3FC;\n",
              "      }\n",
              "\n",
              "      [theme=dark] .colab-df-generate:hover {\n",
              "        background-color: #434B5C;\n",
              "        box-shadow: 0px 1px 3px 1px rgba(0, 0, 0, 0.15);\n",
              "        filter: drop-shadow(0px 1px 2px rgba(0, 0, 0, 0.3));\n",
              "        fill: #FFFFFF;\n",
              "      }\n",
              "    </style>\n",
              "    <button class=\"colab-df-generate\" onclick=\"generateWithVariable('df_web')\"\n",
              "            title=\"Generate code using this dataframe.\"\n",
              "            style=\"display:none;\">\n",
              "\n",
              "  <svg xmlns=\"http://www.w3.org/2000/svg\" height=\"24px\"viewBox=\"0 0 24 24\"\n",
              "       width=\"24px\">\n",
              "    <path d=\"M7,19H8.4L18.45,9,17,7.55,7,17.6ZM5,21V16.75L18.45,3.32a2,2,0,0,1,2.83,0l1.4,1.43a1.91,1.91,0,0,1,.58,1.4,1.91,1.91,0,0,1-.58,1.4L9.25,21ZM18.45,9,17,7.55Zm-12,3A5.31,5.31,0,0,0,4.9,8.1,5.31,5.31,0,0,0,1,6.5,5.31,5.31,0,0,0,4.9,4.9,5.31,5.31,0,0,0,6.5,1,5.31,5.31,0,0,0,8.1,4.9,5.31,5.31,0,0,0,12,6.5,5.46,5.46,0,0,0,6.5,12Z\"/>\n",
              "  </svg>\n",
              "    </button>\n",
              "    <script>\n",
              "      (() => {\n",
              "      const buttonEl =\n",
              "        document.querySelector('#id_003a4ec8-e0cc-4cb2-9cef-6d22ad2d05bb button.colab-df-generate');\n",
              "      buttonEl.style.display =\n",
              "        google.colab.kernel.accessAllowed ? 'block' : 'none';\n",
              "\n",
              "      buttonEl.onclick = () => {\n",
              "        google.colab.notebook.generateWithVariable('df_web');\n",
              "      }\n",
              "      })();\n",
              "    </script>\n",
              "  </div>\n",
              "\n",
              "    </div>\n",
              "  </div>\n"
            ],
            "application/vnd.google.colaboratory.intrinsic+json": {
              "type": "dataframe",
              "variable_name": "df_web"
            }
          },
          "metadata": {},
          "execution_count": 52
        }
      ]
    },
    {
      "cell_type": "markdown",
      "metadata": {
        "id": "QScBV5BD5oj7"
      },
      "source": [
        "# Desafío 6 - Modelado, predicción y evaluación\n",
        "\n",
        "Comenzaremos esta sección dividiendo los datos en train y test. **Nombra tus 4 variables `X_entrenamiento`, `X_prueba`, `y_entrenamiento` y `y_prueba`. Selecciona el 80% de los datos para entrenar y el 20% para probar.**"
      ]
    },
    {
      "cell_type": "code",
      "execution_count": 53,
      "metadata": {
        "id": "F4Y_0UMj5oj7"
      },
      "outputs": [],
      "source": [
        "from sklearn.model_selection import train_test_split\n",
        "# Your code here:\n",
        "\n",
        "X= df_web.drop('Type',axis=1)\n",
        "y=df_web['Type']\n",
        "\n",
        "\n",
        "X_train, X_test, y_train, y_test = train_test_split(X,y,test_size=0.2,random_state=188)\n"
      ]
    },
    {
      "cell_type": "code",
      "source": [
        "X_train.size"
      ],
      "metadata": {
        "colab": {
          "base_uri": "https://localhost:8080/"
        },
        "id": "0QvQt0icjca8",
        "outputId": "e8bcbe40-81d4-4fe7-cc47-9e982975a5cb"
      },
      "execution_count": 54,
      "outputs": [
        {
          "output_type": "execute_result",
          "data": {
            "text/plain": [
              "30150"
            ]
          },
          "metadata": {},
          "execution_count": 54
        }
      ]
    },
    {
      "cell_type": "code",
      "source": [
        "X_test.size"
      ],
      "metadata": {
        "colab": {
          "base_uri": "https://localhost:8080/"
        },
        "id": "Cr9qoNJ_jire",
        "outputId": "032ca4b4-5c69-4567-8c21-9c9784735462"
      },
      "execution_count": 55,
      "outputs": [
        {
          "output_type": "execute_result",
          "data": {
            "text/plain": [
              "7560"
            ]
          },
          "metadata": {},
          "execution_count": 55
        }
      ]
    },
    {
      "cell_type": "markdown",
      "metadata": {
        "id": "y8nMNZ5_5oj7"
      },
      "source": [
        "#### En este laboratorio, probaremos dos modelos diferentes y compararemos nuestros resultados.\n",
        "\n",
        "El primer modelo que utilizaremos en este laboratorio es la regresión logística. Ya hemos aprendido sobre la regresión logística como algoritmo de clasificación. En la celda de abajo, cargue `LogisticRegression` de scikit-learn e inicialice el modelo."
      ]
    },
    {
      "cell_type": "code",
      "execution_count": 56,
      "metadata": {
        "colab": {
          "base_uri": "https://localhost:8080/",
          "height": 74
        },
        "id": "R_T-H17f5oj7",
        "outputId": "3ca956c1-742a-475b-da0b-25ea82dab5ba"
      },
      "outputs": [
        {
          "output_type": "execute_result",
          "data": {
            "text/plain": [
              "LogisticRegression(max_iter=1000)"
            ],
            "text/html": [
              "<style>#sk-container-id-1 {color: black;background-color: white;}#sk-container-id-1 pre{padding: 0;}#sk-container-id-1 div.sk-toggleable {background-color: white;}#sk-container-id-1 label.sk-toggleable__label {cursor: pointer;display: block;width: 100%;margin-bottom: 0;padding: 0.3em;box-sizing: border-box;text-align: center;}#sk-container-id-1 label.sk-toggleable__label-arrow:before {content: \"▸\";float: left;margin-right: 0.25em;color: #696969;}#sk-container-id-1 label.sk-toggleable__label-arrow:hover:before {color: black;}#sk-container-id-1 div.sk-estimator:hover label.sk-toggleable__label-arrow:before {color: black;}#sk-container-id-1 div.sk-toggleable__content {max-height: 0;max-width: 0;overflow: hidden;text-align: left;background-color: #f0f8ff;}#sk-container-id-1 div.sk-toggleable__content pre {margin: 0.2em;color: black;border-radius: 0.25em;background-color: #f0f8ff;}#sk-container-id-1 input.sk-toggleable__control:checked~div.sk-toggleable__content {max-height: 200px;max-width: 100%;overflow: auto;}#sk-container-id-1 input.sk-toggleable__control:checked~label.sk-toggleable__label-arrow:before {content: \"▾\";}#sk-container-id-1 div.sk-estimator input.sk-toggleable__control:checked~label.sk-toggleable__label {background-color: #d4ebff;}#sk-container-id-1 div.sk-label input.sk-toggleable__control:checked~label.sk-toggleable__label {background-color: #d4ebff;}#sk-container-id-1 input.sk-hidden--visually {border: 0;clip: rect(1px 1px 1px 1px);clip: rect(1px, 1px, 1px, 1px);height: 1px;margin: -1px;overflow: hidden;padding: 0;position: absolute;width: 1px;}#sk-container-id-1 div.sk-estimator {font-family: monospace;background-color: #f0f8ff;border: 1px dotted black;border-radius: 0.25em;box-sizing: border-box;margin-bottom: 0.5em;}#sk-container-id-1 div.sk-estimator:hover {background-color: #d4ebff;}#sk-container-id-1 div.sk-parallel-item::after {content: \"\";width: 100%;border-bottom: 1px solid gray;flex-grow: 1;}#sk-container-id-1 div.sk-label:hover label.sk-toggleable__label {background-color: #d4ebff;}#sk-container-id-1 div.sk-serial::before {content: \"\";position: absolute;border-left: 1px solid gray;box-sizing: border-box;top: 0;bottom: 0;left: 50%;z-index: 0;}#sk-container-id-1 div.sk-serial {display: flex;flex-direction: column;align-items: center;background-color: white;padding-right: 0.2em;padding-left: 0.2em;position: relative;}#sk-container-id-1 div.sk-item {position: relative;z-index: 1;}#sk-container-id-1 div.sk-parallel {display: flex;align-items: stretch;justify-content: center;background-color: white;position: relative;}#sk-container-id-1 div.sk-item::before, #sk-container-id-1 div.sk-parallel-item::before {content: \"\";position: absolute;border-left: 1px solid gray;box-sizing: border-box;top: 0;bottom: 0;left: 50%;z-index: -1;}#sk-container-id-1 div.sk-parallel-item {display: flex;flex-direction: column;z-index: 1;position: relative;background-color: white;}#sk-container-id-1 div.sk-parallel-item:first-child::after {align-self: flex-end;width: 50%;}#sk-container-id-1 div.sk-parallel-item:last-child::after {align-self: flex-start;width: 50%;}#sk-container-id-1 div.sk-parallel-item:only-child::after {width: 0;}#sk-container-id-1 div.sk-dashed-wrapped {border: 1px dashed gray;margin: 0 0.4em 0.5em 0.4em;box-sizing: border-box;padding-bottom: 0.4em;background-color: white;}#sk-container-id-1 div.sk-label label {font-family: monospace;font-weight: bold;display: inline-block;line-height: 1.2em;}#sk-container-id-1 div.sk-label-container {text-align: center;}#sk-container-id-1 div.sk-container {/* jupyter's `normalize.less` sets `[hidden] { display: none; }` but bootstrap.min.css set `[hidden] { display: none !important; }` so we also need the `!important` here to be able to override the default hidden behavior on the sphinx rendered scikit-learn.org. See: https://github.com/scikit-learn/scikit-learn/issues/21755 */display: inline-block !important;position: relative;}#sk-container-id-1 div.sk-text-repr-fallback {display: none;}</style><div id=\"sk-container-id-1\" class=\"sk-top-container\"><div class=\"sk-text-repr-fallback\"><pre>LogisticRegression(max_iter=1000)</pre><b>In a Jupyter environment, please rerun this cell to show the HTML representation or trust the notebook. <br />On GitHub, the HTML representation is unable to render, please try loading this page with nbviewer.org.</b></div><div class=\"sk-container\" hidden><div class=\"sk-item\"><div class=\"sk-estimator sk-toggleable\"><input class=\"sk-toggleable__control sk-hidden--visually\" id=\"sk-estimator-id-1\" type=\"checkbox\" checked><label for=\"sk-estimator-id-1\" class=\"sk-toggleable__label sk-toggleable__label-arrow\">LogisticRegression</label><div class=\"sk-toggleable__content\"><pre>LogisticRegression(max_iter=1000)</pre></div></div></div></div></div>"
            ]
          },
          "metadata": {},
          "execution_count": 56
        }
      ],
      "source": [
        "# Your code here:\n",
        "from sklearn.preprocessing import StandardScaler\n",
        "from sklearn.linear_model import LogisticRegression\n",
        "\n",
        "# Normalizamos los datos\n",
        "scaler = StandardScaler()\n",
        "X_train = scaler.fit_transform(X_train)\n",
        "X_test = scaler.transform(X_test)\n",
        "\n",
        "# Entrenar el modelo\n",
        "model = LogisticRegression(solver='lbfgs', max_iter=1000)\n",
        "model"
      ]
    },
    {
      "cell_type": "markdown",
      "metadata": {
        "id": "uXOVnDGV5oj7"
      },
      "source": [
        "A continuación, ajustamos el modelo a nuestros datos de entrenamiento. Ya hemos separado nuestros datos en 4 partes. Utilízalos en tu modelo."
      ]
    },
    {
      "cell_type": "code",
      "execution_count": 57,
      "metadata": {
        "id": "DJI4t0Oh5oj7"
      },
      "outputs": [],
      "source": [
        "# Your code here:\n",
        "# Entrenamos el modelo\n",
        "model.fit(X_train, y_train)\n",
        "\n",
        "# Evaluamos el modelo\n",
        "y_pred = model.predict(X_test)"
      ]
    },
    {
      "cell_type": "markdown",
      "metadata": {
        "id": "eSqrUZwU5oj7"
      },
      "source": [
        "Por último, importamos `confusion_matrix` y `accuracy_score` de `sklearn.metrics` y ajustamos nuestros datos de prueba. Asigna los datos ajustados a `y_pred` e imprime la matriz de confusión y la puntuación de precisión."
      ]
    },
    {
      "cell_type": "code",
      "execution_count": 58,
      "metadata": {
        "colab": {
          "base_uri": "https://localhost:8080/"
        },
        "id": "myH6eDkO5oj7",
        "outputId": "1a05e5e1-0a61-4d5e-bb69-314a744622af"
      },
      "outputs": [
        {
          "output_type": "stream",
          "name": "stdout",
          "text": [
            "Accuracy: 0.95\n",
            "Confusion Matrix:\n",
            "[[218   1]\n",
            " [ 11  22]]\n",
            "Classification Report:\n",
            "              precision    recall  f1-score   support\n",
            "\n",
            "           0       0.95      1.00      0.97       219\n",
            "           1       0.96      0.67      0.79        33\n",
            "\n",
            "    accuracy                           0.95       252\n",
            "   macro avg       0.95      0.83      0.88       252\n",
            "weighted avg       0.95      0.95      0.95       252\n",
            "\n"
          ]
        }
      ],
      "source": [
        "# Your code here\n",
        "from sklearn.metrics import accuracy_score, confusion_matrix, classification_report\n",
        "\n",
        "# Calculamos accuracy\n",
        "accuracy = accuracy_score(y_test, y_pred)\n",
        "print(f'Accuracy: {accuracy:.2f}')\n",
        "\n",
        "# Matriz de confusión\n",
        "conf_matrix = confusion_matrix(y_test, y_pred)\n",
        "print('Confusion Matrix:')\n",
        "print(conf_matrix)\n",
        "\n",
        "# Reporte de clasificación\n",
        "class_report = classification_report(y_test, y_pred)\n",
        "print('Classification Report:')\n",
        "print(class_report)\n"
      ]
    },
    {
      "cell_type": "markdown",
      "metadata": {
        "id": "D29aM83E5oj8"
      },
      "source": [
        "¿Qué opinas del rendimiento del modelo? Escribe tus conclusiones a continuación."
      ]
    },
    {
      "cell_type": "markdown",
      "metadata": {
        "id": "_c0edlNa5oj8"
      },
      "source": [
        "### Conclusiones:\n",
        "Un accuracy de 0.95 es un resultado muy bueno.   \n",
        "Si miramos el f1-score es particularmente bueno, 0.97,  para 0 (sitios web benignos) y de 0.79 para 1 (sitios maliciosos), si queremos ir al detalle veremos que la precisión es similar en ambos casos, pero la sensibilidad (recall) es solo de 0.67 para sitios maliciosos.\n",
        "\n",
        "Si miramos la matriz de confusion vemos que hay 218 true positives y 22 true negatives, si miramos los errores hay 1 falso negativo y 11 falsos positivos. Esto indica que está muy poco balanceado, ya que en la muestra hay muchos más filas con type 0 que 1, lo que puede explicar que el modelo sea muy bueno detectando 0 pero no es bueno detectando el 1 (sitios maliciosos).\n",
        "\n",
        "Se tendrian que conseguir más registros de tipo 1 para poder entrenar el modelo y mejorar la deteccion de webs maliciosas"
      ]
    },
    {
      "cell_type": "markdown",
      "metadata": {
        "id": "ZinmRY8A5oj8"
      },
      "source": [
        "#### Nuestro segundo algoritmo es DecisionTreeClassifier\n",
        "\n",
        "Aunque no es necesario, vamos a ajustar un modelo utilizando los datos de entrenamiento y luego probar el rendimiento del modelo utilizando los datos de prueba. Empezaremos cargando `DecisionTreeClassifier` de scikit-learn y luego inicializando y ajustando el modelo. Empezaremos con un modelo donde max_depth=3"
      ]
    },
    {
      "cell_type": "code",
      "execution_count": 61,
      "metadata": {
        "colab": {
          "base_uri": "https://localhost:8080/",
          "height": 74
        },
        "id": "lYr8OLSJ5oj8",
        "outputId": "8124c6cc-8e5a-42d3-b530-138eeb234d04"
      },
      "outputs": [
        {
          "output_type": "execute_result",
          "data": {
            "text/plain": [
              "DecisionTreeClassifier(max_depth=3)"
            ],
            "text/html": [
              "<style>#sk-container-id-2 {color: black;background-color: white;}#sk-container-id-2 pre{padding: 0;}#sk-container-id-2 div.sk-toggleable {background-color: white;}#sk-container-id-2 label.sk-toggleable__label {cursor: pointer;display: block;width: 100%;margin-bottom: 0;padding: 0.3em;box-sizing: border-box;text-align: center;}#sk-container-id-2 label.sk-toggleable__label-arrow:before {content: \"▸\";float: left;margin-right: 0.25em;color: #696969;}#sk-container-id-2 label.sk-toggleable__label-arrow:hover:before {color: black;}#sk-container-id-2 div.sk-estimator:hover label.sk-toggleable__label-arrow:before {color: black;}#sk-container-id-2 div.sk-toggleable__content {max-height: 0;max-width: 0;overflow: hidden;text-align: left;background-color: #f0f8ff;}#sk-container-id-2 div.sk-toggleable__content pre {margin: 0.2em;color: black;border-radius: 0.25em;background-color: #f0f8ff;}#sk-container-id-2 input.sk-toggleable__control:checked~div.sk-toggleable__content {max-height: 200px;max-width: 100%;overflow: auto;}#sk-container-id-2 input.sk-toggleable__control:checked~label.sk-toggleable__label-arrow:before {content: \"▾\";}#sk-container-id-2 div.sk-estimator input.sk-toggleable__control:checked~label.sk-toggleable__label {background-color: #d4ebff;}#sk-container-id-2 div.sk-label input.sk-toggleable__control:checked~label.sk-toggleable__label {background-color: #d4ebff;}#sk-container-id-2 input.sk-hidden--visually {border: 0;clip: rect(1px 1px 1px 1px);clip: rect(1px, 1px, 1px, 1px);height: 1px;margin: -1px;overflow: hidden;padding: 0;position: absolute;width: 1px;}#sk-container-id-2 div.sk-estimator {font-family: monospace;background-color: #f0f8ff;border: 1px dotted black;border-radius: 0.25em;box-sizing: border-box;margin-bottom: 0.5em;}#sk-container-id-2 div.sk-estimator:hover {background-color: #d4ebff;}#sk-container-id-2 div.sk-parallel-item::after {content: \"\";width: 100%;border-bottom: 1px solid gray;flex-grow: 1;}#sk-container-id-2 div.sk-label:hover label.sk-toggleable__label {background-color: #d4ebff;}#sk-container-id-2 div.sk-serial::before {content: \"\";position: absolute;border-left: 1px solid gray;box-sizing: border-box;top: 0;bottom: 0;left: 50%;z-index: 0;}#sk-container-id-2 div.sk-serial {display: flex;flex-direction: column;align-items: center;background-color: white;padding-right: 0.2em;padding-left: 0.2em;position: relative;}#sk-container-id-2 div.sk-item {position: relative;z-index: 1;}#sk-container-id-2 div.sk-parallel {display: flex;align-items: stretch;justify-content: center;background-color: white;position: relative;}#sk-container-id-2 div.sk-item::before, #sk-container-id-2 div.sk-parallel-item::before {content: \"\";position: absolute;border-left: 1px solid gray;box-sizing: border-box;top: 0;bottom: 0;left: 50%;z-index: -1;}#sk-container-id-2 div.sk-parallel-item {display: flex;flex-direction: column;z-index: 1;position: relative;background-color: white;}#sk-container-id-2 div.sk-parallel-item:first-child::after {align-self: flex-end;width: 50%;}#sk-container-id-2 div.sk-parallel-item:last-child::after {align-self: flex-start;width: 50%;}#sk-container-id-2 div.sk-parallel-item:only-child::after {width: 0;}#sk-container-id-2 div.sk-dashed-wrapped {border: 1px dashed gray;margin: 0 0.4em 0.5em 0.4em;box-sizing: border-box;padding-bottom: 0.4em;background-color: white;}#sk-container-id-2 div.sk-label label {font-family: monospace;font-weight: bold;display: inline-block;line-height: 1.2em;}#sk-container-id-2 div.sk-label-container {text-align: center;}#sk-container-id-2 div.sk-container {/* jupyter's `normalize.less` sets `[hidden] { display: none; }` but bootstrap.min.css set `[hidden] { display: none !important; }` so we also need the `!important` here to be able to override the default hidden behavior on the sphinx rendered scikit-learn.org. See: https://github.com/scikit-learn/scikit-learn/issues/21755 */display: inline-block !important;position: relative;}#sk-container-id-2 div.sk-text-repr-fallback {display: none;}</style><div id=\"sk-container-id-2\" class=\"sk-top-container\"><div class=\"sk-text-repr-fallback\"><pre>DecisionTreeClassifier(max_depth=3)</pre><b>In a Jupyter environment, please rerun this cell to show the HTML representation or trust the notebook. <br />On GitHub, the HTML representation is unable to render, please try loading this page with nbviewer.org.</b></div><div class=\"sk-container\" hidden><div class=\"sk-item\"><div class=\"sk-estimator sk-toggleable\"><input class=\"sk-toggleable__control sk-hidden--visually\" id=\"sk-estimator-id-2\" type=\"checkbox\" checked><label for=\"sk-estimator-id-2\" class=\"sk-toggleable__label sk-toggleable__label-arrow\">DecisionTreeClassifier</label><div class=\"sk-toggleable__content\"><pre>DecisionTreeClassifier(max_depth=3)</pre></div></div></div></div></div>"
            ]
          },
          "metadata": {},
          "execution_count": 61
        }
      ],
      "source": [
        "# Your code here:\n",
        "from sklearn import tree\n",
        "\n",
        "clf = tree.DecisionTreeClassifier(min_samples_leaf=1, max_depth=3)\n",
        "clf.fit(X_train, y_train)"
      ]
    },
    {
      "cell_type": "markdown",
      "metadata": {
        "id": "LusJha5w5oj8"
      },
      "source": [
        "Para probar tu modelo, calcula las probabilidades predichas, decide 0 o 1 utilizando un umbral de 0,5 e imprime la matriz de confusión, así como la puntuación de precisión (en el conjunto de prueba)."
      ]
    },
    {
      "cell_type": "code",
      "execution_count": 63,
      "metadata": {
        "colab": {
          "base_uri": "https://localhost:8080/"
        },
        "id": "sxNMc2xi5oj8",
        "outputId": "c27028a1-1392-415f-b3bc-fdbff403349a"
      },
      "outputs": [
        {
          "output_type": "stream",
          "name": "stdout",
          "text": [
            "Accuracy: 0.94\n",
            "Confusion Matrix:\n",
            "[[219   0]\n",
            " [ 14  19]]\n",
            "Classification Report:\n",
            "              precision    recall  f1-score   support\n",
            "\n",
            "           0       0.94      1.00      0.97       219\n",
            "           1       1.00      0.58      0.73        33\n",
            "\n",
            "    accuracy                           0.94       252\n",
            "   macro avg       0.97      0.79      0.85       252\n",
            "weighted avg       0.95      0.94      0.94       252\n",
            "\n"
          ]
        }
      ],
      "source": [
        "# Your code here:\n",
        "y_pred = clf.predict(X_test)\n",
        "\n",
        "# Calculamos accuracy\n",
        "accuracy = accuracy_score(y_test, y_pred)\n",
        "print(f'Accuracy: {accuracy:.2f}')\n",
        "\n",
        "# Matriz de confusión\n",
        "conf_matrix = confusion_matrix(y_test, y_pred)\n",
        "print('Confusion Matrix:')\n",
        "print(conf_matrix)\n",
        "\n",
        "# Reporte de clasificación\n",
        "class_report = classification_report(y_test, y_pred)\n",
        "print('Classification Report:')\n",
        "print(class_report)"
      ]
    },
    {
      "cell_type": "markdown",
      "metadata": {
        "id": "z6aWwGck5oj8"
      },
      "source": [
        "#### Vamos a crear otro modelo DecisionTreeClassifier con max_depth=5.\n",
        "Inicia y ajusta el modelo de abajo e imprime la matriz de confusión y la puntuación de precisión."
      ]
    },
    {
      "cell_type": "code",
      "execution_count": 64,
      "metadata": {
        "colab": {
          "base_uri": "https://localhost:8080/",
          "height": 74
        },
        "id": "tqK68lpr5oj8",
        "outputId": "bdc1a9ba-d343-4081-acee-4054bbecb50b"
      },
      "outputs": [
        {
          "output_type": "execute_result",
          "data": {
            "text/plain": [
              "DecisionTreeClassifier(max_depth=5)"
            ],
            "text/html": [
              "<style>#sk-container-id-3 {color: black;background-color: white;}#sk-container-id-3 pre{padding: 0;}#sk-container-id-3 div.sk-toggleable {background-color: white;}#sk-container-id-3 label.sk-toggleable__label {cursor: pointer;display: block;width: 100%;margin-bottom: 0;padding: 0.3em;box-sizing: border-box;text-align: center;}#sk-container-id-3 label.sk-toggleable__label-arrow:before {content: \"▸\";float: left;margin-right: 0.25em;color: #696969;}#sk-container-id-3 label.sk-toggleable__label-arrow:hover:before {color: black;}#sk-container-id-3 div.sk-estimator:hover label.sk-toggleable__label-arrow:before {color: black;}#sk-container-id-3 div.sk-toggleable__content {max-height: 0;max-width: 0;overflow: hidden;text-align: left;background-color: #f0f8ff;}#sk-container-id-3 div.sk-toggleable__content pre {margin: 0.2em;color: black;border-radius: 0.25em;background-color: #f0f8ff;}#sk-container-id-3 input.sk-toggleable__control:checked~div.sk-toggleable__content {max-height: 200px;max-width: 100%;overflow: auto;}#sk-container-id-3 input.sk-toggleable__control:checked~label.sk-toggleable__label-arrow:before {content: \"▾\";}#sk-container-id-3 div.sk-estimator input.sk-toggleable__control:checked~label.sk-toggleable__label {background-color: #d4ebff;}#sk-container-id-3 div.sk-label input.sk-toggleable__control:checked~label.sk-toggleable__label {background-color: #d4ebff;}#sk-container-id-3 input.sk-hidden--visually {border: 0;clip: rect(1px 1px 1px 1px);clip: rect(1px, 1px, 1px, 1px);height: 1px;margin: -1px;overflow: hidden;padding: 0;position: absolute;width: 1px;}#sk-container-id-3 div.sk-estimator {font-family: monospace;background-color: #f0f8ff;border: 1px dotted black;border-radius: 0.25em;box-sizing: border-box;margin-bottom: 0.5em;}#sk-container-id-3 div.sk-estimator:hover {background-color: #d4ebff;}#sk-container-id-3 div.sk-parallel-item::after {content: \"\";width: 100%;border-bottom: 1px solid gray;flex-grow: 1;}#sk-container-id-3 div.sk-label:hover label.sk-toggleable__label {background-color: #d4ebff;}#sk-container-id-3 div.sk-serial::before {content: \"\";position: absolute;border-left: 1px solid gray;box-sizing: border-box;top: 0;bottom: 0;left: 50%;z-index: 0;}#sk-container-id-3 div.sk-serial {display: flex;flex-direction: column;align-items: center;background-color: white;padding-right: 0.2em;padding-left: 0.2em;position: relative;}#sk-container-id-3 div.sk-item {position: relative;z-index: 1;}#sk-container-id-3 div.sk-parallel {display: flex;align-items: stretch;justify-content: center;background-color: white;position: relative;}#sk-container-id-3 div.sk-item::before, #sk-container-id-3 div.sk-parallel-item::before {content: \"\";position: absolute;border-left: 1px solid gray;box-sizing: border-box;top: 0;bottom: 0;left: 50%;z-index: -1;}#sk-container-id-3 div.sk-parallel-item {display: flex;flex-direction: column;z-index: 1;position: relative;background-color: white;}#sk-container-id-3 div.sk-parallel-item:first-child::after {align-self: flex-end;width: 50%;}#sk-container-id-3 div.sk-parallel-item:last-child::after {align-self: flex-start;width: 50%;}#sk-container-id-3 div.sk-parallel-item:only-child::after {width: 0;}#sk-container-id-3 div.sk-dashed-wrapped {border: 1px dashed gray;margin: 0 0.4em 0.5em 0.4em;box-sizing: border-box;padding-bottom: 0.4em;background-color: white;}#sk-container-id-3 div.sk-label label {font-family: monospace;font-weight: bold;display: inline-block;line-height: 1.2em;}#sk-container-id-3 div.sk-label-container {text-align: center;}#sk-container-id-3 div.sk-container {/* jupyter's `normalize.less` sets `[hidden] { display: none; }` but bootstrap.min.css set `[hidden] { display: none !important; }` so we also need the `!important` here to be able to override the default hidden behavior on the sphinx rendered scikit-learn.org. See: https://github.com/scikit-learn/scikit-learn/issues/21755 */display: inline-block !important;position: relative;}#sk-container-id-3 div.sk-text-repr-fallback {display: none;}</style><div id=\"sk-container-id-3\" class=\"sk-top-container\"><div class=\"sk-text-repr-fallback\"><pre>DecisionTreeClassifier(max_depth=5)</pre><b>In a Jupyter environment, please rerun this cell to show the HTML representation or trust the notebook. <br />On GitHub, the HTML representation is unable to render, please try loading this page with nbviewer.org.</b></div><div class=\"sk-container\" hidden><div class=\"sk-item\"><div class=\"sk-estimator sk-toggleable\"><input class=\"sk-toggleable__control sk-hidden--visually\" id=\"sk-estimator-id-3\" type=\"checkbox\" checked><label for=\"sk-estimator-id-3\" class=\"sk-toggleable__label sk-toggleable__label-arrow\">DecisionTreeClassifier</label><div class=\"sk-toggleable__content\"><pre>DecisionTreeClassifier(max_depth=5)</pre></div></div></div></div></div>"
            ]
          },
          "metadata": {},
          "execution_count": 64
        }
      ],
      "source": [
        "# Your code here:\n",
        "\n",
        "clf = tree.DecisionTreeClassifier(min_samples_leaf=1, max_depth=5)\n",
        "clf.fit(X_train, y_train)"
      ]
    },
    {
      "cell_type": "code",
      "source": [
        "y_pred = clf.predict(X_test)\n",
        "\n",
        "# Calculamos accuracy\n",
        "accuracy = accuracy_score(y_test, y_pred)\n",
        "print(f'Accuracy: {accuracy:.2f}')\n",
        "\n",
        "# Matriz de confusión\n",
        "conf_matrix = confusion_matrix(y_test, y_pred)\n",
        "print('Confusion Matrix:')\n",
        "print(conf_matrix)\n",
        "\n",
        "# Reporte de clasificación\n",
        "class_report = classification_report(y_test, y_pred)\n",
        "print('Classification Report:')\n",
        "print(class_report)"
      ],
      "metadata": {
        "colab": {
          "base_uri": "https://localhost:8080/"
        },
        "id": "0xdoXSBMaCAB",
        "outputId": "d3a46b3e-d7a9-46ec-bcfe-3938cf09d8cd"
      },
      "execution_count": 65,
      "outputs": [
        {
          "output_type": "stream",
          "name": "stdout",
          "text": [
            "Accuracy: 0.93\n",
            "Confusion Matrix:\n",
            "[[207  12]\n",
            " [  5  28]]\n",
            "Classification Report:\n",
            "              precision    recall  f1-score   support\n",
            "\n",
            "           0       0.98      0.95      0.96       219\n",
            "           1       0.70      0.85      0.77        33\n",
            "\n",
            "    accuracy                           0.93       252\n",
            "   macro avg       0.84      0.90      0.86       252\n",
            "weighted avg       0.94      0.93      0.94       252\n",
            "\n"
          ]
        }
      ]
    },
    {
      "cell_type": "markdown",
      "metadata": {
        "id": "b4KFqQMK5oj8"
      },
      "source": [
        "¿Has observado una mejora en la matriz de confusión al aumentar max_depth a 5? ¿Has observado una mejora en la puntuación de precisión? Escribe tus conclusiones a continuación."
      ]
    },
    {
      "cell_type": "markdown",
      "metadata": {
        "id": "nheL_DUt5oj9"
      },
      "source": [
        "### Conclusión:\n",
        "\n",
        "Al aumentar max_depth a 5 la accuracy ha bajado un poco, de 0.94 a 0.93\n",
        "\n",
        "La matriz de confusión con 3 es [[219   0] [ 14  19]]  y con 5 [ [207  12] [  5  28]]\n",
        "                                          \n",
        "con 5 han aumentado los falsos negativos y han bajado los falsos positivos.\n",
        "Mirando los valores mejora la sensibilidad de detección de 1 pero baja el de 0 y si miramos f1-score vemos que para 0 baja ligeramente (0.97 a 0.96) pero mejora para 1 (de 0.73 a 0.77)"
      ]
    },
    {
      "cell_type": "markdown",
      "metadata": {
        "id": "FNfPjKsY5oj9"
      },
      "source": [
        "<!-- Add your conclusion here -->"
      ]
    },
    {
      "cell_type": "code",
      "source": [],
      "metadata": {
        "id": "DH_GtVwubs4Q"
      },
      "execution_count": null,
      "outputs": []
    },
    {
      "cell_type": "markdown",
      "metadata": {
        "id": "NDwQtwRV5oj9"
      },
      "source": [
        "# Bonus Challenge - Escalado de características\n",
        "\n",
        "La resolución de problemas en el aprendizaje automático es iterativa. Puede mejorar la predicción de su modelo con diversas técnicas (aunque hay un punto óptimo para el tiempo que invierte y la mejora que obtiene). Ahora sólo has completado una iteración del análisis ML. Hay más iteraciones que puedes realizar para introducir mejoras. Para poder hacerlo, necesitarás conocimientos más profundos en estadística y dominar más técnicas de análisis de datos. En este bootcamp, no tenemos tiempo para alcanzar ese objetivo avanzado. Pero harás esfuerzos constantes después del bootcamp para conseguirlo finalmente.\n",
        "\n",
        "Sin embargo, ahora sí queremos que aprendas una de las técnicas avanzadas que se llama *feature scaling*. La idea del escalado de características es estandarizar/normalizar el rango de variables independientes o características de los datos. Esto puede hacer que los valores atípicos sean más evidentes para que pueda eliminarlos. Este paso debe realizarse durante el Desafío 6 después de dividir los datos de entrenamiento y de prueba, ya que no desea dividir los datos de nuevo, lo que hace imposible comparar los resultados con y sin el escalado de características. Para conceptos generales sobre el escalado de características, haga clic [aquí](https://en.wikipedia.org/wiki/Feature_scaling). Para profundizar, haga clic [aquí](https://medium.com/greyatom/why-how-and-when-to-scale-your-features-4b30ab09db5e).\n",
        "\n",
        "En la siguiente celda, intente mejorar la precisión de predicción de su modelo mediante el escalado de características. Una librería que puedes utilizar es `sklearn.preprocessing.RobustScaler` ([documentation](https://scikit-learn.org/stable/modules/generated/sklearn.preprocessing.RobustScaler.html)). Utilizarás `RobustScaler` para ajustar y transformar tu `X_train`, y luego transformar `X_test`. Utilizarás la regresión logística para ajustar y predecir tus datos transformados y obtener la puntuación de precisión de la misma manera. Compare la puntuación de precisión con sus datos normalizados con los datos de precisión anteriores. ¿Se ha producido alguna mejora?"
      ]
    },
    {
      "cell_type": "code",
      "execution_count": null,
      "metadata": {
        "id": "q3l0ddXc5oj9"
      },
      "outputs": [],
      "source": [
        "# Your code here"
      ]
    },
    {
      "cell_type": "markdown",
      "metadata": {
        "id": "zE099dEX5oj9"
      },
      "source": [
        "## Conclusiones:"
      ]
    },
    {
      "cell_type": "markdown",
      "metadata": {
        "id": "mUD8UP0k5oj9"
      },
      "source": [
        "Add your comments here:"
      ]
    }
  ],
  "metadata": {
    "kernelspec": {
      "display_name": "Python 3 (ipykernel)",
      "language": "python",
      "name": "python3"
    },
    "language_info": {
      "codemirror_mode": {
        "name": "ipython",
        "version": 3
      },
      "file_extension": ".py",
      "mimetype": "text/x-python",
      "name": "python",
      "nbconvert_exporter": "python",
      "pygments_lexer": "ipython3",
      "version": "3.11.5"
    },
    "toc": {
      "base_numbering": 1,
      "nav_menu": {},
      "number_sections": true,
      "sideBar": true,
      "skip_h1_title": false,
      "title_cell": "Table of Contents",
      "title_sidebar": "Contents",
      "toc_cell": true,
      "toc_position": {},
      "toc_section_display": true,
      "toc_window_display": false
    },
    "varInspector": {
      "cols": {
        "lenName": 16,
        "lenType": 16,
        "lenVar": 40
      },
      "kernels_config": {
        "python": {
          "delete_cmd_postfix": "",
          "delete_cmd_prefix": "del ",
          "library": "var_list.py",
          "varRefreshCmd": "print(var_dic_list())"
        },
        "r": {
          "delete_cmd_postfix": ") ",
          "delete_cmd_prefix": "rm(",
          "library": "var_list.r",
          "varRefreshCmd": "cat(var_dic_list()) "
        }
      },
      "types_to_exclude": [
        "module",
        "function",
        "builtin_function_or_method",
        "instance",
        "_Feature"
      ],
      "window_display": false
    },
    "colab": {
      "provenance": []
    }
  },
  "nbformat": 4,
  "nbformat_minor": 0
}