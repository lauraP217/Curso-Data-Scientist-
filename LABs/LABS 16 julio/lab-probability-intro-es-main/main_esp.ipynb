{
 "cells": [
  {
   "cell_type": "markdown",
   "metadata": {},
   "source": [
    "# Probability"
   ]
  },
  {
   "cell_type": "markdown",
   "metadata": {},
   "source": [
    "## Reto 1\n",
    "Hay una caja con 10 bolas blancas, 12 bolas rojas y 8 bolas negras. Calcula la probabilidad de:\n",
    "* Sacar una bola blanca.\n",
    "* Sacar una bola blanca en la primera extracción y una bola negra en la segunda extracción sin reemplazar la primera.\n",
    "* Sacar una bola blanca en la primera extracción y una bola negra en la segunda extracción reemplazando la primera.\n",
    "* Sacar 3 bolas y que sean todas de diferentes colores."
   ]
  },
  {
   "cell_type": "code",
   "execution_count": 6,
   "metadata": {},
   "outputs": [
    {
     "name": "stdout",
     "output_type": "stream",
     "text": [
      "La probabilidad de sacar bola blanca es: 33.33%\n",
      "La probabilidad de sacar bola blanca en la primera extracción y una bola negra en la segunda extracción sin reemplazar la primera es: 13.79%\n",
      "La probabilidad de sacar bola blanca en la primera extracción y una bola negra en la segunda extracción reemplazando la primera es: 13.33%\n",
      "La probabilidad de sacar 3 bolas y que sean todas de diferentes colores es: 3.94%\n"
     ]
    }
   ],
   "source": [
    "pB=10/30\n",
    "print(f\"La probabilidad de sacar bola blanca es: {pB*100:.2f}%\")\n",
    "pBN=10/30*12/29\n",
    "print(f\"La probabilidad de sacar bola blanca en la primera extracción y una bola negra en la segunda extracción sin reemplazar la primera es: {pBN*100:.2f}%\")\n",
    "pBNr=10/30*12/30\n",
    "print(f\"La probabilidad de sacar bola blanca en la primera extracción y una bola negra en la segunda extracción reemplazando la primera es: {pBNr*100:.2f}%\")\n",
    "pBNr=10/30*12/29*8/28\n",
    "print(f\"La probabilidad de sacar 3 bolas y que sean todas de diferentes colores es: {pBNr*100:.2f}%\")"
   ]
  },
  {
   "cell_type": "markdown",
   "metadata": {},
   "source": [
    "## Reto 2\n",
    "\n",
    "Quieres ir de picnic el sábado. Odias la lluvia y quieres planificar tu fin de semana. Para ayudarte a tomar una decisión, recopilas los siguientes datos sobre los días lluviosos:\n",
    "\n",
    "* El 40% de todos los días están nublados.\n",
    "* Aproximadamente el 50% de los días nublados son lluviosos.\n",
    "* Aproximadamente el 20% de los días no nublados son lluviosos.\n",
    "\n",
    "¿Cuál es la probabilidad de que llueva el próximo sábado?"
   ]
  },
  {
   "cell_type": "code",
   "execution_count": 9,
   "metadata": {},
   "outputs": [
    {
     "name": "stdout",
     "output_type": "stream",
     "text": [
      "La probabilidad de que llueva el próximo sábado es: 32.00%\n"
     ]
    }
   ],
   "source": [
    "#PLluviaSab= (Nublado ∩ LLuvioso) U (NoNublado ∩ LLuvioso)\n",
    "PLluviaSab= (0.40 * 0.5) + (0.6 * 0.20)\n",
    "\n",
    "print(f\"La probabilidad de que llueva el próximo sábado es: {PLluviaSab*100:.2f}%\")      "
   ]
  },
  {
   "cell_type": "markdown",
   "metadata": {},
   "source": [
    "## Reto 3\n",
    "\n",
    "A y B son eventos de una probabilidad tal que \\(P(A) = 0.3\\), \\(P(B) = 0.6\\) y \\(P(A \\cap B) = 0.1\\)\n",
    "\n",
    "¿Cuáles de las siguientes afirmaciones son verdaderas?\n",
    "**SUGERENCIA: dibuja un gran diagrama de Venn a tu lado**\n",
    "* \\(P(\\overline{A}) = 0.7\\)\n",
    "* \\(P(A \\cup B) = 0.6\\)\n",
    "* \\(P(A \\cap \\overline{B}) = 0.2\\)\n",
    "* \\(P(A \\cup \\overline{A}) = 1\\)  \n",
    "* \\(P(A \\cap (B \\cup \\overline{B})) = 0.4\\)\n",
    "* \\(P(\\overline{A} \\cap \\overline{B}) = 0.3\\)\n",
    "* \\(P(\\overline{A \\cap B}) = 0.9\\)"
   ]
  },
  {
   "cell_type": "code",
   "execution_count": 29,
   "metadata": {},
   "outputs": [
    {
     "name": "stdout",
     "output_type": "stream",
     "text": [
      "La afirmación P(Ā)=0.7 es verdadera: True \n",
      "La afirmación P(A∪B)=0.6 es falsa, es 0.8: False \n",
      "La afirmación P(A∩B')=0.2 es verdadera: True \n",
      "La afirmación P(A∪Ā)=1 es verdadera: True \n",
      "La afirmación P(A∩(B∪B')= 0.4 es falsa, es 0.3: False \n",
      "La afirmación P(Ā∩B')= 0.3 es falsa, es 0.6: False \n",
      "La afirmación P(Ā∩B))= 0.9 es falsa, es 0.5 : False \n"
     ]
    }
   ],
   "source": [
    "print(f\"La afirmación P(Ā)=0.7 es verdadera: {1-0.3==0.7} \")\n",
    "print(f\"La afirmación P(A∪B)=0.6 es falsa, es 0.8: {0.6==0.3 + 0.6 - 0.1} \")\n",
    "print(f\"La afirmación P(A∩B')=0.2 es verdadera: {0.2 == round(0.3-0.1,1)} \")\n",
    "print(f\"La afirmación P(A∪Ā)=1 es verdadera: {1==0.3 + 1- 0.3} \")\n",
    "print(f\"La afirmación P(A∩(B∪B')= 0.4 es falsa, es 0.3: {0.4 ==0.3 } \")\n",
    "print(f\"La afirmación P(Ā∩B')= 0.3 es falsa, es 0.6: {0.3 ==(1-0.3) - (0.1) } \")\n",
    "print(f\"La afirmación P(Ā∩B))= 0.9 es falsa, es 0.5 : {0.9 == (0.6-0.1)} \")"
   ]
  },
  {
   "cell_type": "markdown",
   "metadata": {},
   "source": [
    "## Reto 4\n",
    "\n",
    "* Si alguien viaja a China, la probabilidad de contraer Covid es del 1%\n",
    "* Si alguien viaja a Italia, la probabilidad de contraer Covid es del 20%\n",
    "\n",
    "Lanzo un dado con números 1, 2, 3, 4, 5, 6:\n",
    "* Si sale 1: Vuelo a Italia\n",
    "* Si no sale 1: Vuelo a China\n",
    "\n",
    "Durante mi viaje, contraje Covid. ¿Cuál es la probabilidad de que haya volado a China?"
   ]
  },
  {
   "cell_type": "code",
   "execution_count": 12,
   "metadata": {},
   "outputs": [
    {
     "name": "stdout",
     "output_type": "stream",
     "text": [
      "La probabilidad de que haya volado a China es 24.0%\n"
     ]
    }
   ],
   "source": [
    "PItalia=1/6 \n",
    "PChina=5/6  \n",
    "PcovItalia=20/100 \n",
    "PcovChina=1/100   \n",
    "PCogerCovid= PItalia * PcovItalia + PChina * PcovChina\n",
    "\n",
    "#P(contraje_Co#v|Fui_China) =P (China ∩ coger_covid) / PCogerCovid\n",
    "\n",
    "PConCovid_fui_a_china= (PcovChina / PCogerCovid)\n",
    "#PConCovid_fui_a_china=PcovChina*PChina / \n",
    "print(f\"La probabilidad de que haya volado a China es {round(PConCovid_fui_a_china*100,2)}%\")\n"
   ]
  },
  {
   "cell_type": "markdown",
   "metadata": {},
   "source": [
    "## BONUS\n",
    "\n",
    "Lanzas 2 dados. ¿Cuál es la probabilidad de que la suma de los números sea 7? ¿Y 8? ¿Y 9? Luego simula 10000 veces y dibuja un gráfico de conteo.\n",
    "\n",
    "tu explicación aquí"
   ]
  },
  {
   "cell_type": "code",
   "execution_count": 15,
   "metadata": {},
   "outputs": [
    {
     "name": "stdout",
     "output_type": "stream",
     "text": [
      "La probabilidad de que la suma sea 7 es 16.67%\n",
      "La probabilidad de que la suma sea 8 es 13.89%\n",
      "La probabilidad de que la suma sea 9 es 11.11%\n"
     ]
    }
   ],
   "source": [
    "P7=6/(6*6)   #P16+P25+P34+P43+P52+P61\n",
    "print(f\"La probabilidad de que la suma sea 7 es {round(P7*100,2)}%\")\n",
    "\n",
    "P8=5/(6*6)   #P26+P35+P44+P53+P62\n",
    "print(f\"La probabilidad de que la suma sea 8 es {round(P8*100,2)}%\")\n",
    "\n",
    "P9=4/(6*6)   #P36+P45+P54+P63\n",
    "print(f\"La probabilidad de que la suma sea 9 es {round(P9*100,2)}%\")"
   ]
  },
  {
   "cell_type": "code",
   "execution_count": 58,
   "metadata": {},
   "outputs": [
    {
     "data": {
      "image/png": "[encoded data removed]",
      "text/plain": [
       "<Figure size 640x480 with 1 Axes>"
      ]
     },
     "metadata": {},
     "output_type": "display_data"
    }
   ],
   "source": [
    "import numpy as np\n",
    "import matplotlib.pyplot as plt\n",
    "\n",
    "\n",
    "nums1=np.random.randint(1,7,10000)\n",
    "nums2=np.random.randint(1,7,10000)\n",
    "plt.hist(nums1+nums2,bins=10)\n",
    "plt.show()"
   ]
  },
  {
   "cell_type": "code",
   "execution_count": 57,
   "metadata": {},
   "outputs": [
    {
     "name": "stdout",
     "output_type": "stream",
     "text": [
      "La probabilidad de que la suma sea 7 es aproximadamente 17.0%\n",
      "La probabilidad de que la suma sea 8 es aproximadamente 14.0%\n",
      "La probabilidad de que la suma sea 9 es aproximadamente 11.0%\n"
     ]
    }
   ],
   "source": [
    "P7=1700/10000\n",
    "print(f\"La probabilidad de que la suma sea 7 es aproximadamente {round(P7*100,2)}%\")\n",
    "\n",
    "P8=1400/10000\n",
    "print(f\"La probabilidad de que la suma sea 8 es aproximadamente {round(P8*100,2)}%\")\n",
    "\n",
    "P9=1100/10000\n",
    "print(f\"La probabilidad de que la suma sea 9 es aproximadamente {round(P9*100,2)}%\")\n",
    "\n"
   ]
  },
  {
   "cell_type": "code",
   "execution_count": null,
   "metadata": {},
   "outputs": [],
   "source": []
  },
  {
   "cell_type": "code",
   "execution_count": null,
   "metadata": {},
   "outputs": [],
   "source": []
  },
  {
   "cell_type": "code",
   "execution_count": null,
   "metadata": {},
   "outputs": [],
   "source": []
  },
  {
   "cell_type": "code",
   "execution_count": null,
   "metadata": {},
   "outputs": [],
   "source": []
  },
  {
   "cell_type": "code",
   "execution_count": null,
   "metadata": {},
   "outputs": [],
   "source": []
  }
 ],
 "metadata": {
  "kernelspec": {
   "display_name": "Python 3 (ipykernel)",
   "language": "python",
   "name": "python3"
  },
  "language_info": {
   "codemirror_mode": {
    "name": "ipython",
    "version": 3
   },
   "file_extension": ".py",
   "mimetype": "text/x-python",
   "name": "python",
   "nbconvert_exporter": "python",
   "pygments_lexer": "ipython3",
   "version": "3.12.3"
  },
  "toc": {
   "base_numbering": 1,
   "nav_menu": {},
   "number_sections": false,
   "sideBar": true,
   "skip_h1_title": false,
   "title_cell": "Table of Contents",
   "title_sidebar": "Contents",
   "toc_cell": false,
   "toc_position": {
    "height": "calc(100% - 180px)",
    "left": "10px",
    "top": "150px",
    "width": "296.475px"
   },
   "toc_section_display": true,
   "toc_window_display": false
  },
  "varInspector": {
   "cols": {
    "lenName": 16,
    "lenType": 16,
    "lenVar": 40
   },
   "kernels_config": {
    "python": {
     "delete_cmd_postfix": "",
     "delete_cmd_prefix": "del ",
     "library": "var_list.py",
     "varRefreshCmd": "print(var_dic_list())"
    },
    "r": {
     "delete_cmd_postfix": ") ",
     "delete_cmd_prefix": "rm(",
     "library": "var_list.r",
     "varRefreshCmd": "cat(var_dic_list()) "
    }
   },
   "types_to_exclude": [
    "module",
    "function",
    "builtin_function_or_method",
    "instance",
    "_Feature"
   ],
   "window_display": false
  }
 },
 "nbformat": 4,
 "nbformat_minor": 4
}
