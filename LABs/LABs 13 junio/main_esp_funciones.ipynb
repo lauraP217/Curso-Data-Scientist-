{
 "cells": [
  {
   "cell_type": "markdown",
   "metadata": {},
   "source": [
    "# Functions"
   ]
  },
  {
   "cell_type": "markdown",
   "metadata": {},
   "source": [
    "En este laboratorio pondremos en práctica algunos de los conceptos que hemos aprendido en los últimos días.\n",
    "\n",
    "`NOTA: En este laboratorio deberías intentar escribir todas las funciones por ti mismo utilizando solo la sintaxis más básica de Python y sin funciones como len, count, sum, max, min, in, etc. Dale una oportunidad. 🧑🏻‍💻👩🏻‍💻`\n",
    "\n",
    "La celda después de cada ejercicio contiene algunas pruebas para verificar si tu función funciona como se espera."
   ]
  },
  {
   "cell_type": "code",
   "execution_count": 1,
   "metadata": {},
   "outputs": [],
   "source": [
    "from mod.testing import *\n",
    "import unittest"
   ]
  },
  {
   "cell_type": "markdown",
   "metadata": {},
   "source": [
    "## 1. Escribe una función que devuelva el mayor de dos números"
   ]
  },
  {
   "cell_type": "code",
   "execution_count": 2,
   "metadata": {},
   "outputs": [],
   "source": [
    "def greater(a,b):\n",
    "\n",
    "    '''\n",
    "    USO: Función que devuelva el mayor de dos números, si son iguales devolverá el primero \n",
    "    PARAMETROS: a [float], b[float]: lista de elementos\n",
    "    DEVOLUCION: m[float]: mayor numero\n",
    "    '''\n",
    "    if a>=b:\n",
    "        m = a\n",
    "    else:\n",
    "        m = b\n",
    "    return m\n",
    "    \n"
   ]
  },
  {
   "cell_type": "code",
   "execution_count": 3,
   "metadata": {},
   "outputs": [
    {
     "name": "stderr",
     "output_type": "stream",
     "text": [
      "....................................................................................................\n",
      "----------------------------------------------------------------------\n",
      "Ran 100 tests in 0.054s\n",
      "\n",
      "OK\n"
     ]
    }
   ],
   "source": [
    "# Para testear tu función\n",
    "test_greater(greater)"
   ]
  },
  {
   "cell_type": "markdown",
   "metadata": {},
   "source": [
    "## 2. Ahora escribe una función que devuelva el elemento más"
   ]
  },
  {
   "cell_type": "code",
   "execution_count": null,
   "metadata": {},
   "outputs": [],
   "source": [
    "#tu codigo aquí\n"
   ]
  },
  {
   "cell_type": "code",
   "execution_count": null,
   "metadata": {},
   "outputs": [],
   "source": [
    "# Para testear tu función\n",
    "test_greatest(greatest)"
   ]
  },
  {
   "cell_type": "markdown",
   "metadata": {},
   "source": [
    "## 3. Escribe una función que sume todos los elementos de una lista"
   ]
  },
  {
   "cell_type": "code",
   "execution_count": 4,
   "metadata": {},
   "outputs": [],
   "source": [
    "def sum_all(lst):\n",
    "    '''\n",
    "    USO: Sumar todos los elementos \n",
    "    PARAMETROS: lst [list]: lista de elementos\n",
    "    VARIABLES: s[float]: suma de elementos\n",
    "    DEVOLUCION: s[float]: suma de elementos\n",
    "    '''\n",
    "    s=0\n",
    "    for el in lst:\n",
    "        s += el\n",
    "    return s\n",
    "\n",
    "    "
   ]
  },
  {
   "cell_type": "code",
   "execution_count": 5,
   "metadata": {
    "scrolled": true
   },
   "outputs": [
    {
     "name": "stderr",
     "output_type": "stream",
     "text": [
      "....................................................................................................\n",
      "----------------------------------------------------------------------\n",
      "Ran 100 tests in 0.054s\n",
      "\n",
      "OK\n"
     ]
    }
   ],
   "source": [
    "# Para testear tu función\n",
    "test_sum(sum_all)"
   ]
  },
  {
   "cell_type": "markdown",
   "metadata": {},
   "source": [
    "## 4. Escribe otra función que multiplique todos los elementos de una lista"
   ]
  },
  {
   "cell_type": "code",
   "execution_count": 6,
   "metadata": {},
   "outputs": [],
   "source": [
    "def mult_all(lst):\n",
    "#tu codigo aquí\n",
    "    '''\n",
    "    USO: Multiplicar todos los elementos \n",
    "    PARAMETROS: lst [list]: lista de elementos\n",
    "    VARIABLES: m[float]: producto de los elementos\n",
    "    DEVOLUCION: m[float]: producto de los elementos\n",
    "    '''\n",
    "    p=1\n",
    "    for el in lst:\n",
    "        p *= el\n",
    "    return p\n"
   ]
  },
  {
   "cell_type": "code",
   "execution_count": 7,
   "metadata": {
    "scrolled": true
   },
   "outputs": [
    {
     "name": "stderr",
     "output_type": "stream",
     "text": [
      "....................................................................................................\n",
      "----------------------------------------------------------------------\n",
      "Ran 100 tests in 0.065s\n",
      "\n",
      "OK\n"
     ]
    }
   ],
   "source": [
    "# Para testear tu función\n",
    "test_mult(mult_all)"
   ]
  },
  {
   "cell_type": "markdown",
   "metadata": {},
   "source": [
    "## 5. Ahora combina esas dos ideas y escribe una función que reciba una lista y ya sea \"+\" o \"*\", y produzca el resultado acorde"
   ]
  },
  {
   "cell_type": "code",
   "execution_count": 8,
   "metadata": {},
   "outputs": [],
   "source": [
    "def oper_all(arr, oper = \"*\"):\n",
    "    '''\n",
    "    USO: Multiplicar o sumar todos los elementos según el parametro oper\n",
    "    PARAMETROS: arr[list]: lista de elementos \n",
    "                oper[str]: función a realizar\n",
    "    VARIABLES: r[float]: producto o suma de los elementos\n",
    "    DEVOLUCION: r[float]: producto o suma de los elementos\n",
    "    '''\n",
    "    if oper==\"*\":\n",
    "        r=1\n",
    "        for el in arr:\n",
    "            r *= el\n",
    "    else:\n",
    "        r=0\n",
    "        for el in arr:\n",
    "            r += el\n",
    "    \n",
    "    return r\n"
   ]
  },
  {
   "cell_type": "code",
   "execution_count": 9,
   "metadata": {},
   "outputs": [
    {
     "name": "stderr",
     "output_type": "stream",
     "text": [
      "....................................................................................................\n",
      "----------------------------------------------------------------------\n",
      "Ran 100 tests in 0.057s\n",
      "\n",
      "OK\n"
     ]
    }
   ],
   "source": [
    "# Para testear tu función\n",
    "test_operations(oper_all)"
   ]
  },
  {
   "cell_type": "markdown",
   "metadata": {},
   "source": [
    "## 6. Escribe una función que devuelva el factorial de un número."
   ]
  },
  {
   "cell_type": "code",
   "execution_count": 10,
   "metadata": {},
   "outputs": [],
   "source": [
    "def factorial(n):\n",
    "    '''\n",
    "    USO: Devuelve el factorial de un número.\n",
    "    PARAMETROS: n [int]: numero a calcular\n",
    "    VARIABLES: f[int]: factorial del numero\n",
    "    DEVOLUCION: f[int]: factorial del numero\n",
    "    '''\n",
    "    f=1\n",
    "    for i in range(n,0,-1):\n",
    "        f*=i\n",
    "    return f"
   ]
  },
  {
   "cell_type": "code",
   "execution_count": 11,
   "metadata": {},
   "outputs": [],
   "source": [
    "# Fórmula factorial\n",
    "# n! = n * (n - 1) *...*1\n",
    "\n",
    "# Este código define una función llamada \"factorial\" que toma una entrada \"n\". La función utiliza un bucle for para iterar a través del rango de números\n",
    "# desde 1 hasta n+1. Para cada número en ese rango, multiplica el valor actual de x por el número en el rango. Al final del bucle,\n",
    "# la función devuelve el valor final de x, que será el factorial del número de entrada \"n\".\n",
    "\n",
    "# El factorial de un entero positivo n es el producto de todos los enteros positivos menores o iguales a n.\n",
    "# Por ejemplo, el factorial de 6 (escrito \"6!\") es 6 * 5 * 4 * 3 * 2 * 1 = 720.\n",
    "\n",
    "# Así que esta función toma una entrada de cualquier entero positivo y devuelve el factorial de ese número."
   ]
  },
  {
   "cell_type": "code",
   "execution_count": 12,
   "metadata": {},
   "outputs": [
    {
     "name": "stderr",
     "output_type": "stream",
     "text": [
      "....................................................................................................\n",
      "----------------------------------------------------------------------\n",
      "Ran 100 tests in 0.059s\n",
      "\n",
      "OK\n"
     ]
    }
   ],
   "source": [
    "# This will test your function \n",
    "test_factorial(factorial)"
   ]
  },
  {
   "cell_type": "markdown",
   "metadata": {},
   "source": [
    "## 7. Escribe una función que tome una lista y devuelva una lista de los valores únicos.\n",
    "\n",
    "`NOTE: No podemos usar set. 🤔`"
   ]
  },
  {
   "cell_type": "code",
   "execution_count": 13,
   "metadata": {},
   "outputs": [],
   "source": [
    "def unique(lst_un):\n",
    "    '''\n",
    "    USO: Devuelve una lista de los valores únicos a partir de una lista\n",
    "    PARAMETROS: lst_un[list]: lista de elementos\n",
    "    VARIABLES: lst_r[list]: lista de elementos unicos\n",
    "    DEVOLUCION: lst_r[list]: lista de elementos unicos\n",
    "    '''\n",
    "    lst_r=[]\n",
    "    for el in lst_un:\n",
    "        if el not in lst_r:\n",
    "            lst_r.append(el)\n",
    "        \n",
    "    return lst_r\n"
   ]
  },
  {
   "cell_type": "code",
   "execution_count": 14,
   "metadata": {},
   "outputs": [
    {
     "name": "stderr",
     "output_type": "stream",
     "text": [
      "....................................................................................................\n",
      "----------------------------------------------------------------------\n",
      "Ran 100 tests in 0.084s\n",
      "\n",
      "OK\n"
     ]
    }
   ],
   "source": [
    "# Para testear tu función \n",
    "test_unique(unique)"
   ]
  },
  {
   "cell_type": "markdown",
   "metadata": {},
   "source": [
    "## 8. Escribe una función que devuelva la moda de una lista, es decir: el elemento que aparece más veces.\n",
    "\n",
    "`NOTE: No se debe usar count... 🧐`"
   ]
  },
  {
   "cell_type": "code",
   "execution_count": 15,
   "metadata": {},
   "outputs": [],
   "source": [
    "def mode_counter(arr):\n",
    "    '''\n",
    "    USO: Devuelve la moda de una lista \n",
    "    PARAMETROS: arr[list]: lista de elementos\n",
    "    VARIABLES: m[float]: moda de la lista\n",
    "               v[int]: numero veces que aparece\n",
    "               vm [int]: numero veces que aparece la moda\n",
    "               n[float]: numero actual\n",
    "    DEVOLUCION: m[float]: moda de la lista \n",
    "    '''\n",
    "    m=0\n",
    "    v=0\n",
    "    vm=0\n",
    "    n=arr[0]\n",
    "\n",
    "    arr.sort()\n",
    "    \n",
    "    for i in arr:\n",
    "        #print (i,n,v,vm,m)\n",
    "        if n==i: # Si es el mismo numero incremento el contador\n",
    "            v+=1\n",
    "        else:\n",
    "            if v>vm: # Si es otro numero miro si está más veces que el que de momento es la moda, si es así actualizo la moda y las veces que está\n",
    "                vm=v\n",
    "                m=n\n",
    "            n=i      # Actualizo el numero actual a i y el contador de numero de veces a 1\n",
    "            v=1\n",
    "    if v>vm: # Compruebo si el último es el mas repetido y por tanto, la moda\n",
    "        m=n\n",
    "    return m         \n"
   ]
  },
  {
   "cell_type": "code",
   "execution_count": 16,
   "metadata": {},
   "outputs": [
    {
     "name": "stderr",
     "output_type": "stream",
     "text": [
      "....................................................................................................\n",
      "----------------------------------------------------------------------\n",
      "Ran 100 tests in 0.058s\n",
      "\n",
      "OK\n"
     ]
    }
   ],
   "source": [
    "# Para testear tu función \n",
    "test_mode(mode_counter)"
   ]
  },
  {
   "cell_type": "markdown",
   "metadata": {},
   "source": [
    "## 9. Escribe una función que calcule la desviación estándar de una lista.\n",
    "`NOTE: no utilices librerías ni ninguna función ya construida. 😉`"
   ]
  },
  {
   "cell_type": "code",
   "execution_count": 17,
   "metadata": {},
   "outputs": [],
   "source": [
    "def st_dev(list_sd):\n",
    "    '''\n",
    "    USO: Devuelve la desviación estándar de una lista \n",
    "    PARAMETROS: list_sd[list]: lista de elementos\n",
    "    VARIABLES: med[float]: media de la lista\n",
    "               var[int]: la varianza de la lista\n",
    "               desv[float]: la desviación estándar de la lista\n",
    "    DEVOLUCION: desv[float]: la desviación estándar de la lista\n",
    "    '''\n",
    "\n",
    "    med = sum(list_sd)/len(list_sd)                             # Calcular la media\n",
    "    var = sum([(k-med)**2 for k in list_sd])/(len(list_sd)-1)   # Calcular la varianza\n",
    "    desv = (var)**0.5                                           # Calcular la desviación estandar\n",
    "    \n",
    "    return desv\n"
   ]
  },
  {
   "cell_type": "code",
   "execution_count": 18,
   "metadata": {},
   "outputs": [
    {
     "name": "stderr",
     "output_type": "stream",
     "text": [
      "....................................................................................................\n",
      "----------------------------------------------------------------------\n",
      "Ran 100 tests in 0.099s\n",
      "\n",
      "OK\n"
     ]
    }
   ],
   "source": [
    "# Para testear tu función\n",
    "test_stdev(st_dev)"
   ]
  },
  {
   "cell_type": "markdown",
   "metadata": {},
   "source": [
    "## 10. Escribe una función para verificar si una cadena es un pangrama, es decir: si contiene todas las letras del alfabeto al menos una vez. Ten en cuenta que las cadenas pueden contener caracteres que no son letras."
   ]
  },
  {
   "cell_type": "code",
   "execution_count": 19,
   "metadata": {},
   "outputs": [],
   "source": [
    "def pangram(string):\n",
    "    '''\n",
    "    USO: Verifica si una cadena es un pangrama\n",
    "    PARAMETROS: string[str]: cadena a verificar\n",
    "    VARIABLES: alf[lst]:  lista de letras del alfabeto \n",
    "               esPan[bool]: Indica si la cadena es un pangrama (True) o no lo es (False)\n",
    "               i[int]: contador de while\n",
    "    DEVOLUCION: esPan[bool]: Indica si la cadena es un pangrama (True) o no lo es (False)\n",
    "    '''\n",
    "    esPan = True\n",
    "    \n",
    "    alf=['a','b','c','d','e','f','g','h','i','j','k','l','m','n','o','p','q','r','s','t','u','v','w','x','y','z']\n",
    "    \n",
    "    i=0\n",
    "    \n",
    "    while i in range (len(alf)) and esPan:   # Recorremos la lista de letras del alfabeto mientras pueda ser pangrama\n",
    "        if alf[i] not in string.lower():   # Si no está la letra no es un pangrama\n",
    "             esPan = False\n",
    "        i+=1\n",
    "    return esPan\n"
   ]
  },
  {
   "cell_type": "code",
   "execution_count": 20,
   "metadata": {},
   "outputs": [
    {
     "name": "stderr",
     "output_type": "stream",
     "text": [
      "..............................\n",
      "----------------------------------------------------------------------\n",
      "Ran 30 tests in 0.016s\n",
      "\n",
      "OK\n"
     ]
    }
   ],
   "source": [
    "# Para testear tu función\n",
    "test_pangram(pangram)"
   ]
  },
  {
   "cell_type": "markdown",
   "metadata": {},
   "source": [
    "## 11. Escribe una función que reciba una cadena de palabras separadas por comas y devuelva una cadena de palabras separadas por comas ordenadas alfabéticamente.\n",
    "\n",
    "`NOTA: Puedes usar sorted pero no split y definitivamente no join! 🤪`"
   ]
  },
  {
   "cell_type": "code",
   "execution_count": 21,
   "metadata": {},
   "outputs": [],
   "source": [
    "def sort_alpha(string):\n",
    "    '''\n",
    "    USO: Recibe una cadena de palabras separadas por comas y devuelve una cadena de palabras separadas por comas ordenadas alfabéticamente\n",
    "    PARAMETROS: string[str]: cadena de palabras\n",
    "    VARIABLES:  pal[str]: palabra de la cadena de palabras\n",
    "                pals[list]: lista de palabras\n",
    "                str_ord[str]: cadena de palabras ordenadas alfabéticamente\n",
    "    DEVOLUCION: str_ord[str]: cadena de palabras ordenadas alfabéticamente\n",
    "    '''\n",
    "    lt=\"\"\n",
    "    pal=\"\"\n",
    "    pals=[]\n",
    "    str_ord=\"\"\n",
    "    \n",
    "    for lt in string:\n",
    "        if lt == \",\":                 # Si es una coma añado la palabra en pals\n",
    "            if len(pal)>0:            # Si hay una palabra la añado a la lista\n",
    "                pals.append(pal)\n",
    "                pal = \"\"\n",
    "        else:\n",
    "            pal += lt                # Si no es una coma añado la letra a la  palabra\n",
    "    if len(pal)>0:                   # Añado la última palabra\n",
    "        pals.append(pal)\n",
    "            \n",
    "    pals=sorted(pals)               # Ordeno las palabras\n",
    "    \n",
    "    for pal in pals:                # Recorrer la lista de palabras ordenadas\n",
    "        str_ord += \",\" + pal        # Añadir palabra al string de palabras ordenadas\n",
    "    \n",
    "    return str_ord.lstrip(\",\")             # Elimino la última coma y devuelve el string ordenado\n",
    "    \n",
    "       \n"
   ]
  },
  {
   "cell_type": "code",
   "execution_count": 22,
   "metadata": {},
   "outputs": [
    {
     "name": "stderr",
     "output_type": "stream",
     "text": [
      "....................................................................................................\n",
      "----------------------------------------------------------------------\n",
      "Ran 100 tests in 0.061s\n",
      "\n",
      "OK\n"
     ]
    }
   ],
   "source": [
    "# Para testear tu función \n",
    "test_alpha(sort_alpha)"
   ]
  },
  {
   "cell_type": "markdown",
   "metadata": {},
   "source": [
    "## 12. Escribe una función para verificar si una contraseña dada es fuerte (al menos 8 caracteres, al menos una minúscula, al menos una mayúscula, al menos un número y al menos un carácter especial). Debería devolver True si es fuerte y False si no lo es."
   ]
  },
  {
   "cell_type": "code",
   "execution_count": 36,
   "metadata": {},
   "outputs": [],
   "source": [
    "def check_pass(password):\n",
    "    '''\n",
    "    USO: Verifica si una contraseña dada es fuerte\n",
    "    PARAMETROS: password[str]: cadena del password\n",
    "    FUNCION: cumple_cond: Verifica si se cumple una condicion\n",
    "    VARIABLES:  esFuerte[bool]: Si es fuerte (True) o no lo es(False)\n",
    "    DEVOLUCION: esFuerte[bool]: Si es fuerte (True) o no lo es(False)\n",
    "    '''\n",
    "    esFuerte = True\n",
    "\n",
    "\n",
    "    def cumple_cond(pwd,cond):\n",
    "        '''\n",
    "        USO: Verifica si una condicion  dada se cumple\n",
    "        PARAMETROS: pwd[str]: cadena del password\n",
    "                    cond[str]: condicion a cumplir\n",
    "        VARIABLES:  cumple[bool]: Si cumple la condicion (True) o no la cumple(False)\n",
    "                    car_esp[list]: Lista de caracteres especiales\n",
    "        DEVOLUCION: cumple[bool]: Si cumple la condicion (True) o no la cumple(False)\n",
    "        '''\n",
    "        cumple=False\n",
    "        i=0\n",
    "        while i<len(pwd) and cumple==False:   # Comprobar si aun puede ser fuerte\n",
    "            if cond==\"lower\":                 # Comprobar si es minuscula \n",
    "                if pwd[i].islower(): \n",
    "                    cumple = True\n",
    "            elif cond==\"upper\":                # Comprobar si es  mayuscula\n",
    "                if pwd[i].isupper():\n",
    "                    cumple = True\n",
    "            elif cond==\"digit\":                # Comprobar si es  un numero\n",
    "                if pwd[i].isdigit():\n",
    "                    cumple = True\n",
    "            else:\n",
    "                car_esp=['@','#','$','%','&',\"(\",')','?','¿',\"!\",'¡','[',']','{','}','*','\"','^']\n",
    "                if password[i] in car_esp:    # Comprobar si es caracter especial\n",
    "                    cumple = True\n",
    "            i+=1\n",
    "        return cumple\n",
    "        \n",
    "    \n",
    "    if len(password)<8:  # Comprobar si tiene al menos 8 caracteres\n",
    "        esFuerte = False\n",
    "    if esFuerte: \n",
    "        esFuerte= cumple_cond(password,\"lower\")   # Si cumple puede ser fuerte\n",
    "    if esFuerte:\n",
    "        esFuerte= cumple_cond(password,\"upper\")   # Si cumple puede ser fuerte\n",
    "    if esFuerte:   \n",
    "        esFuerte= cumple_cond(password,\"digit\")   # Si cumple puede ser fuerte\n",
    "    if esFuerte:\n",
    "        esFuerte= cumple_cond(password,\"car_esp\") # Si cumple puede ser fuerte\n",
    "        \n",
    "    return esFuerte    # Si cumple es una contraseña fuerte\n",
    "        \n"
   ]
  },
  {
   "cell_type": "code",
   "execution_count": 37,
   "metadata": {},
   "outputs": [
    {
     "name": "stderr",
     "output_type": "stream",
     "text": [
      "....................................................................................................\n",
      "----------------------------------------------------------------------\n",
      "Ran 100 tests in 0.056s\n",
      "\n",
      "OK\n"
     ]
    }
   ],
   "source": [
    "# Para testear tu función\n",
    "test_pass(check_pass)"
   ]
  },
  {
   "cell_type": "code",
   "execution_count": null,
   "metadata": {},
   "outputs": [],
   "source": []
  }
 ],
 "metadata": {
  "kernelspec": {
   "display_name": "Python 3 (ipykernel)",
   "language": "python",
   "name": "python3"
  },
  "language_info": {
   "codemirror_mode": {
    "name": "ipython",
    "version": 3
   },
   "file_extension": ".py",
   "mimetype": "text/x-python",
   "name": "python",
   "nbconvert_exporter": "python",
   "pygments_lexer": "ipython3",
   "version": "3.12.3"
  },
  "vscode": {
   "interpreter": {
    "hash": "aee8b7b246df8f9039afb4144a1f6fd8d2ca17a180786b69acc140d282b71a49"
   }
  }
 },
 "nbformat": 4,
 "nbformat_minor": 4
}
